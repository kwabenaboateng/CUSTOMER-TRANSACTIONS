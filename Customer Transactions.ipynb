{
 "cells": [
  {
   "cell_type": "markdown",
   "id": "9835c07e",
   "metadata": {},
   "source": [
    "## <b><center>CUSTOMER TRANSACTIONS</b></center>"
   ]
  },
  {
   "cell_type": "markdown",
   "id": "aa0d7f17",
   "metadata": {},
   "source": [
    "##### <b>IMPORT LIBRARY PACKAGES</b>"
   ]
  },
  {
   "cell_type": "code",
   "execution_count": null,
   "id": "2d9a89c2",
   "metadata": {},
   "outputs": [],
   "source": [
    "import numpy as np\n",
    "import pandas as pd\n",
    "import seaborn as sns\n",
    "import plotly.express as px\n",
    "from datetime import datetime\n",
    "import matplotlib.pyplot as plt\n",
    "\n",
    "from sklearn.cluster import KMeans\n",
    "from sklearn.preprocessing import LabelEncoder \n",
    "from sklearn.tree import DecisionTreeClassifier\n",
    "from sklearn.preprocessing import StandardScaler\n",
    "from sklearn.linear_model import LinearRegression\n",
    "from sklearn.ensemble import RandomForestClassifier\n",
    "from sklearn.model_selection import train_test_split\n",
    "from sklearn.metrics import mean_squared_error, r2_score\n",
    "from sklearn.metrics import accuracy_score, classification_report"
   ]
  },
  {
   "cell_type": "markdown",
   "id": "1e2c112e",
   "metadata": {},
   "source": [
    "##### <b>LOAD & DISPLAY DATASET</b>"
   ]
  },
  {
   "cell_type": "code",
   "execution_count": null,
   "id": "c46a87fd",
   "metadata": {},
   "outputs": [],
   "source": [
    "customer_transactions = pd.read_csv(\"sample_dataset.csv\")\n",
    "customer_transactions"
   ]
  },
  {
   "cell_type": "markdown",
   "id": "58ff555f",
   "metadata": {},
   "source": [
    "##### <b>DATA UNDERSTANDING</b>"
   ]
  },
  {
   "cell_type": "markdown",
   "id": "c476c90a",
   "metadata": {},
   "source": [
    "The data consists of customer transaction records with the following columns:\n",
    "\n",
    "* customer_id: Unique identifier for each customer.\n",
    "\n",
    "* Name: First name of the customer.\n",
    "\n",
    "* Surname: Last name of the customer.\n",
    "\n",
    "* Gender: the sexual orientation of the customer.\n",
    "\n",
    "* Birthdate: the day, month and year the customer was born.\n",
    "\n",
    "* Transaction Amount: Amount of transaction made.\n",
    "* Date: Date of the transaction.\n",
    "* Merchant Name: the name of the merchant making the transactions.\n",
    "* Category: Product category."
   ]
  },
  {
   "cell_type": "markdown",
   "id": "4100d3d1",
   "metadata": {},
   "source": [
    "##### <b>DATA EXPLORATION</b>"
   ]
  },
  {
   "cell_type": "markdown",
   "id": "87a448c1",
   "metadata": {},
   "source": [
    "CHECK THE SHAPE"
   ]
  },
  {
   "cell_type": "code",
   "execution_count": null,
   "id": "550b2b1a",
   "metadata": {},
   "outputs": [],
   "source": [
    "print('The number of rows and columns in this dataset is', customer_transactions.shape, 'respectively')"
   ]
  },
  {
   "cell_type": "markdown",
   "id": "da2b3b90",
   "metadata": {},
   "source": [
    "CHECK THE SIZE"
   ]
  },
  {
   "cell_type": "code",
   "execution_count": null,
   "id": "7b2ca365",
   "metadata": {},
   "outputs": [],
   "source": [
    "print('The size of this dataset is', customer_transactions.size) "
   ]
  },
  {
   "cell_type": "markdown",
   "id": "bceb7d9d",
   "metadata": {},
   "source": [
    "CHECK THE COLUMNS"
   ]
  },
  {
   "cell_type": "code",
   "execution_count": null,
   "id": "6975c674",
   "metadata": {},
   "outputs": [],
   "source": [
    "customer_transactions.columns"
   ]
  },
  {
   "cell_type": "markdown",
   "id": "62cc7edf",
   "metadata": {},
   "source": [
    "CHECK INFO"
   ]
  },
  {
   "cell_type": "code",
   "execution_count": null,
   "id": "a8986b39",
   "metadata": {},
   "outputs": [],
   "source": [
    "customer_transactions.info()"
   ]
  },
  {
   "cell_type": "markdown",
   "id": "db847815",
   "metadata": {},
   "source": [
    "SUMMARY STATISTICS"
   ]
  },
  {
   "cell_type": "code",
   "execution_count": null,
   "id": "e17e7aaa",
   "metadata": {},
   "outputs": [],
   "source": [
    "customer_transactions.describe(include='all').T "
   ]
  },
  {
   "cell_type": "markdown",
   "id": "1c3736e9",
   "metadata": {},
   "source": [
    "##### <b>DATA PREPARATION</b>"
   ]
  },
  {
   "cell_type": "markdown",
   "id": "d311fc85",
   "metadata": {},
   "source": [
    "CHECK FOR MISSING VALUES"
   ]
  },
  {
   "cell_type": "code",
   "execution_count": null,
   "id": "669e67c0",
   "metadata": {},
   "outputs": [],
   "source": [
    "customer_transactions.isna()"
   ]
  },
  {
   "cell_type": "code",
   "execution_count": null,
   "id": "b2a374ed",
   "metadata": {},
   "outputs": [],
   "source": [
    "customer_transactions.isna().sum()"
   ]
  },
  {
   "cell_type": "markdown",
   "id": "7f3e42e1",
   "metadata": {},
   "source": [
    "DISPLAY HEATMAP FOR MISSING VALUES"
   ]
  },
  {
   "cell_type": "code",
   "execution_count": null,
   "id": "db98380a",
   "metadata": {},
   "outputs": [],
   "source": [
    "# Create a boolean DataFrame indicating missing values\n",
    "missing_values = customer_transactions.isna()\n",
    "\n",
    "# Plot the heatmap\n",
    "fig = px.imshow(missing_values, aspect=\"auto\", color_continuous_scale='Viridis', title='Missing Values Heatmap')\n",
    "\n",
    "# Customize the axes and color scale\n",
    "fig.update_layout(xaxis_title='Columns', yaxis_title='Index')\n",
    "fig.update_coloraxes(colorbar_title='Missing')\n",
    "\n",
    "# Show the plot\n",
    "fig.show()"
   ]
  },
  {
   "cell_type": "markdown",
   "id": "5161c6a6",
   "metadata": {},
   "source": [
    "##### <b>DATA CLEANING</b>"
   ]
  },
  {
   "cell_type": "code",
   "execution_count": null,
   "id": "3efa1594",
   "metadata": {},
   "outputs": [],
   "source": [
    "customer_transactions_copy = customer_transactions.copy"
   ]
  },
  {
   "cell_type": "markdown",
   "id": "e0b0c854",
   "metadata": {},
   "source": [
    "CHECK UNIQUE VALUES IN THE GENDER COLUMN"
   ]
  },
  {
   "cell_type": "code",
   "execution_count": null,
   "id": "ef64a6ef",
   "metadata": {},
   "outputs": [],
   "source": [
    "customer_transactions['Gender'].unique()"
   ]
  },
  {
   "cell_type": "markdown",
   "id": "d07804e1",
   "metadata": {},
   "source": [
    "CHECK THE VALUE COUNT OF EACH GENDER"
   ]
  },
  {
   "cell_type": "code",
   "execution_count": null,
   "id": "634e7b82",
   "metadata": {},
   "outputs": [],
   "source": [
    "customer_transactions['Gender'].value_counts()"
   ]
  },
  {
   "cell_type": "markdown",
   "id": "6c9940e4",
   "metadata": {},
   "source": [
    "REPLACE THE INITIALS OF THE GENDER TO FULL NAME"
   ]
  },
  {
   "cell_type": "code",
   "execution_count": null,
   "id": "87c38c26",
   "metadata": {},
   "outputs": [],
   "source": [
    "customer_transactions['Gender'] = customer_transactions['Gender'].replace('F', 'Female')\n",
    "customer_transactions['Gender'] = customer_transactions['Gender'].replace('M', 'Male')"
   ]
  },
  {
   "cell_type": "markdown",
   "id": "6938821a",
   "metadata": {},
   "source": [
    "FILL NAN VALUES WITH UNKNOWN"
   ]
  },
  {
   "cell_type": "code",
   "execution_count": null,
   "id": "806e2cbc",
   "metadata": {},
   "outputs": [],
   "source": [
    "#Replace nan values in the Gender column with \"Unknown\"\n",
    "customer_transactions['Gender'].fillna('Prefer not to say', inplace=True)"
   ]
  },
  {
   "cell_type": "markdown",
   "id": "7b41998b",
   "metadata": {},
   "source": [
    "CHECK VALUE COUNTS AFTER THE CORRECTION AND REPLACEMENT"
   ]
  },
  {
   "cell_type": "code",
   "execution_count": null,
   "id": "88c89ffa",
   "metadata": {},
   "outputs": [],
   "source": [
    "customer_transactions['Gender'].value_counts()"
   ]
  },
  {
   "cell_type": "code",
   "execution_count": null,
   "id": "99c3280c",
   "metadata": {},
   "outputs": [],
   "source": [
    "# Create a boolean DataFrame indicating missing values\n",
    "missing_values = customer_transactions.isna()\n",
    "\n",
    "# Plot the heatmap\n",
    "fig = px.imshow(missing_values, aspect=\"auto\", color_continuous_scale='Viridis', title='Missing Values Heatmap')\n",
    "\n",
    "# Customize the axes and color scale\n",
    "fig.update_layout(xaxis_title='Columns', yaxis_title='Index')\n",
    "fig.update_coloraxes(colorbar_title='Missing')\n",
    "\n",
    "# Show the plot\n",
    "fig.show()"
   ]
  },
  {
   "cell_type": "code",
   "execution_count": null,
   "id": "f5f5e5b8",
   "metadata": {},
   "outputs": [],
   "source": [
    "customer_transactions.isnull().sum()"
   ]
  },
  {
   "cell_type": "markdown",
   "id": "aec24209",
   "metadata": {},
   "source": [
    "##### <b>EXPLORATION DATA ANALYSIS, (E.D.A) </b>"
   ]
  },
  {
   "cell_type": "code",
   "execution_count": null,
   "id": "3bf63947",
   "metadata": {},
   "outputs": [],
   "source": [
    "customer_transactions.hist(figsize=(10,4))"
   ]
  },
  {
   "cell_type": "markdown",
   "id": "f2ab5d5f",
   "metadata": {},
   "source": [
    "UNIVARIATE ANALYSIS ON EACH COLUMN"
   ]
  },
  {
   "cell_type": "markdown",
   "id": "c5069308",
   "metadata": {},
   "source": [
    "CUSTOMER ID"
   ]
  },
  {
   "cell_type": "code",
   "execution_count": null,
   "id": "c957654f",
   "metadata": {},
   "outputs": [],
   "source": [
    "print(\"Number of unique Customer IDs:\", customer_transactions['Customer ID'].nunique())"
   ]
  },
  {
   "cell_type": "markdown",
   "id": "33202e5a",
   "metadata": {},
   "source": [
    "NAME"
   ]
  },
  {
   "cell_type": "code",
   "execution_count": null,
   "id": "263b9226",
   "metadata": {},
   "outputs": [],
   "source": [
    "print(\"Most common names:\\n\", customer_transactions['Name'].value_counts().head())"
   ]
  },
  {
   "cell_type": "markdown",
   "id": "01cd5e14",
   "metadata": {},
   "source": [
    "SURNAME"
   ]
  },
  {
   "cell_type": "code",
   "execution_count": null,
   "id": "dc780664",
   "metadata": {},
   "outputs": [],
   "source": [
    "print(\"Most common surnames:\\n\", customer_transactions['Surname'].value_counts().head())"
   ]
  },
  {
   "cell_type": "markdown",
   "id": "6cccd512",
   "metadata": {},
   "source": [
    "GENDER"
   ]
  },
  {
   "cell_type": "code",
   "execution_count": null,
   "id": "c9262c40",
   "metadata": {},
   "outputs": [],
   "source": [
    "# Calculate gender counts\n",
    "gender_counts = customer_transactions['Gender'].value_counts()\n",
    "\n",
    "# Create a bar plot using Plotly\n",
    "fig = px.bar(gender_counts, x=gender_counts.index, y=gender_counts.values, title='Gender Distribution')\n",
    "fig.update_layout(xaxis_title='Gender', yaxis_title='Count')\n",
    "fig.show()"
   ]
  },
  {
   "cell_type": "markdown",
   "id": "26b1fc88",
   "metadata": {},
   "source": [
    "BIRTHDATE"
   ]
  },
  {
   "cell_type": "code",
   "execution_count": null,
   "id": "52c026f8",
   "metadata": {},
   "outputs": [],
   "source": [
    "# Convert Birthdate to datetime and extract Birth Year\n",
    "customer_transactions['Birthdate'] = pd.to_datetime(customer_transactions['Birthdate'])\n",
    "customer_transactions['Birth Year'] = customer_transactions['Birthdate'].dt.year\n",
    "\n",
    "# Create a histogram of Birth Year using Plotly\n",
    "fig = px.histogram(customer_transactions, x='Birth Year', title='Birth Year Distribution')\n",
    "fig.update_layout(xaxis_title='Birth Year', yaxis_title='Count')\n",
    "fig.show()"
   ]
  },
  {
   "cell_type": "markdown",
   "id": "a214db0c",
   "metadata": {},
   "source": [
    "TRANSACTION AMOUNT"
   ]
  },
  {
   "cell_type": "code",
   "execution_count": null,
   "id": "04fa197b",
   "metadata": {},
   "outputs": [],
   "source": [
    "# Transaction Amount\n",
    "\n",
    "# Create a histogram of Transaction Amount using Plotly Express\n",
    "fig = px.histogram(customer_transactions, x='Transaction Amount', title='Transaction Amount Distribution')\n",
    "fig.update_layout(xaxis_title='Transaction Amount', yaxis_title='Count')\n",
    "fig.show()"
   ]
  },
  {
   "cell_type": "markdown",
   "id": "c53da778",
   "metadata": {},
   "source": [
    "##### <b>BUSINESS ANALYSIS QUESTION</b>"
   ]
  },
  {
   "cell_type": "markdown",
   "id": "e600132a",
   "metadata": {},
   "source": [
    "Which category made the highest sales during the period?"
   ]
  },
  {
   "cell_type": "markdown",
   "id": "db8acdf3",
   "metadata": {},
   "source": [
    "1. What is the distribution of transaction amounts across different genders?"
   ]
  },
  {
   "cell_type": "code",
   "execution_count": null,
   "metadata": {},
   "outputs": [],
   "source": [
    "# Box plot of transaction amounts by gender\n",
    "fig1 = px.histogram(customer_transactions, x='Gender', y='Transaction Amount', title='Transaction Amount by Gender')\n",
    "fig1.show()"
   ]
  },
  {
   "cell_type": "markdown",
   "id": "531c5823",
   "metadata": {},
   "source": [
    "2. How does the transaction amount vary by category?"
   ]
  },
  {
   "cell_type": "code",
   "execution_count": null,
   "id": "19545eb8",
   "metadata": {},
   "outputs": [],
   "source": [
    "# Create a box plot with color grading by category using Plotly Express\n",
    "fig2 = px.box(customer_transactions, \n",
    "              x='Category', \n",
    "              y='Transaction Amount', \n",
    "              title='Transaction Amount by Category', \n",
    "              color='Category', \n",
    "              color_discrete_sequence=px.colors.qualitative.Vivid)\n",
    "\n",
    "fig2.update_layout(xaxis_title='Category', yaxis_title='Transaction Amount')\n",
    "fig2.show()"
   ]
  },
  {
   "cell_type": "code",
   "execution_count": null,
   "id": "95abd3a4",
   "metadata": {},
   "outputs": [],
   "source": [
    "# Box plot of transaction amounts by category\n",
    "fig2 = px.box(customer_transactions, x='Category', y='Transaction Amount', title='Transaction Amount by Category')\n",
    "fig2.update_layout(xaxis_title='Category', yaxis_title='Transaction Amount')\n",
    "fig2.show()"
   ]
  },
  {
   "cell_type": "markdown",
   "id": "f0b22efa",
   "metadata": {},
   "source": [
    "3. Which merchants have the highest number of transactions?"
   ]
  },
  {
   "cell_type": "code",
   "execution_count": null,
   "metadata": {},
   "outputs": [],
   "source": [
    "# Bar plot of the number of transactions by merchant\n",
    "merchant_counts = customer_transactions['Merchant Name'].value_counts().nlargest(10).reset_index()\n",
    "merchant_counts.columns = ['Merchant Name', 'Number of Transactions']\n",
    "\n",
    "# Create a bar plot with color grading using Plotly Express\n",
    "fig = px.bar(merchant_counts, \n",
    "             x='Merchant Name', \n",
    "             y='Number of Transactions', \n",
    "             title='Top 10 Merchants by Number of Transactions', \n",
    "             color='Number of Transactions', \n",
    "             color_continuous_scale='Viridis')\n",
    "\n",
    "fig.update_layout(xaxis_title='Merchant Name', yaxis_title='Number of Transactions')\n",
    "fig.show()"
   ]
  },
  {
   "cell_type": "markdown",
   "id": "ef787c7e",
   "metadata": {},
   "source": [
    "4. How do transaction amounts vary over time?"
   ]
  },
  {
   "cell_type": "code",
   "execution_count": null,
   "metadata": {},
   "outputs": [],
   "source": [
    "# Convert 'Date' to datetime if it's not already\n",
    "customer_transactions['Date'] = pd.to_datetime(customer_transactions['Date'])\n",
    "\n",
    "# Line plot of transaction amounts over time\n",
    "customer_transactions.set_index('Date', inplace=True)\n",
    "monthly_transactions = customer_transactions['Transaction Amount'].resample('M').sum()\n",
    "fig4 = px.line(monthly_transactions, title='Monthly Transaction Amounts Over Time')\n",
    "fig4.update_layout(xaxis_title='Date', yaxis_title='Total Transaction Amount')\n",
    "fig4.show()"
   ]
  },
  {
   "cell_type": "markdown",
   "id": "608241bd",
   "metadata": {},
   "source": [
    "5. What is the relationship between customer age and transaction amount?"
   ]
  },
  {
   "cell_type": "code",
   "execution_count": null,
   "metadata": {},
   "outputs": [],
   "source": [
    "# Calculate customer age\n",
    "customer_transactions['Birthdate'] = pd.to_datetime(customer_transactions['Birthdate'])\n",
    "customer_transactions['Age'] = pd.to_datetime('today').year - customer_transactions['Birthdate'].dt.year\n",
    "\n",
    "# Scatter plot of transaction amount by age\n",
    "fig5 = px.scatter(customer_transactions, x='Age', y='Transaction Amount', title='Transaction Amount by Age')\n",
    "fig5.update_layout(xaxis_title='Age', yaxis_title='Transaction Amount')\n",
    "fig5.show()"
   ]
  },
  {
   "cell_type": "code",
   "execution_count": null,
   "metadata": {},
   "outputs": [],
   "source": []
  },
  {
   "cell_type": "code",
   "execution_count": null,
   "metadata": {},
   "outputs": [],
   "source": []
  },
  {
   "cell_type": "code",
   "execution_count": null,
   "metadata": {},
   "outputs": [],
   "source": []
  },
  {
   "cell_type": "code",
   "execution_count": null,
   "metadata": {},
   "outputs": [],
   "source": []
  },
  {
   "cell_type": "code",
   "execution_count": null,
   "metadata": {},
   "outputs": [],
   "source": []
  },
  {
   "cell_type": "code",
   "execution_count": null,
   "metadata": {},
   "outputs": [],
   "source": []
  },
  {
   "cell_type": "code",
   "execution_count": null,
   "metadata": {},
   "outputs": [],
   "source": []
  },
  {
   "cell_type": "code",
   "execution_count": null,
   "metadata": {},
   "outputs": [],
   "source": []
  },
  {
   "cell_type": "code",
   "execution_count": null,
   "metadata": {},
   "outputs": [],
   "source": []
  },
  {
   "cell_type": "code",
   "execution_count": null,
   "metadata": {},
   "outputs": [],
   "source": []
  },
  {
   "cell_type": "markdown",
   "id": "56d902ba",
   "metadata": {},
   "source": [
    "MACHINE LEARNING"
   ]
  },
  {
   "cell_type": "code",
   "execution_count": null,
   "metadata": {},
   "outputs": [],
   "source": [
    "# Encode categorical variables\n",
    "label_encoders = {}\n",
    "for column in ['Gender', 'Category', 'Merchant Name']:\n",
    "    le = LabelEncoder()\n",
    "    customer_transactions[column] = le.fit_transform(customer_transactions[column])\n",
    "    label_encoders[column] = le\n",
    "\n",
    "# Feature Engineering\n",
    "# Convert 'Birthdate' to age\n",
    "customer_transactions['Birthdate'] = pd.to_datetime(customer_transactions['Birthdate'])\n",
    "customer_transactions['Age'] = pd.to_datetime('today').year - customer_transactions['Birthdate'].dt.year\n",
    "\n",
    "# Ensure 'Date' is datetime\n",
    "customer_transactions['Date'] = pd.to_datetime(customer_transactions['Date'])\n",
    "\n",
    "# Extract date features\n",
    "customer_transactions['Year'] = customer_transactions['Date'].dt.year\n",
    "customer_transactions['Month'] = customer_transactions['Date'].dt.month\n",
    "customer_transactions['Day'] = customer_transactions['Date'].dt.day\n",
    "\n",
    "# Drop columns that won't be used\n",
    "customer_transactions.drop(columns=['Customer ID', 'Name', 'Surname', 'Birthdate', 'Date'], inplace=True)\n",
    "\n",
    "# Split the data into training and test sets\n",
    "X = customer_transactions.drop(columns=['Transaction Amount'])\n",
    "y = customer_transactions['Transaction Amount']\n",
    "X_train, X_test, y_train, y_test = train_test_split(X, y, test_size=0.2, random_state=42)\n",
    "\n",
    "# Train a regression model\n",
    "model = LinearRegression()\n",
    "model.fit(X_train, y_train)\n",
    "\n",
    "# Make predictions\n",
    "y_pred = model.predict(X_test)\n",
    "\n",
    "# Evaluate the model\n",
    "mse = mean_squared_error(y_test, y_pred)\n",
    "r2 = r2_score(y_test, y_pred)\n",
    "\n",
    "print(f\"Mean Squared Error: {mse}\")\n",
    "print(f\"R-squared: {r2}\")\n",
    "\n",
    "# Plot actual vs. predicted transaction amounts\n",
    "results = pd.DataFrame({'Actual': y_test, 'Predicted': y_pred})\n",
    "fig = px.scatter(results, x='Actual', y='Predicted', title='Actual vs. Predicted Transaction Amounts')\n",
    "fig.show()"
   ]
  },
  {
   "cell_type": "code",
   "execution_count": null,
   "metadata": {},
   "outputs": [],
   "source": []
  },
  {
   "cell_type": "code",
   "execution_count": null,
   "metadata": {},
   "outputs": [],
   "source": []
  },
  {
   "cell_type": "code",
   "execution_count": null,
   "id": "3d097ecd",
   "metadata": {},
   "outputs": [],
   "source": [
    "# Date\n",
    "customer_transactions['Date'] = pd.to_datetime(customer_transactions['Date'])\n",
    "customer_transactions['Year'] = customer_transactions['Date'].dt.year\n",
    "customer_transactions['Month'] = customer_transactions['Date'].dt.month\n",
    "customer_transactions['Day'] = customer_transactions['Date'].dt.day\n",
    "\n",
    "sns.countplot(x='Year', data=customer_transactions)\n",
    "plt.title('Transactions per Year')\n",
    "plt.show()\n",
    "\n",
    "sns.countplot(x='Month', data=customer_transactions)\n",
    "plt.title('Transactions per Month')\n",
    "plt.show()\n",
    "\n",
    "sns.countplot(x='Day', data=customer_transactions)\n",
    "plt.title('Transactions per Day')\n",
    "plt.show()"
   ]
  },
  {
   "cell_type": "code",
   "execution_count": null,
   "id": "77503f95",
   "metadata": {},
   "outputs": [],
   "source": [
    "# Merchant Name\n",
    "print(\"Most common merchants:\\n\", customer_transactions['Merchant Name'].value_counts().head())\n",
    "\n",
    "# Category\n",
    "category_counts = customer_transactions['Category'].value_counts()\n",
    "sns.barplot(x=category_counts.index, y=category_counts.values)\n",
    "plt.xticks(rotation=90)\n",
    "plt.title('Transaction Category Distribution')\n",
    "plt.show()"
   ]
  },
  {
   "cell_type": "markdown",
   "id": "16106a23",
   "metadata": {},
   "source": [
    "BIVARIATE ANALYSIS"
   ]
  },
  {
   "cell_type": "markdown",
   "id": "8c0dd7c4",
   "metadata": {},
   "source": [
    "Gender vs. Transaction Amount:"
   ]
  },
  {
   "cell_type": "code",
   "execution_count": null,
   "id": "18d013c9",
   "metadata": {},
   "outputs": [],
   "source": [
    "sns.boxplot(x='Gender', y='Transaction Amount', data=customer_transactions)\n",
    "plt.title('Transaction Amount by Gender')\n",
    "plt.show()"
   ]
  },
  {
   "cell_type": "markdown",
   "id": "81a2f620",
   "metadata": {},
   "source": [
    "Birth Year vs. Transaction Amount:"
   ]
  },
  {
   "cell_type": "code",
   "execution_count": null,
   "id": "e74861b0",
   "metadata": {},
   "outputs": [],
   "source": [
    "customer_transactions['Birthdate'] = pd.to_datetime(customer_transactions['Birthdate'])\n",
    "customer_transactions['Birth Year'] = customer_transactions['Birthdate'].dt.year\n",
    "sns.scatterplot(x='Birth Year', y='Transaction Amount', data=customer_transactions)\n",
    "plt.title('Transaction Amount by Birth Year')\n",
    "plt.show()"
   ]
  },
  {
   "cell_type": "markdown",
   "id": "6d52cce2",
   "metadata": {},
   "source": [
    "Date vs. Transaction Amount:"
   ]
  },
  {
   "cell_type": "code",
   "execution_count": null,
   "id": "deee9086",
   "metadata": {},
   "outputs": [],
   "source": [
    "customer_transactions['Date'] = pd.to_datetime(customer_transactions['Date'])\n",
    "customer_transactions.set_index('Date', inplace=True)\n",
    "customer_transactions['Transaction Amount'].resample('M').sum().plot()\n",
    "plt.title('Monthly Transaction Amounts Over Time')\n",
    "plt.xlabel('Date')\n",
    "plt.ylabel('Total Transaction Amount')\n",
    "plt.show()"
   ]
  },
  {
   "cell_type": "markdown",
   "id": "d47184cc",
   "metadata": {},
   "source": [
    "Category vs. Transaction Amount:"
   ]
  },
  {
   "cell_type": "code",
   "execution_count": null,
   "id": "f1fa54c0",
   "metadata": {},
   "outputs": [],
   "source": [
    "sns.boxplot(x='Category', y='Transaction Amount', data=customer_transactions)\n",
    "plt.xticks(rotation=-45)\n",
    "plt.title('Transaction Amount by Category')\n",
    "plt.show()"
   ]
  },
  {
   "cell_type": "markdown",
   "id": "21076921",
   "metadata": {},
   "source": [
    "Merchant Name vs. Transaction Amount:"
   ]
  },
  {
   "cell_type": "code",
   "execution_count": null,
   "id": "f0aabbac",
   "metadata": {},
   "outputs": [],
   "source": [
    "top_merchants = customer_transactions['Merchant Name'].value_counts().index[:10]  # Select top 10 merchants for better visualization\n",
    "sns.boxplot(x='Merchant Name', y='Transaction Amount', data=customer_transactions[customer_transactions['Merchant Name'].isin(top_merchants)])\n",
    "plt.xticks(rotation=90)\n",
    "plt.title('Transaction Amount by Merchant')\n",
    "plt.show()"
   ]
  },
  {
   "cell_type": "markdown",
   "id": "8105a405",
   "metadata": {},
   "source": [
    "Gender vs. Category:"
   ]
  },
  {
   "cell_type": "code",
   "execution_count": null,
   "id": "47dd4ed5",
   "metadata": {},
   "outputs": [],
   "source": [
    "gender_category_counts = pd.crosstab(customer_transactions['Gender'], customer_transactions['Category'])\n",
    "sns.heatmap(gender_category_counts, annot=True, fmt='d', cmap='YlGnBu')\n",
    "plt.title('Gender vs. Category')\n",
    "plt.show()"
   ]
  },
  {
   "cell_type": "markdown",
   "id": "fbd902cd",
   "metadata": {},
   "source": [
    "Gender vs. Merchant Name:"
   ]
  },
  {
   "cell_type": "code",
   "execution_count": null,
   "id": "77258259",
   "metadata": {},
   "outputs": [],
   "source": [
    "gender_merchant_counts = pd.crosstab(customer_transactions['Gender'], customer_transactions['Merchant Name'])\n",
    "sns.heatmap(gender_merchant_counts, annot=True, fmt='d', cmap='YlGnBu')\n",
    "plt.title('Gender vs. Merchant Name')\n",
    "plt.show()"
   ]
  },
  {
   "cell_type": "code",
   "execution_count": null,
   "id": "6aceeebb",
   "metadata": {},
   "outputs": [],
   "source": [
    "# Question 1: Gender distribution of customers\n",
    "gender_counts = customer_transactions['Gender'].value_counts()\n",
    "gender_distribution = gender_counts / gender_counts.sum() * 100\n",
    "print(\"Gender Distribution:\\n\", gender_distribution)\n",
    "\n",
    "# Question 2: Age group with the highest transaction amounts\n",
    "customer_transactions['Birthdate'] = pd.to_datetime(customer_transactions['Birthdate'])\n",
    "customer_transactions['Age'] = (pd.to_datetime('today') - customer_transactions['Birthdate']).dt.days // 365\n",
    "customer_transactions['Age Group'] = pd.cut(customer_transactions['Age'], bins=[0, 18, 30, 45, 60, 100], labels=['0-18', '19-30', '31-45', '46-60', '60+'])\n",
    "age_group_transaction_amounts = customer_transactions.groupby('Age Group')['Transaction Amount'].sum()\n",
    "print(\"Transaction Amounts by Age Group:\\n\", age_group_transaction_amounts)\n",
    "\n",
    "# Question 3: Seasonal trend in transaction amounts\n",
    "customer_transactions['Date'] = pd.to_datetime(customer_transactions['Date'])\n",
    "customer_transactions['Month'] = customer_transactions['Date'].dt.month\n",
    "monthly_transactions = customer_transactions.groupby('Month')['Transaction Amount'].sum()\n",
    "monthly_transactions.plot(kind='bar')\n",
    "plt.title('Monthly Transaction Amounts')\n",
    "plt.xlabel('Month')\n",
    "plt.ylabel('Total Transaction Amount')\n",
    "plt.show()\n",
    "\n",
    "# Question 4: Most popular merchants\n",
    "top_merchants = customer_transactions['Merchant Name'].value_counts().head(10)\n",
    "print(\"Top Merchants:\\n\", top_merchants)\n",
    "\n",
    "# Question 5: Most common transaction categories\n",
    "top_categories = customer_transactions['Category'].value_counts().head(10)\n",
    "print(\"Top Categories:\\n\", top_categories)\n",
    "\n",
    "# Question 6: Transaction amounts by gender\n",
    "gender_transaction_amounts = customer_transactions.groupby('Gender')['Transaction Amount'].mean()\n",
    "print(\"Transaction Amounts by Gender:\\n\", gender_transaction_amounts)\n",
    "\n",
    "# Question 7: Transaction amounts by merchant\n",
    "merchant_transaction_amounts = customer_transactions.groupby('Merchant Name')['Transaction Amount'].mean().sort_values(ascending=False).head(10)\n",
    "print(\"Transaction Amounts by Merchant:\\n\", merchant_transaction_amounts)\n",
    "\n",
    "# Question 8: Categories preferred by different genders\n",
    "gender_category_counts = pd.crosstab(customer_transactions['Gender'], customer_transactions['Category'])\n",
    "print(\"Categories by Gender:\\n\", gender_category_counts)\n",
    "\n",
    "# Visualize Categories preferred by different genders using Plotly\n",
    "import plotly.graph_objects as go\n",
    "\n",
    "fig = go.Figure(data=go.Heatmap(\n",
    "    z=gender_category_counts.values,\n",
    "    x=gender_category_counts.columns,\n",
    "    y=gender_category_counts.index,\n",
    "    colorscale='YlGnBu',\n",
    "    text=gender_category_counts.values,\n",
    "    texttemplate=\"%{text}\",\n",
    "    textfont={\"size\":12}\n",
    "))\n",
    "\n",
    "fig.update_layout(\n",
    "    title='Gender vs. Category',\n",
    "    xaxis_nticks=36,\n",
    "    yaxis_nticks=36,\n",
    "    xaxis_title='Category',\n",
    "    yaxis_title='Gender'\n",
    ")\n",
    "\n",
    "fig.show()"
   ]
  },
  {
   "cell_type": "code",
   "execution_count": null,
   "metadata": {},
   "outputs": [],
   "source": []
  },
  {
   "cell_type": "markdown",
   "id": "1f790bbe",
   "metadata": {},
   "source": [
    "DISTRIBUTION OF TRANSACTION AMOUNTS"
   ]
  },
  {
   "cell_type": "code",
   "execution_count": null,
   "id": "5786b83a",
   "metadata": {},
   "outputs": [],
   "source": [
    "# Plot the distribution of Transaction Amounts using Plotly Express\n",
    "fig = px.histogram(customer_transactions, x='Transaction Amount', nbins=30, marginal='rug', title='Distribution of Transaction Amounts', labels={'Transaction Amount': 'Transaction Amount', 'count': 'Frequency'})\n",
    "\n",
    "# Show the plot\n",
    "fig.show()"
   ]
  },
  {
   "cell_type": "markdown",
   "id": "afae6deb",
   "metadata": {},
   "source": [
    "TRANSACTIONS OVER TIME"
   ]
  },
  {
   "cell_type": "code",
   "execution_count": null,
   "id": "184392bc",
   "metadata": {},
   "outputs": [],
   "source": [
    "# Ensure the Date column is of datetime type\n",
    "customer_transactions['Date'] = pd.to_datetime(customer_transactions['Date'])\n",
    "\n",
    "# Set the Date column as the index\n",
    "customer_transactions.set_index('Date', inplace=True)\n",
    "\n",
    "# Resample the data by month and sum the transaction amounts\n",
    "monthly_transactions = customer_transactions.resample('M')['Transaction Amount'].sum().reset_index()\n",
    "\n",
    "# Create the Plotly Express line plot\n",
    "fig = px.line(monthly_transactions, x='Date', y='Transaction Amount', title='Monthly Transaction Amounts', labels={'Date': 'Date', 'Transaction Amount': 'Total Transaction Amount'})\n",
    "\n",
    "# Show the plot\n",
    "fig.show()\n",
    "\n",
    "# Reset index after plotting (if needed)\n",
    "#customer_transactions.reset_index(inplace=True)"
   ]
  },
  {
   "cell_type": "markdown",
   "id": "7eee842b",
   "metadata": {},
   "source": [
    "TRANSACTIONS BY GENDER"
   ]
  },
  {
   "cell_type": "code",
   "execution_count": null,
   "id": "c49d05f5",
   "metadata": {},
   "outputs": [],
   "source": [
    "# Assuming df is your DataFrame\n",
    "# Group by Gender and sum the Transaction Amount\n",
    "gender_transaction = customer_transactions.groupby('Gender')['Transaction Amount'].sum().reset_index()\n",
    "\n",
    "# Create the Plotly Express bar plot\n",
    "fig = px.bar(gender_transaction, x='Gender', y='Transaction Amount', title='Total Transaction Amount by Gender', labels={'Gender': 'Gender', 'Transaction Amount': 'Total Transaction Amount'}, color='Gender',\n",
    "                   color_discrete_sequence=['#636EFA', '#EF553B', '#BE664C'])\n",
    "\n",
    "# Show the plot\n",
    "fig.show()"
   ]
  },
  {
   "cell_type": "markdown",
   "id": "6f50d4ae",
   "metadata": {},
   "source": [
    "AGE ANALYSIS"
   ]
  },
  {
   "cell_type": "code",
   "execution_count": null,
   "id": "cd59be25",
   "metadata": {},
   "outputs": [],
   "source": [
    "#To further aid our analysis, I will be creating a new column that will generate the age of the customer as at the time of this analysis.\n",
    "\n",
    "customer_transactions['Birthdate'] = pd.to_datetime(customer_transactions['Birthdate'])\n",
    "customer_transactions['Date'] = pd.to_datetime(customer_transactions['Birthdate'])\n",
    "\n",
    "customer_transactions['Age'] = customer_transactions['Birthdate'].apply(lambda x: (datetime.now() - x).days // 365)"
   ]
  },
  {
   "cell_type": "code",
   "execution_count": null,
   "id": "177034ca",
   "metadata": {},
   "outputs": [],
   "source": [
    "# Create the histogram with Plotly Express\n",
    "fig = px.histogram(customer_transactions, x='Age', nbins=20, title='Distribution of Customer Ages', labels={'Age': 'Age', 'count': 'Frequency'})\n",
    "\n",
    "# Add a KDE (Kernel Density Estimate) trace\n",
    "fig.add_trace(go.Histogram(x=customer_transactions['Age'], histnorm='density', nbinsx=20, opacity=0.75))\n",
    "fig.add_trace(go.Scatter(x=customer_transactions['Age'], y=pd.Series(customer_transactions['Age']).value_counts().sort_index() / len(customer_transactions['Age']), mode='lines', name='KDE'))\n",
    "\n",
    "# Update layout for better visualization\n",
    "fig.update_layout(\n",
    "    xaxis_title='Age',\n",
    "    yaxis_title='Frequency',\n",
    "    showlegend=True\n",
    ")\n",
    "\n",
    "# Show the plot\n",
    "fig.show()"
   ]
  },
  {
   "cell_type": "code",
   "execution_count": null,
   "id": "24ba0726",
   "metadata": {},
   "outputs": [],
   "source": [
    "# Calculate age\n",
    "#current_year = pd.Timestamp.now().year\n",
    "#customer_transactions['Age'] = current_year - customer_transactions['Birthdate'].dt.year\n",
    "\n",
    "# Plot distribution of ages\n",
    "sns.histplot(customer_transactions['Age'], kde=True)\n",
    "plt.title('Distribution of Customer Ages')\n",
    "plt.xlabel('Age')\n",
    "plt.ylabel('Frequency')\n",
    "plt.show()"
   ]
  },
  {
   "cell_type": "code",
   "execution_count": null,
   "id": "9b9b6668",
   "metadata": {},
   "outputs": [],
   "source": [
    "# Analyze transaction amount by age group\n",
    "age_bins = [0, 18, 30, 40, 50, 60, 70, 80, 90, 100]\n",
    "customer_transactions['Age Group'] = pd.cut(customer_transactions['Age'], bins=age_bins)\n",
    "age_transaction = customer_transactions.groupby('Age Group')['Transaction Amount'].sum().reset_index()\n",
    "sns.barplot(x='Age Group', y='Transaction Amount', data=age_transaction)\n",
    "plt.title('Total Transaction Amount by Age Group')\n",
    "plt.xlabel('Age Group')\n",
    "plt.ylabel('Total Transaction Amount')\n",
    "plt.show()"
   ]
  },
  {
   "cell_type": "code",
   "execution_count": null,
   "id": "68fd34dd",
   "metadata": {},
   "outputs": [],
   "source": []
  },
  {
   "cell_type": "code",
   "execution_count": null,
   "id": "33a28f7b",
   "metadata": {},
   "outputs": [],
   "source": [
    "# Plot total transaction amount by category\n",
    "category_transaction = customer_transactions.groupby('Category')['Transaction Amount'].sum().reset_index()\n",
    "sns.barplot(x='Category', y='Transaction Amount', data=category_transaction)\n",
    "plt.title('Total Transaction Amount by Category')\n",
    "plt.xlabel('Category')\n",
    "plt.ylabel('Total Transaction Amount')\n",
    "plt.xticks(rotation=90)\n",
    "plt.show()"
   ]
  },
  {
   "cell_type": "markdown",
   "id": "b82965a3",
   "metadata": {},
   "source": [
    "TRANSACTION BY CATEGORY"
   ]
  },
  {
   "cell_type": "code",
   "execution_count": null,
   "id": "b64b2f5d",
   "metadata": {},
   "outputs": [],
   "source": [
    "category_transaction_amount = customer_transactions.groupby('Category')['Transaction Amount'].sum().sort_values(ascending=True)\n",
    "print(category_transaction_amount)"
   ]
  },
  {
   "cell_type": "code",
   "execution_count": null,
   "id": "38580ffd",
   "metadata": {},
   "outputs": [],
   "source": [
    "# Group by Category and sum the Transaction Amount\n",
    "category_transaction = customer_transactions.groupby('Category')['Transaction Amount'].sum().reset_index()\n",
    "\n",
    "# Sort the DataFrame by Transaction Amount in ascending order\n",
    "category_transaction = category_transaction.sort_values(by='Transaction Amount', ascending=True)\n",
    "\n",
    "# Create the Plotly Express bar plot with colorful bars\n",
    "fig = px.bar(category_transaction, \n",
    "             x='Category', \n",
    "             y='Transaction Amount', \n",
    "             color='Category',  # Use the category to color the bars\n",
    "             title='Total Transaction Amount by Category', \n",
    "             labels={'Category': 'Category', 'Transaction Amount': 'Total Transaction Amount'},\n",
    "             color_discrete_sequence=px.colors.qualitative.Safe)  # Use a predefined color sequence\n",
    "\n",
    "# Customize the plot for better readability\n",
    "fig.update_layout(xaxis={'categoryorder':'total ascending'}, xaxis_tickangle=-90)\n",
    "\n",
    "# Show the plot\n",
    "fig.show()"
   ]
  },
  {
   "cell_type": "code",
   "execution_count": null,
   "id": "ae225003",
   "metadata": {},
   "outputs": [],
   "source": []
  },
  {
   "cell_type": "code",
   "execution_count": null,
   "id": "26691d78",
   "metadata": {},
   "outputs": [],
   "source": [
    "# Prepare data for clustering\n",
    "clustering_data = customer_transactions.groupby('Customer ID').agg({\n",
    "    'Transaction Amount': 'sum',\n",
    "    'Age': 'mean'\n",
    "}).reset_index()\n",
    "\n",
    "# Standardize data\n",
    "scaler = StandardScaler()\n",
    "clustering_data_scaled = scaler.fit_transform(clustering_data[['Transaction Amount', 'Age']])\n",
    "\n",
    "# Apply K-Means clustering\n",
    "kmeans = KMeans(n_clusters=3, random_state=42)\n",
    "clustering_data['Cluster'] = kmeans.fit_predict(clustering_data_scaled)\n",
    "\n",
    "# Visualize clusters\n",
    "sns.scatterplot(x='Transaction Amount', y='Age', hue='Cluster', data=clustering_data, palette='viridis')\n",
    "plt.title('Customer Segmentation')\n",
    "plt.xlabel('Total Transaction Amount')\n",
    "plt.ylabel('Age')\n",
    "plt.show()"
   ]
  },
  {
   "cell_type": "code",
   "execution_count": null,
   "id": "13adbf7c",
   "metadata": {},
   "outputs": [],
   "source": [
    "total_transaction_amount = customer_transactions['Transaction Amount'].sum()\n",
    "average_transaction_amount = customer_transactions['Transaction Amount'].mean()\n",
    "print(f\"Total Transaction Amount: {total_transaction_amount}\")\n",
    "print(f\"Average Transaction Amount: {average_transaction_amount}\")"
   ]
  },
  {
   "cell_type": "code",
   "execution_count": null,
   "id": "f5e6b17c",
   "metadata": {},
   "outputs": [],
   "source": [
    "customer_transactions.set_index('Date', inplace=True)\n",
    "daily_transactions = customer_transactions['Transaction Amount'].resample('D').sum()\n",
    "sns.lineplot(x=daily_transactions.index, y=daily_transactions.values)\n",
    "plt.title('Daily Transaction Amount Over Time')\n",
    "plt.show()"
   ]
  },
  {
   "cell_type": "code",
   "execution_count": null,
   "id": "4ec738a1",
   "metadata": {},
   "outputs": [],
   "source": [
    "top_merchants = customer_transactions.groupby('Merchant Name')['Transaction Amount'].sum().sort_values(ascending=False).head(10)\n",
    "print(top_merchants)\n",
    "top_merchants.plot(kind='bar')\n",
    "plt.title('Top 10 Merchants by Transaction Amount')\n",
    "plt.ylabel('Total Transaction Amount')\n",
    "plt.show()"
   ]
  },
  {
   "cell_type": "code",
   "execution_count": null,
   "id": "7118a7a3",
   "metadata": {},
   "outputs": [],
   "source": []
  },
  {
   "cell_type": "markdown",
   "id": "4ee04c64",
   "metadata": {},
   "source": []
  },
  {
   "cell_type": "code",
   "execution_count": null,
   "id": "e53a27f5",
   "metadata": {},
   "outputs": [],
   "source": [
    "# Plot distribution of Transaction Amounts\n",
    "sns.histplot(customer_transactions['Transaction Amount'], kde=True)\n",
    "plt.title('Distribution of Transaction Amounts')\n",
    "plt.xlabel('Transaction Amount')\n",
    "plt.ylabel('Frequency')\n",
    "plt.show()"
   ]
  },
  {
   "cell_type": "code",
   "execution_count": null,
   "id": "d1c6f19b",
   "metadata": {},
   "outputs": [],
   "source": [
    "# Create a histogram with KDE for Transaction Amounts\n",
    "fig = px.histogram(customer_transactions, x='Transaction Amount', nbins=30, marginal='rug', \n",
    "    title='Distribution of Transaction Amounts', labels={'Transaction Amount': 'Transaction Amount'})\n",
    "\n",
    "# Show the plot\n",
    "fig.show()"
   ]
  },
  {
   "cell_type": "code",
   "execution_count": null,
   "id": "fa33a477",
   "metadata": {},
   "outputs": [],
   "source": []
  },
  {
   "cell_type": "markdown",
   "id": "1b9978f5",
   "metadata": {},
   "source": [
    "FEATURE ENGINEERING"
   ]
  },
  {
   "cell_type": "markdown",
   "id": "1e1102bc",
   "metadata": {},
   "source": [
    "CREATE A NEW COLUMN FOR AGE"
   ]
  },
  {
   "cell_type": "code",
   "execution_count": null,
   "id": "29e8c68e",
   "metadata": {},
   "outputs": [],
   "source": [
    "#To further aid our analysis, I will be creating a new column that will generate the age of the customer as at the time of this analysis.\n",
    "\n",
    "customer_transactions['Birthdate'] = pd.to_datetime(customer_transactions['Birthdate'])\n",
    "customer_transactions['Date'] = pd.to_datetime(customer_transactions['Date'])\n",
    "\n",
    "customer_transactions['Age'] = customer_transactions['Birthdate'].apply(lambda x: (datetime.now() - x).days // 365)"
   ]
  },
  {
   "cell_type": "code",
   "execution_count": null,
   "id": "fda36171",
   "metadata": {},
   "outputs": [],
   "source": [
    "customer_transactions"
   ]
  },
  {
   "cell_type": "code",
   "execution_count": null,
   "id": "f796182d",
   "metadata": {},
   "outputs": [],
   "source": [
    "# Calculate age\n",
    "current_year = pd.Timestamp.now().year\n",
    "customer_transactions['Age'] = current_year - customer_transactions['Birthdate'].dt.year\n",
    "\n",
    "# Create histogram with KDE\n",
    "fig = px.histogram(customer_transactions, x='Age', nbins=30, marginal='violin', title='Age Distribution')\n",
    "\n",
    "# Show the plot\n",
    "fig.show()"
   ]
  },
  {
   "cell_type": "code",
   "execution_count": null,
   "id": "db92f857",
   "metadata": {},
   "outputs": [],
   "source": []
  },
  {
   "cell_type": "code",
   "execution_count": null,
   "id": "a388abd0",
   "metadata": {},
   "outputs": [],
   "source": []
  },
  {
   "cell_type": "code",
   "execution_count": null,
   "id": "eede3b60",
   "metadata": {},
   "outputs": [],
   "source": [
    "plt.figure(figsize=(12, 5))\n",
    "plt.subplot(1, 2, 1)\n",
    "sns.histplot(customer_transactions['Transaction Amount'], bins=30, kde=True)\n",
    "plt.title('Transaction Amount Distribution')"
   ]
  },
  {
   "cell_type": "code",
   "execution_count": null,
   "id": "1d2b9652",
   "metadata": {},
   "outputs": [],
   "source": [
    "plt.subplot(1, 2, 2)\n",
    "sns.histplot(customer_transactions['Age'], bins=30, kde=True)\n",
    "plt.title('Age Distribution')\n",
    "plt.show()"
   ]
  },
  {
   "cell_type": "code",
   "execution_count": null,
   "id": "e4145816",
   "metadata": {},
   "outputs": [],
   "source": [
    "plt.figure(figsize=(12, 5))\n",
    "plt.subplot(1, 2, 1)\n",
    "sns.countplot(x='Gender', data=customer_transactions)\n",
    "plt.title('Gender Distribution')\n"
   ]
  },
  {
   "cell_type": "code",
   "execution_count": null,
   "id": "d4727685",
   "metadata": {},
   "outputs": [],
   "source": [
    "plt.subplot(1, 2, 2)\n",
    "sns.countplot(y='Category', data=customer_transactions)\n",
    "plt.title('Transaction Categories')\n",
    "plt.show()"
   ]
  },
  {
   "cell_type": "markdown",
   "id": "d86edb3c",
   "metadata": {},
   "source": []
  },
  {
   "cell_type": "code",
   "execution_count": null,
   "id": "2a2de1b7",
   "metadata": {},
   "outputs": [],
   "source": [
    "customer_transactions['YearMonth'] = customer_transactions['Date'].dt.to_period('M')\n",
    "\n",
    "plt.figure(figsize=(12, 5))\n",
    "sns.lineplot(data=customer_transactions.groupby('YearMonth')['Transaction Amount'].sum().reset_index(), x='YearMonth', y='Transaction Amount')\n",
    "plt.title('Monthly Transaction Amount Over Time')\n",
    "plt.xticks(rotation=45)\n",
    "plt.show()"
   ]
  },
  {
   "cell_type": "code",
   "execution_count": null,
   "id": "f9685f9e",
   "metadata": {},
   "outputs": [],
   "source": [
    "plt.figure(figsize=(12, 5))\n",
    "sns.boxplot(x='Gender', y='Transaction Amount', data=customer_transactions)\n",
    "plt.title('Transaction Amount by Gender')\n",
    "plt.show()\n",
    "\n",
    "customer_transactions['AgeGroup'] = pd.cut(customer_transactions['Age'], bins=[0, 18, 35, 50, 65, 100], labels=['<18', '18-35', '35-50', '50-65', '65+'])\n",
    "\n",
    "plt.figure(figsize=(12, 5))\n",
    "sns.boxplot(x='AgeGroup', y='Transaction Amount', data=customer_transactions)\n",
    "plt.title('Transaction Amount by Age Group')\n",
    "plt.show()"
   ]
  },
  {
   "cell_type": "code",
   "execution_count": null,
   "id": "d85412ee",
   "metadata": {},
   "outputs": [],
   "source": [
    "top_merchants = customer_transactions.groupby('Merchant Name')['Transaction Amount'].sum().sort_values(ascending=False).head(10)\n",
    "plt.figure(figsize=(12, 5))\n",
    "sns.barplot(x=top_merchants.values, y=top_merchants.index)\n",
    "plt.title('Top 10 Merchants by Transaction Amount')\n",
    "plt.show()"
   ]
  },
  {
   "cell_type": "code",
   "execution_count": null,
   "id": "fc17691f",
   "metadata": {},
   "outputs": [],
   "source": [
    "category_spending = customer_transactions.groupby('Category')['Transaction Amount'].sum().sort_values(ascending=False)\n",
    "plt.figure(figsize=(12, 5))\n",
    "sns.barplot(x=category_spending.values, y=category_spending.index)\n",
    "plt.title('Spending by Category')\n",
    "plt.show()"
   ]
  },
  {
   "cell_type": "code",
   "execution_count": null,
   "id": "313bf9a8",
   "metadata": {},
   "outputs": [],
   "source": [
    "corr_matrix = customer_transactions[['Age', 'Transaction Amount']].corr()\n",
    "sns.heatmap(corr_matrix, annot=True, cmap='coolwarm')\n",
    "plt.title('Correlation Matrix')\n",
    "plt.show()"
   ]
  },
  {
   "cell_type": "code",
   "execution_count": null,
   "id": "65789099",
   "metadata": {},
   "outputs": [],
   "source": []
  },
  {
   "cell_type": "markdown",
   "id": "c88732b8",
   "metadata": {},
   "source": [
    "DATA PREPROCESSING"
   ]
  },
  {
   "cell_type": "code",
   "execution_count": null,
   "id": "e435989e",
   "metadata": {},
   "outputs": [],
   "source": [
    "customer_transactions['Gender'].unique()"
   ]
  },
  {
   "cell_type": "code",
   "execution_count": null,
   "id": "b0ce470e",
   "metadata": {},
   "outputs": [],
   "source": [
    "customer_transactions['Gender'] = customer_transactions['Gender'].replace ('F', 'Female')\n",
    "customer_transactions['Gender'] = customer_transactions['Gender'].replace ('M', 'Male')\n",
    "customer_transactions['Gender'] = customer_transactions['Gender'].replace ('nan', 'Prefer not to say')"
   ]
  },
  {
   "cell_type": "code",
   "execution_count": null,
   "id": "609aa050",
   "metadata": {},
   "outputs": [],
   "source": [
    "customer_transactions['Gender'].unique()"
   ]
  },
  {
   "cell_type": "code",
   "execution_count": null,
   "id": "70f6434f",
   "metadata": {},
   "outputs": [],
   "source": [
    "customer_transactions['Transaction Amount'].unique()"
   ]
  },
  {
   "cell_type": "code",
   "execution_count": null,
   "id": "45c21660",
   "metadata": {},
   "outputs": [],
   "source": [
    "customer_transactions['Merchant Name'].unique()"
   ]
  },
  {
   "cell_type": "markdown",
   "id": "b9f3efea",
   "metadata": {},
   "source": [
    "UNIVARIATE ANALYSIS"
   ]
  },
  {
   "cell_type": "code",
   "execution_count": null,
   "id": "2b17fc89",
   "metadata": {},
   "outputs": [],
   "source": [
    "# Extract the values from the 'Gender' column and count occurrences\n",
    "gender_counts = customer_transactions['Gender'].value_counts().reset_index()\n",
    "gender_counts.columns = ['Gender', 'Count']\n",
    "\n",
    "colors = ['#636EFA', '#EF553B', '#00CC96', '#AB63FA']\n",
    "\n",
    "# Create the pie chart\n",
    "fig = px.pie(gender_counts, names='Gender', values='Count', title='Gender Distribution')\n",
    "\n",
    "# Update the chart to add data labels\n",
    "fig.update_traces(textinfo='percent+label')\n",
    "\n",
    "# Show the plot\n",
    "fig.show()"
   ]
  },
  {
   "cell_type": "code",
   "execution_count": null,
   "id": "c08b91ed",
   "metadata": {},
   "outputs": [],
   "source": []
  },
  {
   "cell_type": "code",
   "execution_count": null,
   "id": "d35e10ac",
   "metadata": {},
   "outputs": [],
   "source": []
  },
  {
   "cell_type": "code",
   "execution_count": null,
   "id": "c0ecd20a",
   "metadata": {},
   "outputs": [],
   "source": [
    "# Plot transactions over time\n",
    "customer_transactions.set_index('Date', inplace=True)\n",
    "customer_transactions.resample('M')['Transaction Amount'].sum().plot()\n",
    "plt.title('Monthly Transaction Amounts')\n",
    "plt.xlabel('Date')\n",
    "plt.ylabel('Total Transaction Amount')\n",
    "plt.show()\n",
    "\n",
    "# Reset index after plotting\n",
    "customer_transactions.reset_index(inplace=True)"
   ]
  },
  {
   "cell_type": "code",
   "execution_count": null,
   "id": "f37c99ed",
   "metadata": {},
   "outputs": [],
   "source": [
    "# Plot total transaction amount by gender\n",
    "gender_transaction = customer_transactions.groupby('Gender')['Transaction Amount'].sum().reset_index()\n",
    "sns.barplot(x='Gender', y='Transaction Amount', data=gender_transaction)\n",
    "plt.title('Total Transaction Amount by Gender')\n",
    "plt.xlabel('Gender')\n",
    "plt.ylabel('Total Transaction Amount')\n",
    "plt.show()"
   ]
  },
  {
   "cell_type": "code",
   "execution_count": null,
   "id": "9c3e4db0",
   "metadata": {},
   "outputs": [],
   "source": []
  },
  {
   "cell_type": "markdown",
   "id": "2d89e8d8",
   "metadata": {},
   "source": [
    "UNIVARIATE ANALYSIS"
   ]
  },
  {
   "cell_type": "code",
   "execution_count": null,
   "id": "bf4960af",
   "metadata": {},
   "outputs": [],
   "source": [
    "# 1. Customer ID (int64)\n",
    "print(\"Customer ID:\")\n",
    "print(\"Count of Unique Values:\", customer_transactions['Customer ID'].nunique())\n",
    "print(\"Summary Statistics:\")\n",
    "print(customer_transactions['Customer ID'].describe())\n",
    "\n",
    "# 2. Name (object)\n",
    "print(\"\\nName:\")\n",
    "print(\"Count of Unique Names:\", customer_transactions['Name'].nunique())\n",
    "print(\"Most Common Names:\")\n",
    "print(customer_transactions['Name'].value_counts().head())\n",
    "customer_transactions['Name_Length'] = customer_transactions['Name'].apply(len)\n",
    "print(\"Mean Length:\", customer_transactions['Name_Length'].mean())\n",
    "print(\"Median Length:\", customer_transactions['Name_Length'].median())\n",
    "print(\"Missing Values:\", customer_transactions['Name'].isnull().sum())\n",
    "\n",
    "# 3. Surname (object)\n",
    "print(\"\\nSurname:\")\n",
    "print(\"Count of Unique Surnames:\", customer_transactions['Surname'].nunique())\n",
    "print(\"Most Common Surnames:\")\n",
    "print(customer_transactions['Surname'].value_counts().head())\n",
    "customer_transactions['Surname_Length'] = customer_transactions['Surname'].apply(len)\n",
    "print(\"Mean Length:\", customer_transactions['Surname_Length'].mean())\n",
    "print(\"Median Length:\", customer_transactions['Surname_Length'].median())\n",
    "print(\"Missing Values:\", customer_transactions['Surname'].isnull().sum())\n",
    "\n",
    "# 4. Gender (object)\n",
    "print(\"\\nGender:\")\n",
    "print(\"Count of Each Gender:\")\n",
    "print(customer_transactions['Gender'].value_counts())\n",
    "print(\"Percentage Distribution:\")\n",
    "print(customer_transactions['Gender'].value_counts(normalize=True) * 100)\n",
    "print(\"Missing Values:\", customer_transactions['Gender'].isnull().sum())\n",
    "\n",
    "# 5. Birthdate (object)\n",
    "print(\"\\nBirthdate:\")\n",
    "customer_transactions['Birth_Year'] = pd.to_datetime(customer_transactions['Birthdate']).dt.year\n",
    "print(\"Distribution of Birth Years:\")\n",
    "print(customer_transactions['Birth_Year'].value_counts().sort_index())\n",
    "print(\"Distribution of Birth Months:\")\n",
    "print(pd.to_datetime(customer_transactions['Birthdate']).dt.month.value_counts().sort_index())\n",
    "customer_transactions['Age'] = pd.to_datetime('now').year - pd.to_datetime(customer_transactions['Birthdate']).dt.year\n",
    "print(\"Mean Age:\", customer_transactions['Age'].mean())\n",
    "print(\"Median Age:\", customer_transactions['Age'].median())\n",
    "print(\"Youngest:\", customer_transactions['Age'].min())\n",
    "print(\"Oldest:\", customer_transactions['Age'].max())\n",
    "print(\"Missing Values:\", customer_transactions['Birthdate'].isnull().sum())\n",
    "\n",
    "# 6. Transaction Amount (float64)\n",
    "print(\"\\nTransaction Amount:\")\n",
    "print(\"Summary Statistics:\")\n",
    "print(customer_transactions['Transaction Amount'].describe())\n",
    "plt.hist(customer_transactions['Transaction Amount'], bins=20)\n",
    "plt.xlabel('Transaction Amount')\n",
    "plt.ylabel('Frequency')\n",
    "plt.title('Distribution of Transaction Amounts')\n",
    "plt.show()\n",
    "# Outlier detection (can be adjusted as needed)\n",
    "outliers = customer_transactions[(customer_transactions['Transaction Amount'] - customer_transactions['Transaction Amount'].mean()).abs() > 3 * customer_transactions['Transaction Amount'].std()]\n",
    "print(\"Number of Outliers:\", len(outliers))\n",
    "\n",
    "# 7. Date (object)\n",
    "print(\"\\nDate:\")\n",
    "customer_transactions['Date'] = pd.to_datetime(customer_transactions['Date'])\n",
    "print(\"Distribution of Transactions Over Time:\")\n",
    "print(customer_transactions['Date'].dt.to_period('M').value_counts().sort_index())\n",
    "print(\"Missing Values:\", customer_transactions['Date'].isnull().sum())\n",
    "\n",
    "# 8. Merchant Name (object)\n",
    "print(\"\\nMerchant Name:\")\n",
    "print(\"Count of Unique Merchant Names:\", customer_transactions['Merchant Name'].nunique())\n",
    "print(\"Most Common Merchant Names:\")\n",
    "print(customer_transactions['Merchant Name'].value_counts().head())\n",
    "print(\"Missing Values:\", customer_transactions['Merchant Name'].isnull().sum())\n",
    "\n",
    "# 9. Category (object)\n",
    "print(\"\\nCategory:\")\n",
    "print(\"Count of Unique Categories:\", customer_transactions['Category'].nunique())\n",
    "print(\"Most Common Categories:\")\n",
    "print(customer_transactions['Category'].value_counts().head())\n",
    "print(\"Missing Values:\", customer_transactions['Category'].isnull().sum())"
   ]
  },
  {
   "cell_type": "code",
   "execution_count": null,
   "id": "6aa9e2c7",
   "metadata": {},
   "outputs": [],
   "source": [
    "# 4. Gender\n",
    "print(\"\\nGender:\")\n",
    "print(\"- Count of Each Gender:\")\n",
    "print(customer_transactions['Gender'].value_counts())\n",
    "print(\"- Percentage Distribution:\")\n",
    "print(customer_transactions['Gender'].value_counts(normalize=True) * 100)\n",
    "print(\"- Missing Values:\", customer_transactions['Gender'].isnull().sum())"
   ]
  },
  {
   "cell_type": "code",
   "execution_count": null,
   "id": "f97096d5",
   "metadata": {},
   "outputs": [],
   "source": []
  },
  {
   "cell_type": "code",
   "execution_count": null,
   "id": "0e6762f4",
   "metadata": {},
   "outputs": [],
   "source": [
    "# Columns to exclude from the loop\n",
    "#exclude_columns = ['latitude', 'longitude', 'Pin code']\n",
    "\n",
    "# Loop through each column\n",
    "for column in customer_transactions.columns:\n",
    "    # Skip excluded columns\n",
    "   # if column in exclude_columns:\n",
    "   #     continue\n",
    "    \n",
    "    # Get unique values and their counts\n",
    "    value_counts = customer_transactions[column].value_counts()\n",
    "    \n",
    "    # Create bar chart\n",
    "    fig = px.bar(value_counts, x=value_counts.index, y=value_counts.values, \n",
    "                 labels={'x': column, 'y': 'Count'}, \n",
    "                 title=f\"Value Counts for {column}\")\n",
    "    \n",
    "    # Show plot\n",
    "    fig.show()"
   ]
  },
  {
   "cell_type": "markdown",
   "id": "31670ee9",
   "metadata": {},
   "source": [
    "#### TASK 1 - CHECK FOR DUPLICATED ROWS"
   ]
  },
  {
   "cell_type": "code",
   "execution_count": null,
   "id": "2820f1c0",
   "metadata": {},
   "outputs": [],
   "source": [
    "Total_dup = customer_transactions.duplicated().sum()\n",
    "print('The total number of duplicate rows in this dataset is', Total_dup)"
   ]
  },
  {
   "cell_type": "markdown",
   "id": "58db6483",
   "metadata": {},
   "source": [
    "#### TASK 2 - CHECK FOR MISSING VALUES"
   ]
  },
  {
   "cell_type": "code",
   "execution_count": null,
   "id": "c22dddac",
   "metadata": {},
   "outputs": [],
   "source": [
    "customer_transactions.isna().sum()"
   ]
  },
  {
   "cell_type": "code",
   "execution_count": null,
   "id": "4ee09d4f",
   "metadata": {},
   "outputs": [],
   "source": [
    "Total_MV = customer_transactions.isna().sum().sum()\n",
    "print('The total number of missing values in this dataset is', Total_MV)"
   ]
  },
  {
   "cell_type": "code",
   "execution_count": null,
   "id": "9717bb88",
   "metadata": {},
   "outputs": [],
   "source": [
    "#Check for the percentage for the missing values.\n",
    "\n",
    "missing_gender = customer_transactions['Gender'].isnull().sum()\n",
    "total_rows = len(customer_transactions)\n",
    "missing_percentage = (missing_gender / total_rows) * 100\n",
    "\n",
    "print(f\"Missing Gender Values: {missing_gender} ({missing_percentage:.2f}%)\")"
   ]
  },
  {
   "cell_type": "markdown",
   "id": "da42180a",
   "metadata": {},
   "source": [
    "#### HEATMAP FOR MISSING VALUES"
   ]
  },
  {
   "cell_type": "code",
   "execution_count": null,
   "id": "f7760217",
   "metadata": {},
   "outputs": [],
   "source": [
    "sns.heatmap(customer_transactions.isnull())"
   ]
  },
  {
   "cell_type": "markdown",
   "id": "f271f20d",
   "metadata": {},
   "source": [
    "#### INSIGHTS\n",
    "\n",
    "The results showed that there are 5,047 missing values in the gender column which sums up to 10.09% of the dataset. \n",
    "\n",
    "In dealing with this, I will replace all the missing values in the gender column to UNDEFINED.\n",
    "\n",
    "This presupposes that the these customers did not find their gender orientation listed in there to select, hence the empty field."
   ]
  },
  {
   "cell_type": "markdown",
   "id": "cda49b11",
   "metadata": {},
   "source": [
    "#### QUESTIONS\n",
    "\n",
    " - Which category made the highest sales during the period?\n",
    " - Which age grouping patronized more of cosmetics, clothings and travel?\n",
    " - Which date had the highest patronage for Clothing?"
   ]
  },
  {
   "cell_type": "markdown",
   "id": "f1ca18c1",
   "metadata": {},
   "source": [
    "#### Question 1\n",
    " - Which category made the highest sales during the period?"
   ]
  },
  {
   "cell_type": "code",
   "execution_count": null,
   "id": "142bf0e9",
   "metadata": {},
   "outputs": [],
   "source": [
    "# Group the data by category and calculate total sales for each category\n",
    "category_sales = customer_transactions.groupby('Category')['Transaction Amt ($)'].sum()\n",
    "\n",
    "# Print the total sales for each category\n",
    "print(category_sales)"
   ]
  },
  {
   "cell_type": "code",
   "execution_count": null,
   "id": "1b697002",
   "metadata": {},
   "outputs": [],
   "source": [
    "customer_transactions = category_sales.reset_index()\n",
    "customer_transactions.columns = ['Category', 'Transaction Amt ($)']\n",
    "\n",
    "# Plotting the bar chart using Plotly Express\n",
    "fig = px.bar(customer_transactions, x='Category', y='Transaction Amt ($)',\n",
    "             title='Total Sales by Category',\n",
    "             labels={'Transaction Amt ($)': 'Transaction Amt ($)'},\n",
    "             text='Transaction Amt ($)',\n",
    "             width=800, height=500)\n",
    "\n",
    "# Rotate x-axis labels for better readability\n",
    "fig.update_xaxes(tickangle=45)\n",
    "\n",
    "# Show the plot\n",
    "fig.show()"
   ]
  },
  {
   "cell_type": "code",
   "execution_count": null,
   "id": "20e45e34",
   "metadata": {},
   "outputs": [],
   "source": [
    "# Find the category with the highest total sales\n",
    "highest_sales_category = category_sales.idxmax()\n",
    "highest_sales_amount = category_sales.max()\n",
    "\n",
    "print(f\"The category with the highest sales is '{highest_sales_category}' with a total sales amount of $ {highest_sales_amount:.2f}\")"
   ]
  },
  {
   "cell_type": "markdown",
   "id": "ad733033",
   "metadata": {},
   "source": [
    "#### Question 2\n",
    " - Which age group patronized more of cosmetics, clothings and travel?"
   ]
  },
  {
   "cell_type": "code",
   "execution_count": 133,
   "id": "636391a6",
   "metadata": {},
   "outputs": [
    {
     "ename": "KeyError",
     "evalue": "'Date of Birth'",
     "output_type": "error",
     "traceback": [
      "\u001b[1;31m---------------------------------------------------------------------------\u001b[0m",
      "\u001b[1;31mKeyError\u001b[0m                                  Traceback (most recent call last)",
      "File \u001b[1;32mc:\\Users\\KWABENABOATENG\\AppData\\Local\\Programs\\Python\\Python311\\Lib\\site-packages\\pandas\\core\\indexes\\base.py:3653\u001b[0m, in \u001b[0;36mIndex.get_loc\u001b[1;34m(self, key)\u001b[0m\n\u001b[0;32m   3652\u001b[0m \u001b[38;5;28;01mtry\u001b[39;00m:\n\u001b[1;32m-> 3653\u001b[0m     \u001b[38;5;28;01mreturn\u001b[39;00m \u001b[38;5;28;43mself\u001b[39;49m\u001b[38;5;241;43m.\u001b[39;49m\u001b[43m_engine\u001b[49m\u001b[38;5;241;43m.\u001b[39;49m\u001b[43mget_loc\u001b[49m\u001b[43m(\u001b[49m\u001b[43mcasted_key\u001b[49m\u001b[43m)\u001b[49m\n\u001b[0;32m   3654\u001b[0m \u001b[38;5;28;01mexcept\u001b[39;00m \u001b[38;5;167;01mKeyError\u001b[39;00m \u001b[38;5;28;01mas\u001b[39;00m err:\n",
      "File \u001b[1;32mc:\\Users\\KWABENABOATENG\\AppData\\Local\\Programs\\Python\\Python311\\Lib\\site-packages\\pandas\\_libs\\index.pyx:147\u001b[0m, in \u001b[0;36mpandas._libs.index.IndexEngine.get_loc\u001b[1;34m()\u001b[0m\n",
      "File \u001b[1;32mc:\\Users\\KWABENABOATENG\\AppData\\Local\\Programs\\Python\\Python311\\Lib\\site-packages\\pandas\\_libs\\index.pyx:176\u001b[0m, in \u001b[0;36mpandas._libs.index.IndexEngine.get_loc\u001b[1;34m()\u001b[0m\n",
      "File \u001b[1;32mpandas\\_libs\\hashtable_class_helper.pxi:7080\u001b[0m, in \u001b[0;36mpandas._libs.hashtable.PyObjectHashTable.get_item\u001b[1;34m()\u001b[0m\n",
      "File \u001b[1;32mpandas\\_libs\\hashtable_class_helper.pxi:7088\u001b[0m, in \u001b[0;36mpandas._libs.hashtable.PyObjectHashTable.get_item\u001b[1;34m()\u001b[0m\n",
      "\u001b[1;31mKeyError\u001b[0m: 'Date of Birth'",
      "\nThe above exception was the direct cause of the following exception:\n",
      "\u001b[1;31mKeyError\u001b[0m                                  Traceback (most recent call last)",
      "Cell \u001b[1;32mIn[133], line 2\u001b[0m\n\u001b[0;32m      1\u001b[0m \u001b[38;5;66;03m# Convert the 'Date of Birth' column to datetime\u001b[39;00m\n\u001b[1;32m----> 2\u001b[0m customer_transactions[\u001b[38;5;124m'\u001b[39m\u001b[38;5;124mDate of Birth\u001b[39m\u001b[38;5;124m'\u001b[39m] \u001b[38;5;241m=\u001b[39m pd\u001b[38;5;241m.\u001b[39mto_datetime(\u001b[43mcustomer_transactions\u001b[49m\u001b[43m[\u001b[49m\u001b[38;5;124;43m'\u001b[39;49m\u001b[38;5;124;43mDate of Birth\u001b[39;49m\u001b[38;5;124;43m'\u001b[39;49m\u001b[43m]\u001b[49m)\n\u001b[0;32m      4\u001b[0m \u001b[38;5;66;03m# Calculate age based on the current date\u001b[39;00m\n\u001b[0;32m      5\u001b[0m current_date \u001b[38;5;241m=\u001b[39m datetime\u001b[38;5;241m.\u001b[39mnow()\n",
      "File \u001b[1;32mc:\\Users\\KWABENABOATENG\\AppData\\Local\\Programs\\Python\\Python311\\Lib\\site-packages\\pandas\\core\\frame.py:3761\u001b[0m, in \u001b[0;36mDataFrame.__getitem__\u001b[1;34m(self, key)\u001b[0m\n\u001b[0;32m   3759\u001b[0m \u001b[38;5;28;01mif\u001b[39;00m \u001b[38;5;28mself\u001b[39m\u001b[38;5;241m.\u001b[39mcolumns\u001b[38;5;241m.\u001b[39mnlevels \u001b[38;5;241m>\u001b[39m \u001b[38;5;241m1\u001b[39m:\n\u001b[0;32m   3760\u001b[0m     \u001b[38;5;28;01mreturn\u001b[39;00m \u001b[38;5;28mself\u001b[39m\u001b[38;5;241m.\u001b[39m_getitem_multilevel(key)\n\u001b[1;32m-> 3761\u001b[0m indexer \u001b[38;5;241m=\u001b[39m \u001b[38;5;28;43mself\u001b[39;49m\u001b[38;5;241;43m.\u001b[39;49m\u001b[43mcolumns\u001b[49m\u001b[38;5;241;43m.\u001b[39;49m\u001b[43mget_loc\u001b[49m\u001b[43m(\u001b[49m\u001b[43mkey\u001b[49m\u001b[43m)\u001b[49m\n\u001b[0;32m   3762\u001b[0m \u001b[38;5;28;01mif\u001b[39;00m is_integer(indexer):\n\u001b[0;32m   3763\u001b[0m     indexer \u001b[38;5;241m=\u001b[39m [indexer]\n",
      "File \u001b[1;32mc:\\Users\\KWABENABOATENG\\AppData\\Local\\Programs\\Python\\Python311\\Lib\\site-packages\\pandas\\core\\indexes\\base.py:3655\u001b[0m, in \u001b[0;36mIndex.get_loc\u001b[1;34m(self, key)\u001b[0m\n\u001b[0;32m   3653\u001b[0m     \u001b[38;5;28;01mreturn\u001b[39;00m \u001b[38;5;28mself\u001b[39m\u001b[38;5;241m.\u001b[39m_engine\u001b[38;5;241m.\u001b[39mget_loc(casted_key)\n\u001b[0;32m   3654\u001b[0m \u001b[38;5;28;01mexcept\u001b[39;00m \u001b[38;5;167;01mKeyError\u001b[39;00m \u001b[38;5;28;01mas\u001b[39;00m err:\n\u001b[1;32m-> 3655\u001b[0m     \u001b[38;5;28;01mraise\u001b[39;00m \u001b[38;5;167;01mKeyError\u001b[39;00m(key) \u001b[38;5;28;01mfrom\u001b[39;00m \u001b[38;5;21;01merr\u001b[39;00m\n\u001b[0;32m   3656\u001b[0m \u001b[38;5;28;01mexcept\u001b[39;00m \u001b[38;5;167;01mTypeError\u001b[39;00m:\n\u001b[0;32m   3657\u001b[0m     \u001b[38;5;66;03m# If we have a listlike key, _check_indexing_error will raise\u001b[39;00m\n\u001b[0;32m   3658\u001b[0m     \u001b[38;5;66;03m#  InvalidIndexError. Otherwise we fall through and re-raise\u001b[39;00m\n\u001b[0;32m   3659\u001b[0m     \u001b[38;5;66;03m#  the TypeError.\u001b[39;00m\n\u001b[0;32m   3660\u001b[0m     \u001b[38;5;28mself\u001b[39m\u001b[38;5;241m.\u001b[39m_check_indexing_error(key)\n",
      "\u001b[1;31mKeyError\u001b[0m: 'Date of Birth'"
     ]
    }
   ],
   "source": [
    "# Convert the 'Date of Birth' column to datetime\n",
    "customer_transactions['Date of Birth'] = pd.to_datetime(customer_transactions['Date of Birth'])\n",
    "\n",
    "# Calculate age based on the current date\n",
    "current_date = datetime.now()\n",
    "customer_transactions['Age'] = (current_date - customer_transactions['Date of Birth']) // pd.Timedelta(days=365)\n",
    "\n",
    "customer_transactions"
   ]
  },
  {
   "cell_type": "code",
   "execution_count": 132,
   "id": "af353e4a",
   "metadata": {},
   "outputs": [
    {
     "ename": "KeyError",
     "evalue": "'Age'",
     "output_type": "error",
     "traceback": [
      "\u001b[1;31m---------------------------------------------------------------------------\u001b[0m",
      "\u001b[1;31mKeyError\u001b[0m                                  Traceback (most recent call last)",
      "File \u001b[1;32mc:\\Users\\KWABENABOATENG\\AppData\\Local\\Programs\\Python\\Python311\\Lib\\site-packages\\pandas\\core\\indexes\\base.py:3653\u001b[0m, in \u001b[0;36mIndex.get_loc\u001b[1;34m(self, key)\u001b[0m\n\u001b[0;32m   3652\u001b[0m \u001b[38;5;28;01mtry\u001b[39;00m:\n\u001b[1;32m-> 3653\u001b[0m     \u001b[38;5;28;01mreturn\u001b[39;00m \u001b[38;5;28;43mself\u001b[39;49m\u001b[38;5;241;43m.\u001b[39;49m\u001b[43m_engine\u001b[49m\u001b[38;5;241;43m.\u001b[39;49m\u001b[43mget_loc\u001b[49m\u001b[43m(\u001b[49m\u001b[43mcasted_key\u001b[49m\u001b[43m)\u001b[49m\n\u001b[0;32m   3654\u001b[0m \u001b[38;5;28;01mexcept\u001b[39;00m \u001b[38;5;167;01mKeyError\u001b[39;00m \u001b[38;5;28;01mas\u001b[39;00m err:\n",
      "File \u001b[1;32mc:\\Users\\KWABENABOATENG\\AppData\\Local\\Programs\\Python\\Python311\\Lib\\site-packages\\pandas\\_libs\\index.pyx:147\u001b[0m, in \u001b[0;36mpandas._libs.index.IndexEngine.get_loc\u001b[1;34m()\u001b[0m\n",
      "File \u001b[1;32mc:\\Users\\KWABENABOATENG\\AppData\\Local\\Programs\\Python\\Python311\\Lib\\site-packages\\pandas\\_libs\\index.pyx:176\u001b[0m, in \u001b[0;36mpandas._libs.index.IndexEngine.get_loc\u001b[1;34m()\u001b[0m\n",
      "File \u001b[1;32mpandas\\_libs\\hashtable_class_helper.pxi:7080\u001b[0m, in \u001b[0;36mpandas._libs.hashtable.PyObjectHashTable.get_item\u001b[1;34m()\u001b[0m\n",
      "File \u001b[1;32mpandas\\_libs\\hashtable_class_helper.pxi:7088\u001b[0m, in \u001b[0;36mpandas._libs.hashtable.PyObjectHashTable.get_item\u001b[1;34m()\u001b[0m\n",
      "\u001b[1;31mKeyError\u001b[0m: 'Age'",
      "\nThe above exception was the direct cause of the following exception:\n",
      "\u001b[1;31mKeyError\u001b[0m                                  Traceback (most recent call last)",
      "Cell \u001b[1;32mIn[132], line 9\u001b[0m\n\u001b[0;32m      6\u001b[0m age_labels \u001b[38;5;241m=\u001b[39m [\u001b[38;5;124m'\u001b[39m\u001b[38;5;124mYoung\u001b[39m\u001b[38;5;124m'\u001b[39m, \u001b[38;5;124m'\u001b[39m\u001b[38;5;124mMiddle Age\u001b[39m\u001b[38;5;124m'\u001b[39m, \u001b[38;5;124m'\u001b[39m\u001b[38;5;124mOld\u001b[39m\u001b[38;5;124m'\u001b[39m]\n\u001b[0;32m      8\u001b[0m \u001b[38;5;66;03m# Apply age grouping\u001b[39;00m\n\u001b[1;32m----> 9\u001b[0m customer_transactions[\u001b[38;5;124m'\u001b[39m\u001b[38;5;124mAge Group\u001b[39m\u001b[38;5;124m'\u001b[39m] \u001b[38;5;241m=\u001b[39m pd\u001b[38;5;241m.\u001b[39mcut(\u001b[43mcustomer_transactions\u001b[49m\u001b[43m[\u001b[49m\u001b[38;5;124;43m'\u001b[39;49m\u001b[38;5;124;43mAge\u001b[39;49m\u001b[38;5;124;43m'\u001b[39;49m\u001b[43m]\u001b[49m, bins\u001b[38;5;241m=\u001b[39mage_bins, labels\u001b[38;5;241m=\u001b[39mage_labels, right\u001b[38;5;241m=\u001b[39m\u001b[38;5;28;01mFalse\u001b[39;00m)\n",
      "File \u001b[1;32mc:\\Users\\KWABENABOATENG\\AppData\\Local\\Programs\\Python\\Python311\\Lib\\site-packages\\pandas\\core\\frame.py:3761\u001b[0m, in \u001b[0;36mDataFrame.__getitem__\u001b[1;34m(self, key)\u001b[0m\n\u001b[0;32m   3759\u001b[0m \u001b[38;5;28;01mif\u001b[39;00m \u001b[38;5;28mself\u001b[39m\u001b[38;5;241m.\u001b[39mcolumns\u001b[38;5;241m.\u001b[39mnlevels \u001b[38;5;241m>\u001b[39m \u001b[38;5;241m1\u001b[39m:\n\u001b[0;32m   3760\u001b[0m     \u001b[38;5;28;01mreturn\u001b[39;00m \u001b[38;5;28mself\u001b[39m\u001b[38;5;241m.\u001b[39m_getitem_multilevel(key)\n\u001b[1;32m-> 3761\u001b[0m indexer \u001b[38;5;241m=\u001b[39m \u001b[38;5;28;43mself\u001b[39;49m\u001b[38;5;241;43m.\u001b[39;49m\u001b[43mcolumns\u001b[49m\u001b[38;5;241;43m.\u001b[39;49m\u001b[43mget_loc\u001b[49m\u001b[43m(\u001b[49m\u001b[43mkey\u001b[49m\u001b[43m)\u001b[49m\n\u001b[0;32m   3762\u001b[0m \u001b[38;5;28;01mif\u001b[39;00m is_integer(indexer):\n\u001b[0;32m   3763\u001b[0m     indexer \u001b[38;5;241m=\u001b[39m [indexer]\n",
      "File \u001b[1;32mc:\\Users\\KWABENABOATENG\\AppData\\Local\\Programs\\Python\\Python311\\Lib\\site-packages\\pandas\\core\\indexes\\base.py:3655\u001b[0m, in \u001b[0;36mIndex.get_loc\u001b[1;34m(self, key)\u001b[0m\n\u001b[0;32m   3653\u001b[0m     \u001b[38;5;28;01mreturn\u001b[39;00m \u001b[38;5;28mself\u001b[39m\u001b[38;5;241m.\u001b[39m_engine\u001b[38;5;241m.\u001b[39mget_loc(casted_key)\n\u001b[0;32m   3654\u001b[0m \u001b[38;5;28;01mexcept\u001b[39;00m \u001b[38;5;167;01mKeyError\u001b[39;00m \u001b[38;5;28;01mas\u001b[39;00m err:\n\u001b[1;32m-> 3655\u001b[0m     \u001b[38;5;28;01mraise\u001b[39;00m \u001b[38;5;167;01mKeyError\u001b[39;00m(key) \u001b[38;5;28;01mfrom\u001b[39;00m \u001b[38;5;21;01merr\u001b[39;00m\n\u001b[0;32m   3656\u001b[0m \u001b[38;5;28;01mexcept\u001b[39;00m \u001b[38;5;167;01mTypeError\u001b[39;00m:\n\u001b[0;32m   3657\u001b[0m     \u001b[38;5;66;03m# If we have a listlike key, _check_indexing_error will raise\u001b[39;00m\n\u001b[0;32m   3658\u001b[0m     \u001b[38;5;66;03m#  InvalidIndexError. Otherwise we fall through and re-raise\u001b[39;00m\n\u001b[0;32m   3659\u001b[0m     \u001b[38;5;66;03m#  the TypeError.\u001b[39;00m\n\u001b[0;32m   3660\u001b[0m     \u001b[38;5;28mself\u001b[39m\u001b[38;5;241m.\u001b[39m_check_indexing_error(key)\n",
      "\u001b[1;31mKeyError\u001b[0m: 'Age'"
     ]
    }
   ],
   "source": [
    "# Group Ages into categories: young, middle age, and old\n",
    "\n",
    "# Define age bins and labels\n",
    "age_bins = [0, 30, 50, 100]  # You can adjust these age boundaries as needed\n",
    "\n",
    "age_labels = ['Young', 'Middle Age', 'Old']\n",
    "\n",
    "# Apply age grouping\n",
    "customer_transactions['Age Group'] = pd.cut(customer_transactions['Age'], bins=age_bins, labels=age_labels, right=False)\n"
   ]
  },
  {
   "cell_type": "code",
   "execution_count": null,
   "id": "0c0c406a",
   "metadata": {},
   "outputs": [],
   "source": [
    "customer_transactions.head()"
   ]
  },
  {
   "cell_type": "code",
   "execution_count": null,
   "id": "c2d8b34d",
   "metadata": {},
   "outputs": [],
   "source": [
    "# Create a pie chart to visualize the results\n",
    "labels = ['Cosmetic', 'Clothing', 'Travel']\n",
    "sizes = [grouped_data['Travel'].max(), grouped_data['Clothing'].max(), grouped_data['Cosmetic'].max()]\n",
    "explode = (0.1, 0, 0)  # Explode the 1st slice (Cosmetic)\n",
    "\n",
    "plt.pie(sizes, explode=explode, labels=labels, autopct='%1.1f%%', startangle=140)\n",
    "plt.axis('equal')  # Equal aspect ratio ensures that pie is drawn as a circle.\n",
    "\n",
    "plt.title('Age Groups Patronizing Products')\n",
    "\n",
    "plt.show()"
   ]
  },
  {
   "cell_type": "markdown",
   "id": "ccb8055c",
   "metadata": {},
   "source": [
    "#### Question 3\n",
    " - Which date had the highest patronage for Clothing?"
   ]
  },
  {
   "cell_type": "code",
   "execution_count": null,
   "id": "d38b5895",
   "metadata": {},
   "outputs": [],
   "source": [
    "# List of categories you want to analyze\n",
    "categories_to_analyze = ['Cosmetic', 'Clothing', 'Travel' , 'Electronics' , 'Market', 'Restaurant']\n",
    "\n",
    "# Iterate through the categories\n",
    "for category in categories_to_analyze:\n",
    "    # Filter the data for the specific category\n",
    "    category_data = customer_transactions[customer_transactions['Category'] == category]\n",
    "    \n",
    "    # Group the data by date and count the number of purchases for each date\n",
    "    date_patronage = category_data.groupby('Date').size()\n",
    "    \n",
    "    # Find the date with the highest patronage for the category\n",
    "    date_with_highest_patronage = date_patronage.idxmax()\n",
    "    highest_patronage_count = date_patronage.max()\n",
    "    \n",
    "    print(f\"For the '{category}' category:\")\n",
    "    print(f\"The date with the highest patronage is {date_with_highest_patronage} with {highest_patronage_count} purchases.\")\n",
    "    print()\n"
   ]
  },
  {
   "cell_type": "markdown",
   "id": "562c92db",
   "metadata": {},
   "source": [
    " #### Question 4\n",
    " - What is the total number of person based on their gender patronized restaurant?"
   ]
  },
  {
   "cell_type": "code",
   "execution_count": null,
   "id": "0c441a4f",
   "metadata": {},
   "outputs": [],
   "source": [
    "# Filter the data for the \"Restaurant\" category\n",
    "restaurant_data = customer_transactions[customer_transactions['Category'] == 'Restaurant']\n",
    "\n",
    "# Group the data by gender and count the number of patrons for each gender\n",
    "gender_patrons = restaurant_data['Gender'].value_counts()\n",
    "\n",
    "print(\"Total number of people who patronized the restaurant based on gender:\")\n",
    "print(gender_patrons)"
   ]
  },
  {
   "cell_type": "code",
   "execution_count": null,
   "id": "61e0ebcf",
   "metadata": {},
   "outputs": [],
   "source": [
    "customer_transactions = pd.DataFrame({'Gender': gender_patrons.index, 'Number of Patrons': gender_patrons.values})\n",
    "\n",
    "# Creating a bar chart using Plotly Express\n",
    "fig = px.bar(customer_transactions, x='Gender', y='Number of Patrons',\n",
    "             color='Gender',\n",
    "             title='Total Number of Restaurant Patrons by Gender',\n",
    "             labels={'Number of Patrons': 'Number of Patrons', 'Gender': 'Gender'},\n",
    "             width=1000, height=00)\n",
    "\n",
    "# Show the plot\n",
    "fig.show()"
   ]
  },
  {
   "cell_type": "markdown",
   "id": "478dc34e",
   "metadata": {},
   "source": [
    " #### Question 5\n",
    " - What is the trend in the transactions?"
   ]
  },
  {
   "cell_type": "code",
   "execution_count": null,
   "id": "68425e7e",
   "metadata": {},
   "outputs": [],
   "source": [
    "# Convert the 'transaction_date' column to a datetime object\n",
    "customer_transactions['Date'] = pd.to_datetime(customer_transactions['Date'])\n",
    "\n",
    "# Group the data by transaction date and count the number of transactions for each date\n",
    "transaction_trend = customer_transactions.groupby('Date').size()\n",
    "\n",
    "# Create a line chart to visualize the transaction trend\n",
    "plt.figure(figsize=(12, 6))\n",
    "plt.plot(transaction_trend.index, transaction_trend.values, marker='o', color='red')\n",
    "plt.title('Transaction Trend Over The Transaction Period.')\n",
    "plt.xlabel('Transaction Date')\n",
    "plt.ylabel('Number of Transactions')\n",
    "plt.grid(True)\n",
    "\n",
    "# Optionally, format the x-axis labels for date\n",
    "plt.gca().xaxis.set_major_formatter(plt.matplotlib.dates.DateFormatter('%Y-%m-%d'))\n",
    "plt.gca().xaxis.set_major_locator(plt.matplotlib.dates.DayLocator(interval=10))  # Adjust the interval as needed\n",
    "\n",
    "plt.xticks(rotation=45)\n",
    "\n",
    "plt.show()"
   ]
  },
  {
   "cell_type": "markdown",
   "id": "7b48c2ec",
   "metadata": {},
   "source": [
    " #### Question 6\n",
    " - What is the percentage for the various gender? "
   ]
  },
  {
   "cell_type": "code",
   "execution_count": null,
   "id": "7302f780",
   "metadata": {},
   "outputs": [],
   "source": [
    "#value counts for each gender\n",
    "\n",
    "customer_transactions['Gender'].value_counts()"
   ]
  },
  {
   "cell_type": "code",
   "execution_count": null,
   "id": "5612c3db",
   "metadata": {},
   "outputs": [],
   "source": [
    "# Assuming your DataFrame has a 'Gender' column, you can count the number of transactions for each gender\n",
    "gender_counts = customer_transactions['Gender'].value_counts()\n",
    "\n",
    "# Create a pie chart\n",
    "plt.figure(figsize=(7, 7))\n",
    "plt.pie(gender_counts, labels=gender_counts.index, autopct='%1.1f%%', startangle=140)\n",
    "plt.title('Gender Distribution Percentage')\n",
    "\n",
    "# Add a legend\n",
    "plt.legend()\n",
    "\n",
    "plt.show()"
   ]
  },
  {
   "cell_type": "code",
   "execution_count": null,
   "id": "ee482af2",
   "metadata": {},
   "outputs": [],
   "source": [
    "# Group by \"Age Group\" and count the number of each gender within each age group\n",
    "age_gender_distribution = customer_transactions.groupby(['Age Group', 'Gender']).size().unstack(fill_value=0)\n",
    "\n",
    "# Display the age-gender distribution\n",
    "print(age_gender_distribution)"
   ]
  },
  {
   "cell_type": "code",
   "execution_count": null,
   "id": "fb0c6478",
   "metadata": {},
   "outputs": [],
   "source": [
    "# Plot the age-gender distribution as a bar chart\n",
    "age_gender_distribution.plot(kind='bar')\n",
    "plt.title('Age-Gender Distribution')\n",
    "plt.xlabel('Age Group')\n",
    "plt.ylabel('Count')\n",
    "\n",
    "plt.show()"
   ]
  },
  {
   "cell_type": "markdown",
   "id": "0c304d1c",
   "metadata": {},
   "source": [
    " #### Question 7\n",
    " - Which merchant name had the highest number of transactions during the period?"
   ]
  },
  {
   "cell_type": "code",
   "execution_count": null,
   "id": "97d6513e",
   "metadata": {},
   "outputs": [],
   "source": [
    "# Group the data by the merchant and count the number of transactions for each merchant\n",
    "\n",
    "merchant_transaction_counts = customer_transactions['Merchant Name'].value_counts()\n",
    "\n",
    "merchant_with_highest_transactions = merchant_transaction_counts.idxmax()\n",
    "\n",
    "highest_transaction_count = merchant_transaction_counts.max()\n",
    "\n",
    "print(f\"The merchant with the highest number of transactions is '{merchant_with_highest_transactions}'\")\n",
    "print()\n",
    "print(f\"They have {highest_transaction_count} transactions.\")"
   ]
  }
 ],
 "metadata": {
  "kernelspec": {
   "display_name": "Python 3 (ipykernel)",
   "language": "python",
   "name": "python3"
  },
  "language_info": {
   "codemirror_mode": {
    "name": "ipython",
    "version": 3
   },
   "file_extension": ".py",
   "mimetype": "text/x-python",
   "name": "python",
   "nbconvert_exporter": "python",
   "pygments_lexer": "ipython3",
   "version": "3.11.1"
  }
 },
 "nbformat": 4,
 "nbformat_minor": 5
}

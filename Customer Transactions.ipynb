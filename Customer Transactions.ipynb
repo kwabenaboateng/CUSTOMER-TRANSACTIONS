{
 "cells": [
  {
   "cell_type": "markdown",
   "id": "9835c07e",
   "metadata": {},
   "source": [
    "## <b><center>CUSTOMER TRANSACTIONS</b></center>"
   ]
  },
  {
   "cell_type": "markdown",
   "id": "aa0d7f17",
   "metadata": {},
   "source": [
    "##### <b>IMPORT LIBRARY PACKAGES</b>"
   ]
  },
  {
   "cell_type": "code",
   "execution_count": 1,
   "id": "2d9a89c2",
   "metadata": {},
   "outputs": [],
   "source": [
    "import numpy as np\n",
    "import pandas as pd\n",
    "import seaborn as sns\n",
    "import plotly.express as px\n",
    "import matplotlib.pyplot as plt\n",
    "from datetime import datetime\n",
    "\n",
    "from sklearn.preprocessing import LabelEncoder \n",
    "from sklearn.tree import DecisionTreeClassifier\n",
    "from sklearn.ensemble import RandomForestClassifier\n",
    "from sklearn.model_selection import train_test_split\n",
    "from sklearn.metrics import accuracy_score, classification_report"
   ]
  },
  {
   "cell_type": "markdown",
   "id": "1e2c112e",
   "metadata": {},
   "source": [
    "##### <b>LOAD & DISPLAY DATASET</b>"
   ]
  },
  {
   "cell_type": "code",
   "execution_count": 2,
   "id": "c46a87fd",
   "metadata": {},
   "outputs": [
    {
     "data": {
      "text/html": [
       "<div>\n",
       "<style scoped>\n",
       "    .dataframe tbody tr th:only-of-type {\n",
       "        vertical-align: middle;\n",
       "    }\n",
       "\n",
       "    .dataframe tbody tr th {\n",
       "        vertical-align: top;\n",
       "    }\n",
       "\n",
       "    .dataframe thead th {\n",
       "        text-align: right;\n",
       "    }\n",
       "</style>\n",
       "<table border=\"1\" class=\"dataframe\">\n",
       "  <thead>\n",
       "    <tr style=\"text-align: right;\">\n",
       "      <th></th>\n",
       "      <th>Customer ID</th>\n",
       "      <th>Name</th>\n",
       "      <th>Surname</th>\n",
       "      <th>Gender</th>\n",
       "      <th>Birthdate</th>\n",
       "      <th>Transaction Amount</th>\n",
       "      <th>Date</th>\n",
       "      <th>Merchant Name</th>\n",
       "      <th>Category</th>\n",
       "    </tr>\n",
       "  </thead>\n",
       "  <tbody>\n",
       "    <tr>\n",
       "      <th>0</th>\n",
       "      <td>752858</td>\n",
       "      <td>Sean</td>\n",
       "      <td>Rodriguez</td>\n",
       "      <td>F</td>\n",
       "      <td>2002-10-20</td>\n",
       "      <td>35.47</td>\n",
       "      <td>2023-04-03</td>\n",
       "      <td>Smith-Russell</td>\n",
       "      <td>Cosmetic</td>\n",
       "    </tr>\n",
       "    <tr>\n",
       "      <th>1</th>\n",
       "      <td>26381</td>\n",
       "      <td>Michelle</td>\n",
       "      <td>Phelps</td>\n",
       "      <td>NaN</td>\n",
       "      <td>1985-10-24</td>\n",
       "      <td>2552.72</td>\n",
       "      <td>2023-07-17</td>\n",
       "      <td>Peck, Spence and Young</td>\n",
       "      <td>Travel</td>\n",
       "    </tr>\n",
       "    <tr>\n",
       "      <th>2</th>\n",
       "      <td>305449</td>\n",
       "      <td>Jacob</td>\n",
       "      <td>Williams</td>\n",
       "      <td>M</td>\n",
       "      <td>1981-10-25</td>\n",
       "      <td>115.97</td>\n",
       "      <td>2023-09-20</td>\n",
       "      <td>Steele Inc</td>\n",
       "      <td>Clothing</td>\n",
       "    </tr>\n",
       "    <tr>\n",
       "      <th>3</th>\n",
       "      <td>988259</td>\n",
       "      <td>Nathan</td>\n",
       "      <td>Snyder</td>\n",
       "      <td>M</td>\n",
       "      <td>1977-10-26</td>\n",
       "      <td>11.31</td>\n",
       "      <td>2023-01-11</td>\n",
       "      <td>Wilson, Wilson and Russell</td>\n",
       "      <td>Cosmetic</td>\n",
       "    </tr>\n",
       "    <tr>\n",
       "      <th>4</th>\n",
       "      <td>764762</td>\n",
       "      <td>Crystal</td>\n",
       "      <td>Knapp</td>\n",
       "      <td>F</td>\n",
       "      <td>1951-11-02</td>\n",
       "      <td>62.21</td>\n",
       "      <td>2023-06-13</td>\n",
       "      <td>Palmer-Hinton</td>\n",
       "      <td>Electronics</td>\n",
       "    </tr>\n",
       "    <tr>\n",
       "      <th>...</th>\n",
       "      <td>...</td>\n",
       "      <td>...</td>\n",
       "      <td>...</td>\n",
       "      <td>...</td>\n",
       "      <td>...</td>\n",
       "      <td>...</td>\n",
       "      <td>...</td>\n",
       "      <td>...</td>\n",
       "      <td>...</td>\n",
       "    </tr>\n",
       "    <tr>\n",
       "      <th>49995</th>\n",
       "      <td>891845</td>\n",
       "      <td>Christine</td>\n",
       "      <td>Leach</td>\n",
       "      <td>F</td>\n",
       "      <td>1997-10-21</td>\n",
       "      <td>108.74</td>\n",
       "      <td>2023-08-30</td>\n",
       "      <td>Alexander Ltd</td>\n",
       "      <td>Market</td>\n",
       "    </tr>\n",
       "    <tr>\n",
       "      <th>49996</th>\n",
       "      <td>800560</td>\n",
       "      <td>Anna</td>\n",
       "      <td>Allen</td>\n",
       "      <td>F</td>\n",
       "      <td>1999-10-21</td>\n",
       "      <td>133.66</td>\n",
       "      <td>2023-05-03</td>\n",
       "      <td>Knapp-Calhoun</td>\n",
       "      <td>Cosmetic</td>\n",
       "    </tr>\n",
       "    <tr>\n",
       "      <th>49997</th>\n",
       "      <td>133285</td>\n",
       "      <td>Nicole</td>\n",
       "      <td>Franklin</td>\n",
       "      <td>M</td>\n",
       "      <td>1979-10-26</td>\n",
       "      <td>464.29</td>\n",
       "      <td>2023-02-12</td>\n",
       "      <td>Cantrell, Haynes and Ballard</td>\n",
       "      <td>Market</td>\n",
       "    </tr>\n",
       "    <tr>\n",
       "      <th>49998</th>\n",
       "      <td>616122</td>\n",
       "      <td>Maria</td>\n",
       "      <td>Keller</td>\n",
       "      <td>M</td>\n",
       "      <td>1981-10-25</td>\n",
       "      <td>472.57</td>\n",
       "      <td>2023-03-25</td>\n",
       "      <td>Wilson, Jackson and Beard</td>\n",
       "      <td>Market</td>\n",
       "    </tr>\n",
       "    <tr>\n",
       "      <th>49999</th>\n",
       "      <td>832184</td>\n",
       "      <td>Billy</td>\n",
       "      <td>Walker</td>\n",
       "      <td>F</td>\n",
       "      <td>1958-10-31</td>\n",
       "      <td>270.67</td>\n",
       "      <td>2023-05-20</td>\n",
       "      <td>Combs LLC</td>\n",
       "      <td>Market</td>\n",
       "    </tr>\n",
       "  </tbody>\n",
       "</table>\n",
       "<p>50000 rows × 9 columns</p>\n",
       "</div>"
      ],
      "text/plain": [
       "       Customer ID       Name    Surname Gender   Birthdate  \\\n",
       "0           752858       Sean  Rodriguez      F  2002-10-20   \n",
       "1            26381   Michelle     Phelps    NaN  1985-10-24   \n",
       "2           305449      Jacob   Williams      M  1981-10-25   \n",
       "3           988259     Nathan     Snyder      M  1977-10-26   \n",
       "4           764762    Crystal      Knapp      F  1951-11-02   \n",
       "...            ...        ...        ...    ...         ...   \n",
       "49995       891845  Christine      Leach      F  1997-10-21   \n",
       "49996       800560       Anna      Allen      F  1999-10-21   \n",
       "49997       133285     Nicole   Franklin      M  1979-10-26   \n",
       "49998       616122      Maria     Keller      M  1981-10-25   \n",
       "49999       832184      Billy     Walker      F  1958-10-31   \n",
       "\n",
       "       Transaction Amount        Date                 Merchant Name  \\\n",
       "0                   35.47  2023-04-03                 Smith-Russell   \n",
       "1                 2552.72  2023-07-17        Peck, Spence and Young   \n",
       "2                  115.97  2023-09-20                    Steele Inc   \n",
       "3                   11.31  2023-01-11    Wilson, Wilson and Russell   \n",
       "4                   62.21  2023-06-13                 Palmer-Hinton   \n",
       "...                   ...         ...                           ...   \n",
       "49995              108.74  2023-08-30                 Alexander Ltd   \n",
       "49996              133.66  2023-05-03                 Knapp-Calhoun   \n",
       "49997              464.29  2023-02-12  Cantrell, Haynes and Ballard   \n",
       "49998              472.57  2023-03-25     Wilson, Jackson and Beard   \n",
       "49999              270.67  2023-05-20                     Combs LLC   \n",
       "\n",
       "          Category  \n",
       "0         Cosmetic  \n",
       "1           Travel  \n",
       "2         Clothing  \n",
       "3         Cosmetic  \n",
       "4      Electronics  \n",
       "...            ...  \n",
       "49995       Market  \n",
       "49996     Cosmetic  \n",
       "49997       Market  \n",
       "49998       Market  \n",
       "49999       Market  \n",
       "\n",
       "[50000 rows x 9 columns]"
      ]
     },
     "execution_count": 2,
     "metadata": {},
     "output_type": "execute_result"
    }
   ],
   "source": [
    "customer_transactions = pd.read_csv(\"sample_dataset.csv\")\n",
    "customer_transactions"
   ]
  },
  {
   "cell_type": "markdown",
   "id": "58ff555f",
   "metadata": {},
   "source": [
    "##### <b>DATA UNDERSTANDING</b>"
   ]
  },
  {
   "cell_type": "markdown",
   "id": "c476c90a",
   "metadata": {},
   "source": [
    "The data consists of customer transaction records with the following columns:\n",
    "\n",
    "* customer_id: Unique identifier for each customer.\n",
    "\n",
    "* Name: First name of the customer.\n",
    "\n",
    "* Surname: Last name of the customer.\n",
    "\n",
    "* Gender: the sexual orientation of the customer.\n",
    "\n",
    "* Birthdate: the day, month and year the customer was born.\n",
    "\n",
    "* Transaction Amount: Amount of transaction made.\n",
    "* Date: Date of the transaction.\n",
    "* Merchant Name: the name of the merchant making the transactions.\n",
    "* Category: Product category."
   ]
  },
  {
   "cell_type": "markdown",
   "id": "4100d3d1",
   "metadata": {},
   "source": [
    "##### <b>DATA EXPLORATION</b>"
   ]
  },
  {
   "cell_type": "markdown",
   "id": "87a448c1",
   "metadata": {},
   "source": [
    "CHECK THE SHAPE"
   ]
  },
  {
   "cell_type": "code",
   "execution_count": 3,
   "id": "550b2b1a",
   "metadata": {},
   "outputs": [
    {
     "name": "stdout",
     "output_type": "stream",
     "text": [
      "The number of rows and columns in this dataset is (50000, 9) respectively\n"
     ]
    }
   ],
   "source": [
    "print('The number of rows and columns in this dataset is', customer_transactions.shape, 'respectively')"
   ]
  },
  {
   "cell_type": "markdown",
   "id": "da2b3b90",
   "metadata": {},
   "source": [
    "CHECK THE SIZE"
   ]
  },
  {
   "cell_type": "code",
   "execution_count": 4,
   "id": "7b2ca365",
   "metadata": {},
   "outputs": [
    {
     "name": "stdout",
     "output_type": "stream",
     "text": [
      "The size of this dataset is 450000\n"
     ]
    }
   ],
   "source": [
    "print('The size of this dataset is', customer_transactions.size) "
   ]
  },
  {
   "cell_type": "markdown",
   "id": "bceb7d9d",
   "metadata": {},
   "source": [
    "CHECK THE COLUMNS"
   ]
  },
  {
   "cell_type": "code",
   "execution_count": 5,
   "id": "6975c674",
   "metadata": {},
   "outputs": [
    {
     "data": {
      "text/plain": [
       "Index(['Customer ID', 'Name', 'Surname', 'Gender', 'Birthdate',\n",
       "       'Transaction Amount', 'Date', 'Merchant Name', 'Category'],\n",
       "      dtype='object')"
      ]
     },
     "execution_count": 5,
     "metadata": {},
     "output_type": "execute_result"
    }
   ],
   "source": [
    "customer_transactions.columns"
   ]
  },
  {
   "cell_type": "markdown",
   "id": "62cc7edf",
   "metadata": {},
   "source": [
    "CHECK INFO"
   ]
  },
  {
   "cell_type": "code",
   "execution_count": 7,
   "id": "a8986b39",
   "metadata": {},
   "outputs": [
    {
     "name": "stdout",
     "output_type": "stream",
     "text": [
      "<class 'pandas.core.frame.DataFrame'>\n",
      "RangeIndex: 50000 entries, 0 to 49999\n",
      "Data columns (total 9 columns):\n",
      " #   Column              Non-Null Count  Dtype  \n",
      "---  ------              --------------  -----  \n",
      " 0   Customer ID         50000 non-null  int64  \n",
      " 1   Name                50000 non-null  object \n",
      " 2   Surname             50000 non-null  object \n",
      " 3   Gender              44953 non-null  object \n",
      " 4   Birthdate           50000 non-null  object \n",
      " 5   Transaction Amount  50000 non-null  float64\n",
      " 6   Date                50000 non-null  object \n",
      " 7   Merchant Name       50000 non-null  object \n",
      " 8   Category            50000 non-null  object \n",
      "dtypes: float64(1), int64(1), object(7)\n",
      "memory usage: 3.4+ MB\n"
     ]
    }
   ],
   "source": [
    "customer_transactions.info()"
   ]
  },
  {
   "cell_type": "code",
   "execution_count": 8,
   "id": "10917ce9",
   "metadata": {},
   "outputs": [
    {
     "data": {
      "text/html": [
       "<div>\n",
       "<style scoped>\n",
       "    .dataframe tbody tr th:only-of-type {\n",
       "        vertical-align: middle;\n",
       "    }\n",
       "\n",
       "    .dataframe tbody tr th {\n",
       "        vertical-align: top;\n",
       "    }\n",
       "\n",
       "    .dataframe thead th {\n",
       "        text-align: right;\n",
       "    }\n",
       "</style>\n",
       "<table border=\"1\" class=\"dataframe\">\n",
       "  <thead>\n",
       "    <tr style=\"text-align: right;\">\n",
       "      <th></th>\n",
       "      <th>Customer ID</th>\n",
       "      <th>Transaction Amount</th>\n",
       "    </tr>\n",
       "  </thead>\n",
       "  <tbody>\n",
       "    <tr>\n",
       "      <th>count</th>\n",
       "      <td>50000.00000</td>\n",
       "      <td>50000.000000</td>\n",
       "    </tr>\n",
       "    <tr>\n",
       "      <th>mean</th>\n",
       "      <td>500136.79696</td>\n",
       "      <td>442.119239</td>\n",
       "    </tr>\n",
       "    <tr>\n",
       "      <th>std</th>\n",
       "      <td>288232.43164</td>\n",
       "      <td>631.669724</td>\n",
       "    </tr>\n",
       "    <tr>\n",
       "      <th>min</th>\n",
       "      <td>29.00000</td>\n",
       "      <td>5.010000</td>\n",
       "    </tr>\n",
       "    <tr>\n",
       "      <th>25%</th>\n",
       "      <td>251191.50000</td>\n",
       "      <td>79.007500</td>\n",
       "    </tr>\n",
       "    <tr>\n",
       "      <th>50%</th>\n",
       "      <td>499520.50000</td>\n",
       "      <td>182.195000</td>\n",
       "    </tr>\n",
       "    <tr>\n",
       "      <th>75%</th>\n",
       "      <td>749854.25000</td>\n",
       "      <td>470.515000</td>\n",
       "    </tr>\n",
       "    <tr>\n",
       "      <th>max</th>\n",
       "      <td>999997.00000</td>\n",
       "      <td>2999.880000</td>\n",
       "    </tr>\n",
       "  </tbody>\n",
       "</table>\n",
       "</div>"
      ],
      "text/plain": [
       "        Customer ID  Transaction Amount\n",
       "count   50000.00000        50000.000000\n",
       "mean   500136.79696          442.119239\n",
       "std    288232.43164          631.669724\n",
       "min        29.00000            5.010000\n",
       "25%    251191.50000           79.007500\n",
       "50%    499520.50000          182.195000\n",
       "75%    749854.25000          470.515000\n",
       "max    999997.00000         2999.880000"
      ]
     },
     "execution_count": 8,
     "metadata": {},
     "output_type": "execute_result"
    }
   ],
   "source": [
    "customer_transactions.describe()"
   ]
  },
  {
   "cell_type": "code",
   "execution_count": 10,
   "id": "e17e7aaa",
   "metadata": {},
   "outputs": [
    {
     "data": {
      "text/html": [
       "<div>\n",
       "<style scoped>\n",
       "    .dataframe tbody tr th:only-of-type {\n",
       "        vertical-align: middle;\n",
       "    }\n",
       "\n",
       "    .dataframe tbody tr th {\n",
       "        vertical-align: top;\n",
       "    }\n",
       "\n",
       "    .dataframe thead th {\n",
       "        text-align: right;\n",
       "    }\n",
       "</style>\n",
       "<table border=\"1\" class=\"dataframe\">\n",
       "  <thead>\n",
       "    <tr style=\"text-align: right;\">\n",
       "      <th></th>\n",
       "      <th>count</th>\n",
       "      <th>unique</th>\n",
       "      <th>top</th>\n",
       "      <th>freq</th>\n",
       "      <th>mean</th>\n",
       "      <th>std</th>\n",
       "      <th>min</th>\n",
       "      <th>25%</th>\n",
       "      <th>50%</th>\n",
       "      <th>75%</th>\n",
       "      <th>max</th>\n",
       "    </tr>\n",
       "  </thead>\n",
       "  <tbody>\n",
       "    <tr>\n",
       "      <th>Customer ID</th>\n",
       "      <td>50000.0</td>\n",
       "      <td>NaN</td>\n",
       "      <td>NaN</td>\n",
       "      <td>NaN</td>\n",
       "      <td>500136.79696</td>\n",
       "      <td>288232.43164</td>\n",
       "      <td>29.0</td>\n",
       "      <td>251191.5</td>\n",
       "      <td>499520.5</td>\n",
       "      <td>749854.25</td>\n",
       "      <td>999997.0</td>\n",
       "    </tr>\n",
       "    <tr>\n",
       "      <th>Name</th>\n",
       "      <td>50000</td>\n",
       "      <td>690</td>\n",
       "      <td>Michael</td>\n",
       "      <td>1167</td>\n",
       "      <td>NaN</td>\n",
       "      <td>NaN</td>\n",
       "      <td>NaN</td>\n",
       "      <td>NaN</td>\n",
       "      <td>NaN</td>\n",
       "      <td>NaN</td>\n",
       "      <td>NaN</td>\n",
       "    </tr>\n",
       "    <tr>\n",
       "      <th>Surname</th>\n",
       "      <td>50000</td>\n",
       "      <td>1000</td>\n",
       "      <td>Smith</td>\n",
       "      <td>1095</td>\n",
       "      <td>NaN</td>\n",
       "      <td>NaN</td>\n",
       "      <td>NaN</td>\n",
       "      <td>NaN</td>\n",
       "      <td>NaN</td>\n",
       "      <td>NaN</td>\n",
       "      <td>NaN</td>\n",
       "    </tr>\n",
       "    <tr>\n",
       "      <th>Gender</th>\n",
       "      <td>44953</td>\n",
       "      <td>2</td>\n",
       "      <td>F</td>\n",
       "      <td>22713</td>\n",
       "      <td>NaN</td>\n",
       "      <td>NaN</td>\n",
       "      <td>NaN</td>\n",
       "      <td>NaN</td>\n",
       "      <td>NaN</td>\n",
       "      <td>NaN</td>\n",
       "      <td>NaN</td>\n",
       "    </tr>\n",
       "    <tr>\n",
       "      <th>Birthdate</th>\n",
       "      <td>50000</td>\n",
       "      <td>58</td>\n",
       "      <td>1954-11-01</td>\n",
       "      <td>914</td>\n",
       "      <td>NaN</td>\n",
       "      <td>NaN</td>\n",
       "      <td>NaN</td>\n",
       "      <td>NaN</td>\n",
       "      <td>NaN</td>\n",
       "      <td>NaN</td>\n",
       "      <td>NaN</td>\n",
       "    </tr>\n",
       "    <tr>\n",
       "      <th>Transaction Amount</th>\n",
       "      <td>50000.0</td>\n",
       "      <td>NaN</td>\n",
       "      <td>NaN</td>\n",
       "      <td>NaN</td>\n",
       "      <td>442.119239</td>\n",
       "      <td>631.669724</td>\n",
       "      <td>5.01</td>\n",
       "      <td>79.0075</td>\n",
       "      <td>182.195</td>\n",
       "      <td>470.515</td>\n",
       "      <td>2999.88</td>\n",
       "    </tr>\n",
       "    <tr>\n",
       "      <th>Date</th>\n",
       "      <td>50000</td>\n",
       "      <td>287</td>\n",
       "      <td>2023-06-30</td>\n",
       "      <td>200</td>\n",
       "      <td>NaN</td>\n",
       "      <td>NaN</td>\n",
       "      <td>NaN</td>\n",
       "      <td>NaN</td>\n",
       "      <td>NaN</td>\n",
       "      <td>NaN</td>\n",
       "      <td>NaN</td>\n",
       "    </tr>\n",
       "    <tr>\n",
       "      <th>Merchant Name</th>\n",
       "      <td>50000</td>\n",
       "      <td>36939</td>\n",
       "      <td>Smith Ltd</td>\n",
       "      <td>69</td>\n",
       "      <td>NaN</td>\n",
       "      <td>NaN</td>\n",
       "      <td>NaN</td>\n",
       "      <td>NaN</td>\n",
       "      <td>NaN</td>\n",
       "      <td>NaN</td>\n",
       "      <td>NaN</td>\n",
       "    </tr>\n",
       "    <tr>\n",
       "      <th>Category</th>\n",
       "      <td>50000</td>\n",
       "      <td>6</td>\n",
       "      <td>Restaurant</td>\n",
       "      <td>8413</td>\n",
       "      <td>NaN</td>\n",
       "      <td>NaN</td>\n",
       "      <td>NaN</td>\n",
       "      <td>NaN</td>\n",
       "      <td>NaN</td>\n",
       "      <td>NaN</td>\n",
       "      <td>NaN</td>\n",
       "    </tr>\n",
       "  </tbody>\n",
       "</table>\n",
       "</div>"
      ],
      "text/plain": [
       "                      count unique         top   freq          mean  \\\n",
       "Customer ID         50000.0    NaN         NaN    NaN  500136.79696   \n",
       "Name                  50000    690     Michael   1167           NaN   \n",
       "Surname               50000   1000       Smith   1095           NaN   \n",
       "Gender                44953      2           F  22713           NaN   \n",
       "Birthdate             50000     58  1954-11-01    914           NaN   \n",
       "Transaction Amount  50000.0    NaN         NaN    NaN    442.119239   \n",
       "Date                  50000    287  2023-06-30    200           NaN   \n",
       "Merchant Name         50000  36939   Smith Ltd     69           NaN   \n",
       "Category              50000      6  Restaurant   8413           NaN   \n",
       "\n",
       "                             std   min       25%       50%        75%  \\\n",
       "Customer ID         288232.43164  29.0  251191.5  499520.5  749854.25   \n",
       "Name                         NaN   NaN       NaN       NaN        NaN   \n",
       "Surname                      NaN   NaN       NaN       NaN        NaN   \n",
       "Gender                       NaN   NaN       NaN       NaN        NaN   \n",
       "Birthdate                    NaN   NaN       NaN       NaN        NaN   \n",
       "Transaction Amount    631.669724  5.01   79.0075   182.195    470.515   \n",
       "Date                         NaN   NaN       NaN       NaN        NaN   \n",
       "Merchant Name                NaN   NaN       NaN       NaN        NaN   \n",
       "Category                     NaN   NaN       NaN       NaN        NaN   \n",
       "\n",
       "                         max  \n",
       "Customer ID         999997.0  \n",
       "Name                     NaN  \n",
       "Surname                  NaN  \n",
       "Gender                   NaN  \n",
       "Birthdate                NaN  \n",
       "Transaction Amount   2999.88  \n",
       "Date                     NaN  \n",
       "Merchant Name            NaN  \n",
       "Category                 NaN  "
      ]
     },
     "execution_count": 10,
     "metadata": {},
     "output_type": "execute_result"
    }
   ],
   "source": [
    "customer_transactions.describe(include='all').T "
   ]
  },
  {
   "cell_type": "markdown",
   "id": "1c3736e9",
   "metadata": {},
   "source": [
    "##### <b>DATA PREPARATION</b>"
   ]
  },
  {
   "cell_type": "markdown",
   "id": "d311fc85",
   "metadata": {},
   "source": [
    "CHECK FOR MISSING VALUES"
   ]
  },
  {
   "cell_type": "code",
   "execution_count": 34,
   "id": "669e67c0",
   "metadata": {},
   "outputs": [
    {
     "data": {
      "text/html": [
       "<div>\n",
       "<style scoped>\n",
       "    .dataframe tbody tr th:only-of-type {\n",
       "        vertical-align: middle;\n",
       "    }\n",
       "\n",
       "    .dataframe tbody tr th {\n",
       "        vertical-align: top;\n",
       "    }\n",
       "\n",
       "    .dataframe thead th {\n",
       "        text-align: right;\n",
       "    }\n",
       "</style>\n",
       "<table border=\"1\" class=\"dataframe\">\n",
       "  <thead>\n",
       "    <tr style=\"text-align: right;\">\n",
       "      <th></th>\n",
       "      <th>Customer ID</th>\n",
       "      <th>Name</th>\n",
       "      <th>Surname</th>\n",
       "      <th>Gender</th>\n",
       "      <th>Birthdate</th>\n",
       "      <th>Transaction Amount</th>\n",
       "      <th>Date</th>\n",
       "      <th>Merchant Name</th>\n",
       "      <th>Category</th>\n",
       "    </tr>\n",
       "  </thead>\n",
       "  <tbody>\n",
       "    <tr>\n",
       "      <th>0</th>\n",
       "      <td>False</td>\n",
       "      <td>False</td>\n",
       "      <td>False</td>\n",
       "      <td>False</td>\n",
       "      <td>False</td>\n",
       "      <td>False</td>\n",
       "      <td>False</td>\n",
       "      <td>False</td>\n",
       "      <td>False</td>\n",
       "    </tr>\n",
       "    <tr>\n",
       "      <th>1</th>\n",
       "      <td>False</td>\n",
       "      <td>False</td>\n",
       "      <td>False</td>\n",
       "      <td>True</td>\n",
       "      <td>False</td>\n",
       "      <td>False</td>\n",
       "      <td>False</td>\n",
       "      <td>False</td>\n",
       "      <td>False</td>\n",
       "    </tr>\n",
       "    <tr>\n",
       "      <th>2</th>\n",
       "      <td>False</td>\n",
       "      <td>False</td>\n",
       "      <td>False</td>\n",
       "      <td>False</td>\n",
       "      <td>False</td>\n",
       "      <td>False</td>\n",
       "      <td>False</td>\n",
       "      <td>False</td>\n",
       "      <td>False</td>\n",
       "    </tr>\n",
       "    <tr>\n",
       "      <th>3</th>\n",
       "      <td>False</td>\n",
       "      <td>False</td>\n",
       "      <td>False</td>\n",
       "      <td>False</td>\n",
       "      <td>False</td>\n",
       "      <td>False</td>\n",
       "      <td>False</td>\n",
       "      <td>False</td>\n",
       "      <td>False</td>\n",
       "    </tr>\n",
       "    <tr>\n",
       "      <th>4</th>\n",
       "      <td>False</td>\n",
       "      <td>False</td>\n",
       "      <td>False</td>\n",
       "      <td>False</td>\n",
       "      <td>False</td>\n",
       "      <td>False</td>\n",
       "      <td>False</td>\n",
       "      <td>False</td>\n",
       "      <td>False</td>\n",
       "    </tr>\n",
       "    <tr>\n",
       "      <th>...</th>\n",
       "      <td>...</td>\n",
       "      <td>...</td>\n",
       "      <td>...</td>\n",
       "      <td>...</td>\n",
       "      <td>...</td>\n",
       "      <td>...</td>\n",
       "      <td>...</td>\n",
       "      <td>...</td>\n",
       "      <td>...</td>\n",
       "    </tr>\n",
       "    <tr>\n",
       "      <th>49995</th>\n",
       "      <td>False</td>\n",
       "      <td>False</td>\n",
       "      <td>False</td>\n",
       "      <td>False</td>\n",
       "      <td>False</td>\n",
       "      <td>False</td>\n",
       "      <td>False</td>\n",
       "      <td>False</td>\n",
       "      <td>False</td>\n",
       "    </tr>\n",
       "    <tr>\n",
       "      <th>49996</th>\n",
       "      <td>False</td>\n",
       "      <td>False</td>\n",
       "      <td>False</td>\n",
       "      <td>False</td>\n",
       "      <td>False</td>\n",
       "      <td>False</td>\n",
       "      <td>False</td>\n",
       "      <td>False</td>\n",
       "      <td>False</td>\n",
       "    </tr>\n",
       "    <tr>\n",
       "      <th>49997</th>\n",
       "      <td>False</td>\n",
       "      <td>False</td>\n",
       "      <td>False</td>\n",
       "      <td>False</td>\n",
       "      <td>False</td>\n",
       "      <td>False</td>\n",
       "      <td>False</td>\n",
       "      <td>False</td>\n",
       "      <td>False</td>\n",
       "    </tr>\n",
       "    <tr>\n",
       "      <th>49998</th>\n",
       "      <td>False</td>\n",
       "      <td>False</td>\n",
       "      <td>False</td>\n",
       "      <td>False</td>\n",
       "      <td>False</td>\n",
       "      <td>False</td>\n",
       "      <td>False</td>\n",
       "      <td>False</td>\n",
       "      <td>False</td>\n",
       "    </tr>\n",
       "    <tr>\n",
       "      <th>49999</th>\n",
       "      <td>False</td>\n",
       "      <td>False</td>\n",
       "      <td>False</td>\n",
       "      <td>False</td>\n",
       "      <td>False</td>\n",
       "      <td>False</td>\n",
       "      <td>False</td>\n",
       "      <td>False</td>\n",
       "      <td>False</td>\n",
       "    </tr>\n",
       "  </tbody>\n",
       "</table>\n",
       "<p>50000 rows × 9 columns</p>\n",
       "</div>"
      ],
      "text/plain": [
       "       Customer ID   Name  Surname  Gender  Birthdate  Transaction Amount  \\\n",
       "0            False  False    False   False      False               False   \n",
       "1            False  False    False    True      False               False   \n",
       "2            False  False    False   False      False               False   \n",
       "3            False  False    False   False      False               False   \n",
       "4            False  False    False   False      False               False   \n",
       "...            ...    ...      ...     ...        ...                 ...   \n",
       "49995        False  False    False   False      False               False   \n",
       "49996        False  False    False   False      False               False   \n",
       "49997        False  False    False   False      False               False   \n",
       "49998        False  False    False   False      False               False   \n",
       "49999        False  False    False   False      False               False   \n",
       "\n",
       "        Date  Merchant Name  Category  \n",
       "0      False          False     False  \n",
       "1      False          False     False  \n",
       "2      False          False     False  \n",
       "3      False          False     False  \n",
       "4      False          False     False  \n",
       "...      ...            ...       ...  \n",
       "49995  False          False     False  \n",
       "49996  False          False     False  \n",
       "49997  False          False     False  \n",
       "49998  False          False     False  \n",
       "49999  False          False     False  \n",
       "\n",
       "[50000 rows x 9 columns]"
      ]
     },
     "execution_count": 34,
     "metadata": {},
     "output_type": "execute_result"
    }
   ],
   "source": [
    "customer_transactions.isna()"
   ]
  },
  {
   "cell_type": "code",
   "execution_count": 33,
   "id": "b2a374ed",
   "metadata": {},
   "outputs": [
    {
     "data": {
      "text/plain": [
       "Customer ID              0\n",
       "Name                     0\n",
       "Surname                  0\n",
       "Gender                5047\n",
       "Birthdate                0\n",
       "Transaction Amount       0\n",
       "Date                     0\n",
       "Merchant Name            0\n",
       "Category                 0\n",
       "dtype: int64"
      ]
     },
     "execution_count": 33,
     "metadata": {},
     "output_type": "execute_result"
    }
   ],
   "source": [
    "customer_transactions.isna().sum()"
   ]
  },
  {
   "cell_type": "code",
   "execution_count": 32,
   "id": "7311228f",
   "metadata": {},
   "outputs": [
    {
     "data": {
      "text/plain": [
       "<AxesSubplot: >"
      ]
     },
     "execution_count": 32,
     "metadata": {},
     "output_type": "execute_result"
    },
    {
     "data": {
      "image/png": "[encoded data removed]",
      "text/plain": [
       "<Figure size 640x480 with 2 Axes>"
      ]
     },
     "metadata": {},
     "output_type": "display_data"
    }
   ],
   "source": [
    "sns.heatmap(customer_transactions.isna())"
   ]
  },
  {
   "cell_type": "code",
   "execution_count": 14,
   "id": "646cbe08",
   "metadata": {},
   "outputs": [
    {
     "data": {
      "text/plain": [
       "array(['Sean', 'Michelle', 'Jacob', 'Nathan', 'Crystal', 'Monica',\n",
       "       'Thomas', 'Kelsey', 'Denise', 'Alexander', 'Kimberly', 'Hunter',\n",
       "       'Julie', 'Christopher', 'Amber', 'Amy', 'Elizabeth', 'Chad',\n",
       "       'Steven', 'Patrick', 'Daniel', 'Robert', 'Sara', 'Anthony',\n",
       "       'Jessica', 'Brian', 'William', 'Adam', 'Betty', 'Pamela', 'Sarah',\n",
       "       'Manuel', 'Aaron', 'Darlene', 'Hannah', 'Benjamin', 'Jason',\n",
       "       'Scott', 'Emily', 'Katherine', 'Kevin', 'Jose', 'Meghan',\n",
       "       'Michael', 'Dana', 'Lisa', 'Sydney', 'Melanie', 'Matthew', 'Tammy',\n",
       "       'Justin', 'Ann', 'Joshua', 'Sabrina', 'Leslie', 'Jeffery', 'Mary',\n",
       "       'Ashley', 'Joseph', 'Juan', 'Christina', 'Martha', 'John', 'Keith',\n",
       "       'Alejandro', 'David', 'Jennifer', 'Nicholas', 'Christy', 'Jamie',\n",
       "       'Douglas', 'Holly', 'Fernando', 'Yvonne', 'Margaret', 'Charles',\n",
       "       'Derrick', 'Kurt', 'Timothy', 'Courtney', 'Joy', 'Carol',\n",
       "       'Lawrence', 'Andrew', 'Nicole', 'Stephanie', 'Derek', 'Hector',\n",
       "       'Jesse', 'Rebecca', 'Catherine', 'Andres', 'Lindsay', 'Raymond',\n",
       "       'Alison', 'Michele', 'Patricia', 'Samuel', 'Diane', 'Carrie',\n",
       "       'Shannon', 'Carolyn', 'Travis', 'Regina', 'Wayne', 'Selena',\n",
       "       'Bianca', 'Brenda', 'Anita', 'Deborah', 'Erika', 'Madison',\n",
       "       'Kristin', 'James', 'Mark', 'Kyle', 'Harold', 'Sherri', 'Cameron',\n",
       "       'Chase', 'Donald', 'Roger', 'Gwendolyn', 'Richard', 'Kathy',\n",
       "       'Kayla', 'Melissa', 'Tina', 'Joan', 'Jacqueline', 'Paul', 'Erin',\n",
       "       'Barbara', 'Kelly', 'Linda', 'Franklin', 'Eric', 'Whitney',\n",
       "       'George', 'Brandy', 'Todd', 'Brianna', 'Teresa', 'Tabitha',\n",
       "       'Sheila', 'Cory', 'Gregory', 'Kim', 'Cassandra', 'Gary', 'Audrey',\n",
       "       'Ethan', 'Jillian', 'Monique', 'Edward', 'Kathleen', 'Claudia',\n",
       "       'Caitlyn', 'Autumn', 'Alex', 'Jeremiah', 'Zachary', 'Angela',\n",
       "       'Tristan', 'Felicia', 'Chelsea', 'Glenn', 'Tamara', 'Alicia',\n",
       "       'Carlos', 'Kathryn', 'Tommy', 'Peter', 'Frank', 'Alexis', 'Isaiah',\n",
       "       'Donna', 'Rachel', 'Sandra', 'Hailey', 'Paula', 'Terry', 'Ryan',\n",
       "       'Nichole', 'Nancy', 'Clayton', 'Jeffrey', 'Caitlin', 'Shelly',\n",
       "       'Ellen', 'Marcus', 'Bernard', 'Caleb', 'Jack', 'Laura', 'Cheyenne',\n",
       "       'Judith', 'Alyssa', 'Craig', 'Mitchell', 'Lauren', 'Allison',\n",
       "       'Erica', 'Cindy', 'Melinda', 'Samantha', 'Karen', 'Andrea',\n",
       "       'Natalie', 'Jordan', 'Janet', 'Cynthia', 'Susan', 'Krystal', 'Don',\n",
       "       'Danny', 'Brandon', 'Alexandra', 'Nathaniel', 'Tony', 'Kara',\n",
       "       'Diana', 'Brett', 'Jerome', 'Amanda', 'Logan', 'Dale', 'Maureen',\n",
       "       'Ricardo', 'Austin', 'Bryan', 'Jill', 'Shane', 'Tracey', 'Chris',\n",
       "       'Bethany', 'Sharon', 'Dean', 'Christine', 'Terri', 'Desiree',\n",
       "       'Katrina', 'Cheryl', 'Tiffany', 'Stephen', 'Stefanie', 'Connor',\n",
       "       'Rodney', 'Lindsey', 'Bradley', 'Tara', 'Danielle', 'Jodi',\n",
       "       'Tracy', 'Stacy', 'Yesenia', 'Jared', 'Gina', 'Tyler', 'Valerie',\n",
       "       'Jean', 'Sonya', 'Jesus', 'Dawn', 'Kristen', 'Megan', 'Mia',\n",
       "       'Lynn', 'Suzanne', 'Vanessa', 'Carla', 'Maria', 'Theresa',\n",
       "       'Ronald', 'Kristine', 'Russell', 'Marilyn', 'Garrett', 'Martin',\n",
       "       'Rachael', 'Dustin', 'Meredith', 'Karina', 'Jerry', 'Carmen',\n",
       "       'Victoria', 'Jake', 'Vicki', 'Joyce', 'Deanna', 'Angel', 'Heather',\n",
       "       'Dillon', 'Christian', 'Shawn', 'Ronnie', 'Lydia', 'Anna',\n",
       "       'Debbie', 'Jonathan', 'Helen', 'Misty', 'Nina', 'Maxwell', 'Luke',\n",
       "       'Kenneth', 'Colleen', 'Kristina', 'Taylor', 'Blake', 'Miguel',\n",
       "       'Troy', 'Leah', 'Dennis', 'Darryl', 'Christie', 'Alexandria',\n",
       "       'Victor', 'Olivia', 'Shirley', 'Joel', 'Connie', 'Lori', 'Cassie',\n",
       "       'Billy', 'Calvin', 'Joanne', 'Cathy', 'Tanner', 'Brooke', 'Wendy',\n",
       "       'Ralph', 'Drew', 'Julia', 'Brittney', 'Briana', 'Joe', 'Ricky',\n",
       "       'Gordon', 'Brent', 'Andre', 'Gilbert', 'Tonya', 'Debra', 'Marc',\n",
       "       'Zoe', 'Reginald', 'Darren', 'Shaun', 'Mario', 'April', 'Stacey',\n",
       "       'Katie', 'Joanna', 'Robin', 'Traci', 'Alan', 'Jorge', 'Renee',\n",
       "       'Riley', 'Micheal', 'Morgan', 'Dorothy', 'Jaclyn', 'Cristina',\n",
       "       'Jody', 'Dakota', 'Bruce', 'Ian', 'Trevor', 'Mike', 'Alisha',\n",
       "       'Brandi', 'Corey', 'Stacie', 'Peggy', 'Angie', 'Jermaine', 'Ebony',\n",
       "       'Lucas', 'Jasmine', 'Adrian', 'Rickey', 'Virginia', 'Erik',\n",
       "       'Mason', 'Elijah', 'Alejandra', 'Belinda', 'Antonio', 'Jon', 'Jo',\n",
       "       'Brittany', 'Warren', 'Max', 'Henry', 'Janice', 'Caroline',\n",
       "       'Mikayla', 'Malik', 'Cody', 'Ernest', 'Evan', 'Angelica', 'Molly',\n",
       "       'Melvin', 'Leonard', 'Frederick', 'Kelli', 'Laurie', 'Daryl',\n",
       "       'Krista', 'Darin', 'Jenna', 'Luis', 'Veronica', 'Emma', 'Evelyn',\n",
       "       'Eileen', 'Dwayne', 'Tim', 'Ana', 'Isaac', 'Kendra', 'Seth',\n",
       "       'Tanya', 'Walter', 'Paige', 'Phillip', 'Julian', 'Greg', 'Natasha',\n",
       "       'Gabriella', 'Randy', 'Barry', 'Karla', 'Gerald', 'Jeff', 'Omar',\n",
       "       'Haley', 'Brad', 'Gail', 'Marisa', 'Rhonda', 'Abigail', 'Ariana',\n",
       "       'Jim', 'Miranda', 'Marvin', 'Cole', 'Loretta', 'Jeremy', 'Willie',\n",
       "       'Leroy', 'Francisco', 'Sandy', 'Brendan', 'Roberta', 'Destiny',\n",
       "       'Larry', 'Vickie', 'Ray', 'Alice', 'Jade', 'Jane', 'Beth', 'Anne',\n",
       "       'Sherry', 'Ruben', 'Savannah', 'Katelyn', 'Makayla', 'Dalton',\n",
       "       'Jonathon', 'Phyllis', 'Bailey', 'Lorraine', 'Roy', 'Jimmy',\n",
       "       'Rebekah', 'Sierra', 'Wanda', 'Clifford', 'Javier', 'Candace',\n",
       "       'Randall', 'Dominique', 'Edgar', 'Charlene', 'Pedro', 'Steve',\n",
       "       'Devin', 'Louis', 'Jocelyn', 'Alexa', 'Ruth', 'Dylan', 'Philip',\n",
       "       'Mckenzie', 'Vincent', 'Curtis', 'Toni', 'Maurice', 'Wesley',\n",
       "       'Sheri', 'Jay', 'Colin', 'Bonnie', 'Guy', 'Herbert', 'Marie',\n",
       "       'Carl', 'Rita', 'Mariah', 'Marissa', 'Spencer', 'Adrienne',\n",
       "       'Jackie', 'Gabrielle', 'Bob', 'Elaine', 'Glenda', 'Chelsey',\n",
       "       'Melody', 'Alvin', 'Kerry', 'Mathew', 'Gabriel', 'Johnny', 'Ross',\n",
       "       'Ariel', 'Casey', 'Dominic', 'Cassidy', 'Jenny', 'Duane', 'Perry',\n",
       "       'Beverly', 'Lance', 'Chloe', 'Tracie', 'Patty', 'Becky', 'Stuart',\n",
       "       'Candice', 'Grant', 'Marco', 'Shelley', 'Tricia', 'Arthur',\n",
       "       'Gloria', 'Sergio', 'Howard', 'Clarence', 'Raven', 'Annette',\n",
       "       'Roberto', 'Terrence', 'Jeanette', 'Grace', 'Sue', 'Ivan',\n",
       "       'Sylvia', 'Daisy', 'Shelby', 'Robyn', 'Jaime', 'Alec', 'Devon',\n",
       "       'Neil', 'Allen', 'Frances', 'Penny', 'Priscilla', 'Oscar', 'Heidi',\n",
       "       'Brady', 'Aimee', 'Bobby', 'Jeanne', 'Harry', 'Mercedes', 'Colton',\n",
       "       'Summer', 'Alfred', 'Darrell', 'Meagan', 'Terrance', 'Ashlee',\n",
       "       'Clinton', 'Claire', 'Nicolas', 'Yvette', 'Sally', 'Lee',\n",
       "       'Gabriela', 'Kerri', 'Johnathan', 'Norman', 'Joann', 'Carly',\n",
       "       'Fred', 'Kristy', 'Eddie', 'Francis', 'Judy', 'Kristopher',\n",
       "       'Albert', 'Theodore', 'Michaela', 'Preston', 'Shari', 'Madeline',\n",
       "       'Pam', 'Isabel', 'Mandy', 'Cesar', 'Eugene', 'Kristi', 'Eduardo',\n",
       "       'Noah', 'Tasha', 'Mackenzie', 'Kiara', 'Bill', 'Levi', 'Yolanda',\n",
       "       'Doris', 'Kirsten', 'Faith', 'Jasmin', 'Rose', 'Sophia', 'Norma',\n",
       "       'Edwin', 'Tom', 'Shelia', 'Collin', 'Bryce', 'Latoya', 'Kaitlin',\n",
       "       'Vernon', 'Bridget', 'Sheryl', 'Diamond', 'Earl', 'Lacey',\n",
       "       'Breanna', 'Gavin', 'Isabella', 'Geoffrey', 'Kari', 'Kaylee',\n",
       "       'Charlotte', 'Lonnie', 'Hayden', 'Tami', 'Kaitlyn', 'Darius',\n",
       "       'Glen', 'Wyatt', 'Mallory', 'Tyrone', 'Sheena', 'Marcia', 'Gregg',\n",
       "       'Jackson', 'Adriana', 'Kylie', 'Tammie', 'Stanley', 'Xavier',\n",
       "       'Hayley', 'Gene', 'Damon', 'Karl', 'Dan', 'Rick', 'Shawna',\n",
       "       'Kellie', 'Parker', 'Mindy', 'Kent', 'Dave', 'Cristian', 'Kristie',\n",
       "       'Kirk', 'Latasha', 'Sonia', 'Leon'], dtype=object)"
      ]
     },
     "execution_count": 14,
     "metadata": {},
     "output_type": "execute_result"
    }
   ],
   "source": [
    "customer_transactions['Name'].unique()"
   ]
  },
  {
   "cell_type": "code",
   "execution_count": 15,
   "id": "9e37f5f4",
   "metadata": {},
   "outputs": [
    {
     "data": {
      "text/plain": [
       "690"
      ]
     },
     "execution_count": 15,
     "metadata": {},
     "output_type": "execute_result"
    }
   ],
   "source": [
    "customer_transactions['Name'].nunique()"
   ]
  },
  {
   "cell_type": "code",
   "execution_count": 13,
   "id": "12e70cd3",
   "metadata": {},
   "outputs": [
    {
     "data": {
      "text/plain": [
       "Name\n",
       "Michael        1167\n",
       "David           761\n",
       "John            749\n",
       "James           730\n",
       "Christopher     711\n",
       "               ... \n",
       "Terrance          4\n",
       "Preston           4\n",
       "Perry             3\n",
       "Latasha           2\n",
       "Leon              1\n",
       "Name: count, Length: 690, dtype: int64"
      ]
     },
     "execution_count": 13,
     "metadata": {},
     "output_type": "execute_result"
    }
   ],
   "source": [
    "customer_transactions['Name'].value_counts()"
   ]
  },
  {
   "cell_type": "code",
   "execution_count": 16,
   "id": "6af403b3",
   "metadata": {},
   "outputs": [
    {
     "data": {
      "text/plain": [
       "array(['Rodriguez', 'Phelps', 'Williams', 'Snyder', 'Knapp', 'Bartlett',\n",
       "       'Shaw', 'Pena', 'Porter', 'Richardson', 'Ball', 'Peters',\n",
       "       'Russell', 'Harris', 'Brown', 'Pierce', 'Barnes', 'Reese',\n",
       "       'Holden', 'Smith', 'Price', 'Pitts', 'Rice', 'Michael', 'Miller',\n",
       "       'White', 'Ross', 'Jones', 'Contreras', 'Hansen', 'Atkinson',\n",
       "       'Nguyen', 'Warner', 'Mercer', 'Robinson', 'Martinez', 'Tucker',\n",
       "       'Maynard', 'Johnson', 'Harrison', 'Mcdaniel', 'Salas', 'Howard',\n",
       "       'Gould', 'Acosta', 'Huang', 'Hunt', 'Spencer', 'Mcintyre',\n",
       "       'Greene', 'Hoffman', 'Kim', 'Aguilar', 'Mathews', 'Hobbs',\n",
       "       'Sullivan', 'Burgess', 'Campbell', 'Morgan', 'Pittman', 'Carr',\n",
       "       'Meadows', 'Kelly', 'Ellis', 'Gonzales', 'Woods', 'Clark', 'Reed',\n",
       "       'Taylor', 'Hines', 'Morrison', 'Quinn', 'Ramos', 'Collier',\n",
       "       'Martin', 'Jackson', 'Klein', 'Oliver', 'Silva', 'Carter',\n",
       "       'Glover', 'Mckee', 'Dennis', 'Padilla', 'Wilson', 'Armstrong',\n",
       "       'Arnold', 'Peterson', 'Thompson', 'Kaufman', 'Saunders', 'Gamble',\n",
       "       'Evans', 'Mckinney', 'Li', 'Ayala', 'Leon', 'Chavez', 'Anderson',\n",
       "       'Jordan', 'Cabrera', 'Tapia', 'Lewis', 'Tran', 'Hudson', 'Powell',\n",
       "       'Ibarra', 'Willis', 'Charles', 'Ruiz', 'Bennett', 'Paul', 'Madden',\n",
       "       'Morse', 'Mann', 'Bell', 'Reid', 'Haas', 'Ramirez', 'Leonard',\n",
       "       'Harmon', 'Chase', 'Vazquez', 'Knight', 'Daniels', 'Duke',\n",
       "       'Torres', 'Yang', 'Mendoza', 'Liu', 'Stewart', 'Wade', 'Parker',\n",
       "       'Lopez', 'Rich', 'Nielsen', 'Garcia', 'Glass', 'Reynolds',\n",
       "       'Bailey', 'Davis', 'Riley', 'Wiley', 'Maldonado', 'Reilly', 'Holt',\n",
       "       'Turner', 'Lucas', 'Moody', 'Lowery', 'Marquez', 'Gonzalez',\n",
       "       'Potter', 'Hensley', 'Green', 'Baker', 'Collins', 'Bush', 'Gordon',\n",
       "       'Barber', 'Villegas', 'Mason', 'Richard', 'Mullen', 'Whitehead',\n",
       "       'Hunter', 'Wood', 'Hall', 'Hernandez', 'Ortega', 'Larson',\n",
       "       'Holmes', 'Montoya', 'Ho', 'Nelson', 'Owens', 'Wolfe', 'Bright',\n",
       "       'Burns', 'Carey', 'Gillespie', 'Dyer', 'York', 'Dodson', 'Walker',\n",
       "       'Jenkins', 'Carpenter', 'Bryant', 'Austin', 'Horton', 'Cooley',\n",
       "       'Miles', 'Lang', 'Gray', 'Simon', 'King', 'Wright', 'Kirk',\n",
       "       'Hughes', 'Santiago', 'Little', 'Becker', 'Adams', 'Roberts',\n",
       "       'Soto', 'Cunningham', 'Gomez', 'Harrell', 'Medina', 'Schultz',\n",
       "       'Hill', 'Shields', 'Kelley', 'Mueller', 'Kennedy', 'Donaldson',\n",
       "       'Bradley', 'Forbes', 'Chan', 'Perez', 'Castro', 'Sandoval',\n",
       "       'Murphy', 'Hubbard', 'Love', 'Riddle', 'Davidson', 'Adkins',\n",
       "       'Perkins', 'Mora', 'Olsen', 'Gentry', 'Ward', 'Farley', 'Carlson',\n",
       "       'Braun', 'Villanueva', 'Sloan', 'Mcguire', 'Thomas', 'Hood',\n",
       "       'Blake', 'Zavala', 'Bauer', 'English', 'Le', 'Robbins', 'Fox',\n",
       "       'Tyler', 'Robertson', 'Newton', 'Guzman', 'George', 'Blankenship',\n",
       "       'Brandt', 'Manning', 'Parks', 'Barton', 'Neal', 'Jacobs', 'Reyes',\n",
       "       'Molina', 'Atkins', 'Wagner', 'Weaver', 'Horn', 'Huber', 'Watkins',\n",
       "       'Douglas', 'Moran', 'Mccarthy', 'Lambert', 'Leblanc', 'Johnston',\n",
       "       'Jensen', 'Odonnell', 'Watson', 'Hayes', 'James', 'Henry',\n",
       "       'Hoover', 'Fowler', 'Baird', 'Conrad', 'Cochran', 'Perry',\n",
       "       'Edwards', 'Knox', 'Patterson', 'Hopkins', 'Farrell', 'Durham',\n",
       "       'Lee', 'Montgomery', 'Schwartz', 'Cervantes', 'Mcdonald',\n",
       "       'Trevino', 'Fleming', 'Wilcox', 'Mills', 'Cain', 'Mccall', 'Pugh',\n",
       "       'Oneill', 'Hurst', 'Pratt', 'Carroll', 'Nichols', 'Stanley',\n",
       "       'Matthews', 'Barker', 'Alexander', 'Burke', 'Chung', 'Norris',\n",
       "       'Gibson', 'Morales', 'Franklin', 'Gutierrez', 'Krueger', 'Esparza',\n",
       "       'Ware', 'Mclaughlin', 'Humphrey', 'Stone', 'Black', 'Mercado',\n",
       "       'Livingston', 'Daugherty', 'Conner', 'Clements', 'Mitchell',\n",
       "       'Houston', 'Young', 'Strickland', 'Cross', 'Andersen', 'Griffin',\n",
       "       'Andrews', 'Duncan', 'Scott', 'Ortiz', 'Myers', 'Wallace',\n",
       "       'Vaughn', 'Rosales', 'Arroyo', 'Murray', 'Miranda', 'Moss',\n",
       "       'Galloway', 'Rivera', 'Skinner', 'Burnett', 'Allen', 'Mckenzie',\n",
       "       'Osborne', 'Meyer', 'Sampson', 'Gregory', 'Salinas', 'Barron',\n",
       "       'Navarro', 'Cox', 'Stafford', 'Cherry', 'Mullins', 'Davenport',\n",
       "       'Higgins', 'Mejia', 'Moore', 'Vance', 'Mosley', 'Landry', 'Rangel',\n",
       "       'Nixon', 'Hartman', 'Hancock', 'Logan', 'Ewing', 'Cook', 'Johns',\n",
       "       'Nolan', 'Summers', 'Cooper', 'Petersen', 'Khan', 'Fernandez',\n",
       "       'Coffey', 'Munoz', 'Hamilton', 'Lowe', 'Rios', 'Gay', 'Brooks',\n",
       "       'Cortez', 'Stephens', 'Cruz', 'Fisher', 'Hanson', 'Rush',\n",
       "       'Alvarez', 'Gallegos', 'Olson', 'Mack', 'Woodard', 'Long',\n",
       "       'Thornton', 'Freeman', 'Sparks', 'Lawrence', 'Wilkerson', 'Savage',\n",
       "       'Velasquez', 'Harding', 'Elliott', 'Valencia', 'Haley', 'Vincent',\n",
       "       'Newman', 'Obrien', 'Benson', 'Dawson', 'Baldwin', 'Fuller',\n",
       "       'Henderson', 'Vargas', 'Preston', 'Norton', 'Woodward', 'Rogers',\n",
       "       'Leach', 'Cantu', 'West', 'Nunez', 'Rodgers', 'Patel', 'Chapman',\n",
       "       'Luna', 'Ballard', 'Cole', 'Whitney', 'Wells', 'Monroe',\n",
       "       'Mccormick', 'Hogan', 'Deleon', 'Valdez', 'Vasquez', 'Rollins',\n",
       "       'Sanders', 'Mccoy', 'Huynh', 'Prince', 'Casey', 'Brady',\n",
       "       'Jacobson', 'Simpson', 'Fitzpatrick', 'Castillo', 'Riggs',\n",
       "       'Sanford', 'Day', 'Morrow', 'Velez', 'Richards', 'Koch', 'Wolf',\n",
       "       'Shaffer', 'Parsons', 'Wu', 'Christian', 'Morris', 'Valentine',\n",
       "       'Cobb', 'Larsen', 'Ryan', 'Park', 'Lane', 'Weiss', 'Dean', 'Foley',\n",
       "       'Pearson', 'Solomon', 'Marsh', 'Gallagher', 'Sanchez', 'Chandler',\n",
       "       'Roy', 'Ferguson', 'Moyer', 'Espinoza', 'Bowen', 'Howell',\n",
       "       'Hinton', 'Herrera', 'Palmer', 'Boone', 'Payne', 'Poole', 'Crosby',\n",
       "       'Flores', 'Boyd', 'Simmons', 'Vega', 'Werner', 'Romero',\n",
       "       'Alvarado', 'Phillips', 'Best', 'Figueroa', 'Cohen', 'Jimenez',\n",
       "       'Barajas', 'Cowan', 'Haynes', 'Graham', 'Caldwell', 'Valenzuela',\n",
       "       'Branch', 'Sutton', 'Berry', 'Hutchinson', 'Garner', 'Banks',\n",
       "       'Foster', 'Bullock', 'Wilkinson', 'Moreno', 'Hurley', 'Snow',\n",
       "       'Maxwell', 'Watts', 'Hart', 'Frazier', 'Brewer', 'Lawson',\n",
       "       'Walters', 'Pruitt', 'Rocha', 'Jefferson', 'Harrington', 'Bryan',\n",
       "       'Farmer', 'Rose', 'Mclean', 'Francis', 'Schneider', 'Moon',\n",
       "       'Travis', 'Yates', 'Garrison', 'Estrada', 'Williamson', 'Heath',\n",
       "       'Welch', 'Maddox', 'Kramer', 'Faulkner', 'Shea', 'Stephenson',\n",
       "       'Christensen', 'Owen', 'Yoder', 'Pennington', 'Singleton',\n",
       "       'Fitzgerald', 'Baxter', 'Floyd', 'Boyer', 'Decker', 'Mcclure',\n",
       "       'Daniel', 'Macdonald', 'Lin', 'Sawyer', 'Wheeler', 'Cuevas',\n",
       "       'Dunn', 'Spears', 'Singh', 'Buck', 'Richmond', 'Mays', 'Short',\n",
       "       'Graves', 'Wang', 'Mcclain', 'Mcmillan', 'Crawford', 'Dougherty',\n",
       "       'Conley', 'Fields', 'Rojas', 'Diaz', 'Butler', 'May', 'Frank',\n",
       "       'Coleman', 'Rowland', 'Rivas', 'Hebert', 'Henson', 'Spence',\n",
       "       'Townsend', 'Mathis', 'Bruce', 'Greer', 'Escobar', 'Moses',\n",
       "       'Serrano', 'Fuentes', 'Wong', 'Dominguez', 'Bender', 'Ramsey',\n",
       "       'Levine', 'Schroeder', 'Hatfield', 'Gilmore', 'Beltran', 'Mcgrath',\n",
       "       'Delacruz', 'Kerr', 'Duarte', 'Carrillo', 'Church', 'Mcbride',\n",
       "       'Harper', 'Sims', 'Sexton', 'Cummings', 'Mccullough', 'Page',\n",
       "       'Donovan', 'Sellers', 'Hardy', 'Lindsey', 'Lynch', 'Burton',\n",
       "       'Huerta', 'Odom', 'Meyers', 'Roth', 'Small', 'Krause', 'Dixon',\n",
       "       'Campos', 'Rosario', 'Jennings', 'Holloway', 'Chen', 'Estes',\n",
       "       'Hampton', 'Mckay', 'Whitaker', 'Hicks', 'Garrett', 'Bass',\n",
       "       'Blair', 'Glenn', 'Ashley', 'Mcdowell', 'Stokes', 'Nash',\n",
       "       'Stevens', 'Ingram', 'Webb', 'Wilkins', 'French', 'Hawkins',\n",
       "       'Suarez', 'Kane', 'Zuniga', 'Goodman', 'David', 'Avila', 'Lamb',\n",
       "       'Salazar', 'Hester', 'Conway', 'Allison', 'Potts', 'Stanton',\n",
       "       'Walsh', 'Mcgee', 'Bradshaw', 'Barrett', 'Sharp', 'Schmidt',\n",
       "       'Herring', 'Guerrero', 'Kemp', 'Villarreal', 'Schmitt', 'Solis',\n",
       "       'Giles', 'Lozano', 'Santana', 'Bowman', 'Barnett', 'Pham', 'Wyatt',\n",
       "       'Tanner', 'Noble', 'Walter', 'Randolph', 'Howe', 'Underwood',\n",
       "       'Beck', 'Mooney', 'Curtis', 'Rhodes', 'Goodwin', 'Case', 'Oconnor',\n",
       "       'House', 'Patton', 'Bates', 'Orr', 'Vaughan', 'Copeland',\n",
       "       'Camacho', 'Marshall', 'Erickson', 'Roberson', 'Kirby', 'Ayers',\n",
       "       'Wall', 'Combs', 'Lloyd', 'Villa', 'Montes', 'Powers', 'Zimmerman',\n",
       "       'Keller', 'Everett', 'Terry', 'Cline', 'Gilbert', 'Herman',\n",
       "       'Swanson', 'Trujillo', 'Weber', 'Webster', 'Velazquez', 'Pineda',\n",
       "       'Lara', 'Joseph', 'Waters', 'Blanchard', 'Craig', 'Griffith',\n",
       "       'Morton', 'Shah', 'Buckley', 'Calderon', 'Brock', 'Melton',\n",
       "       'Bradford', 'Delgado', 'Wise', 'Washington', 'Winters', 'Clarke',\n",
       "       'Gardner', 'Peck', 'Stevenson', 'Doyle', 'Rubio', 'Macias',\n",
       "       'Flynn', 'Barr', 'Warren', 'Dickerson', 'Garza', 'Mcintosh',\n",
       "       'Frye', 'Hess', 'Shepherd', 'Huffman', 'Shelton', 'Brennan',\n",
       "       'Roach', 'Dudley', 'Barry', 'Hull', 'Rasmussen', 'Cisneros',\n",
       "       'Hammond', 'Flowers', 'Grant', 'Dorsey', 'Calhoun', 'Duran',\n",
       "       'Walton', 'Gill', 'Galvan', 'Middleton', 'Gates', 'Mcfarland',\n",
       "       'Andrade', 'Mendez', 'Bishop', 'Patrick', 'Randall', 'Key',\n",
       "       'Arellano', 'Bond', 'Mcmahon', 'Booker', 'Sweeney', 'Fritz',\n",
       "       'Horne', 'Robles', 'Archer', 'Hale', 'Oneal', 'Byrd', 'Reeves',\n",
       "       'Massey', 'Lutz', 'Downs', 'Santos', 'Cardenas', 'Grimes', 'Pace',\n",
       "       'Clayton', 'Hahn', 'Blevins', 'Colon', 'Mcconnell', 'Walls',\n",
       "       'Sosa', 'Mayer', 'Carson', 'Ford', 'Anthony', 'Nicholson',\n",
       "       'Hodges', 'Gaines', 'Chambers', 'Benjamin', 'Mayo', 'Tate',\n",
       "       'Browning', 'Marks', 'Sheppard', 'Hardin', 'Gross', 'Stuart',\n",
       "       'Booth', 'Arias', 'Lyons', 'Curry', 'Roman', 'Chang', 'Stark',\n",
       "       'Bolton', 'Golden', 'Briggs', 'Bridges', 'Bird', 'Meza', 'Waller',\n",
       "       'Davies', 'Buchanan', 'Bowers', 'Costa', 'Hanna', 'Cameron',\n",
       "       'Pacheco', 'Berger', 'Jarvis', 'Beard', 'Fischer', 'Shannon',\n",
       "       'Bernard', 'Malone', 'Ray', 'Terrell', 'Hodge', 'Mcneil', 'Kaiser',\n",
       "       'Russo', 'Kidd', 'Norman', 'Vang', 'Cannon', 'Choi', 'Bray',\n",
       "       'Huff', 'Sherman', 'Murillo', 'Parrish', 'Duffy', 'Cooke',\n",
       "       'Merritt', 'Stein', 'Lam', 'Juarez', 'Zhang', 'Mata', 'Weeks',\n",
       "       'Hooper', 'Gibbs', 'Stout', 'Cantrell', 'Finley', 'Mccann',\n",
       "       'Joyce', 'Dillon', 'Harvey', 'Boyle', 'Acevedo', 'Osborn',\n",
       "       'Bentley', 'Ferrell', 'Dickson', 'Berg', 'Orozco', 'Strong',\n",
       "       'Holder', 'Schaefer', 'Lucero', 'Ochoa', 'Mcknight', 'Ellison',\n",
       "       'Lynn', 'Davila', 'Kent', 'Callahan', 'Frey', 'Blackburn',\n",
       "       'Hayden', 'Fletcher', 'Oconnell', 'Kline', 'Steele', 'Ritter',\n",
       "       'Raymond', 'Shepard', 'Rowe', 'Holland', 'Aguirre', 'Cordova',\n",
       "       'Zamora', 'Ponce', 'Guerra', 'Lester', 'Barrera', 'Mccarty',\n",
       "       'Haney', 'Abbott', 'Pollard', 'Bautista', 'Clay', 'Castaneda',\n",
       "       'Hickman', 'Levy', 'Petty', 'Ali', 'Eaton', 'Dalton', 'Melendez',\n",
       "       'Drake', 'Rivers', 'Frederick', 'Mahoney', 'Mcpherson', 'Bean',\n",
       "       'Avery', 'Fry', 'Frost', 'Dunlap', 'Hendricks', 'Benitez', 'Pope',\n",
       "       'Proctor', 'Good', 'Friedman', 'Crane', 'Novak', 'Irwin', 'Keith',\n",
       "       'Wiggins', 'Franco', 'Todd', 'Carney', 'Blackwell', 'Benton',\n",
       "       'Beasley', 'Burch', 'Compton', 'Chaney', 'Bonilla', 'Yu',\n",
       "       'Hendrix', 'Hays'], dtype=object)"
      ]
     },
     "execution_count": 16,
     "metadata": {},
     "output_type": "execute_result"
    }
   ],
   "source": [
    "customer_transactions['Surname'].unique()"
   ]
  },
  {
   "cell_type": "code",
   "execution_count": 17,
   "id": "dd11452b",
   "metadata": {},
   "outputs": [
    {
     "data": {
      "text/plain": [
       "1000"
      ]
     },
     "execution_count": 17,
     "metadata": {},
     "output_type": "execute_result"
    }
   ],
   "source": [
    "customer_transactions['Surname'].nunique()"
   ]
  },
  {
   "cell_type": "code",
   "execution_count": 18,
   "id": "2acf7e7f",
   "metadata": {},
   "outputs": [
    {
     "data": {
      "text/plain": [
       "Surname\n",
       "Smith       1095\n",
       "Johnson      824\n",
       "Williams     695\n",
       "Brown        665\n",
       "Jones        631\n",
       "            ... \n",
       "Villa          9\n",
       "Dickson        9\n",
       "Hayden         9\n",
       "Hays           9\n",
       "Benitez        8\n",
       "Name: count, Length: 1000, dtype: int64"
      ]
     },
     "execution_count": 18,
     "metadata": {},
     "output_type": "execute_result"
    }
   ],
   "source": [
    "customer_transactions['Surname'].value_counts()"
   ]
  },
  {
   "cell_type": "code",
   "execution_count": 19,
   "id": "ef64a6ef",
   "metadata": {},
   "outputs": [
    {
     "data": {
      "text/plain": [
       "array(['F', nan, 'M'], dtype=object)"
      ]
     },
     "execution_count": 19,
     "metadata": {},
     "output_type": "execute_result"
    }
   ],
   "source": [
    "customer_transactions['Gender'].unique()"
   ]
  },
  {
   "cell_type": "code",
   "execution_count": 20,
   "id": "dd2929cc",
   "metadata": {},
   "outputs": [
    {
     "data": {
      "text/plain": [
       "2"
      ]
     },
     "execution_count": 20,
     "metadata": {},
     "output_type": "execute_result"
    }
   ],
   "source": [
    "customer_transactions['Gender'].nunique()"
   ]
  },
  {
   "cell_type": "code",
   "execution_count": 21,
   "id": "634e7b82",
   "metadata": {},
   "outputs": [
    {
     "data": {
      "text/plain": [
       "Gender\n",
       "F    22713\n",
       "M    22240\n",
       "Name: count, dtype: int64"
      ]
     },
     "execution_count": 21,
     "metadata": {},
     "output_type": "execute_result"
    }
   ],
   "source": [
    "customer_transactions['Gender'].value_counts()"
   ]
  },
  {
   "cell_type": "code",
   "execution_count": 22,
   "id": "87c38c26",
   "metadata": {},
   "outputs": [],
   "source": [
    "customer_transactions['Gender'] = customer_transactions['Gender'].replace('F', 'Female')\n",
    "customer_transactions['Gender'] = customer_transactions['Gender'].replace('M', 'Male')"
   ]
  },
  {
   "cell_type": "code",
   "execution_count": 23,
   "id": "7d3d3089",
   "metadata": {},
   "outputs": [
    {
     "data": {
      "text/plain": [
       "Gender\n",
       "Female    22713\n",
       "Male      22240\n",
       "Name: count, dtype: int64"
      ]
     },
     "execution_count": 23,
     "metadata": {},
     "output_type": "execute_result"
    }
   ],
   "source": [
    "customer_transactions['Gender'].value_counts()"
   ]
  },
  {
   "cell_type": "code",
   "execution_count": 27,
   "id": "806e2cbc",
   "metadata": {},
   "outputs": [],
   "source": [
    "#Replace nan values in the Gender column with \"Unknown\"\n",
    "customer_transactions['Category'].fillna('Prefer not to say', inplace=True)"
   ]
  },
  {
   "cell_type": "code",
   "execution_count": 28,
   "id": "88c89ffa",
   "metadata": {},
   "outputs": [
    {
     "data": {
      "text/plain": [
       "Gender\n",
       "Female    22713\n",
       "Male      22240\n",
       "Name: count, dtype: int64"
      ]
     },
     "execution_count": 28,
     "metadata": {},
     "output_type": "execute_result"
    }
   ],
   "source": [
    "customer_transactions['Gender'].value_counts()"
   ]
  },
  {
   "cell_type": "code",
   "execution_count": 29,
   "id": "f5f5e5b8",
   "metadata": {},
   "outputs": [
    {
     "data": {
      "text/plain": [
       "Customer ID              0\n",
       "Name                     0\n",
       "Surname                  0\n",
       "Gender                5047\n",
       "Birthdate                0\n",
       "Transaction Amount       0\n",
       "Date                     0\n",
       "Merchant Name            0\n",
       "Category                 0\n",
       "dtype: int64"
      ]
     },
     "execution_count": 29,
     "metadata": {},
     "output_type": "execute_result"
    }
   ],
   "source": [
    "customer_transactions.isnull().sum()"
   ]
  },
  {
   "cell_type": "code",
   "execution_count": null,
   "id": "1e1102bc",
   "metadata": {},
   "outputs": [],
   "source": []
  },
  {
   "cell_type": "code",
   "execution_count": null,
   "id": "29e8c68e",
   "metadata": {},
   "outputs": [],
   "source": []
  },
  {
   "cell_type": "code",
   "execution_count": null,
   "id": "fda36171",
   "metadata": {},
   "outputs": [],
   "source": []
  },
  {
   "cell_type": "code",
   "execution_count": null,
   "id": "c173aea8",
   "metadata": {},
   "outputs": [],
   "source": []
  },
  {
   "cell_type": "code",
   "execution_count": null,
   "id": "542cf74e",
   "metadata": {},
   "outputs": [],
   "source": []
  },
  {
   "cell_type": "code",
   "execution_count": null,
   "id": "1f2c03a5",
   "metadata": {},
   "outputs": [],
   "source": []
  },
  {
   "cell_type": "code",
   "execution_count": null,
   "id": "79d901e0",
   "metadata": {},
   "outputs": [],
   "source": []
  },
  {
   "cell_type": "code",
   "execution_count": null,
   "id": "d4f0e2cd",
   "metadata": {},
   "outputs": [],
   "source": []
  },
  {
   "cell_type": "markdown",
   "id": "c5602d60",
   "metadata": {},
   "source": [
    "DATA CLEANING"
   ]
  },
  {
   "cell_type": "code",
   "execution_count": null,
   "id": "2587454c",
   "metadata": {},
   "outputs": [],
   "source": [
    "customer_transactions['Birthdate'] = pd.to_datetime(customer_transactions['Birthdate'])\n",
    "customer_transactions['Date'] = pd.to_datetime(customer_transactions['Date'])\n",
    "customer_transactions['Gender'] = customer_transactions['Gender'].astype('category')"
   ]
  },
  {
   "cell_type": "code",
   "execution_count": null,
   "id": "a388abd0",
   "metadata": {},
   "outputs": [],
   "source": [
    "customer_transactions['Age'] = customer_transactions['Birthdate'].apply(lambda x: (datetime.now() - x).days // 365)"
   ]
  },
  {
   "cell_type": "code",
   "execution_count": null,
   "id": "188198e3",
   "metadata": {},
   "outputs": [],
   "source": [
    "customer_transactions"
   ]
  },
  {
   "cell_type": "code",
   "execution_count": null,
   "id": "eede3b60",
   "metadata": {},
   "outputs": [],
   "source": [
    "plt.figure(figsize=(12, 5))\n",
    "plt.subplot(1, 2, 1)\n",
    "sns.histplot(customer_transactions['Transaction Amount'], bins=30, kde=True)\n",
    "plt.title('Transaction Amount Distribution')"
   ]
  },
  {
   "cell_type": "code",
   "execution_count": null,
   "id": "1d2b9652",
   "metadata": {},
   "outputs": [],
   "source": [
    "plt.subplot(1, 2, 2)\n",
    "sns.histplot(customer_transactions['Age'], bins=30, kde=True)\n",
    "plt.title('Age Distribution')\n",
    "plt.show()"
   ]
  },
  {
   "cell_type": "code",
   "execution_count": null,
   "id": "e4145816",
   "metadata": {},
   "outputs": [],
   "source": [
    "plt.figure(figsize=(12, 5))\n",
    "plt.subplot(1, 2, 1)\n",
    "sns.countplot(x='Gender', data=customer_transactions)\n",
    "plt.title('Gender Distribution')\n"
   ]
  },
  {
   "cell_type": "code",
   "execution_count": null,
   "id": "d4727685",
   "metadata": {},
   "outputs": [],
   "source": [
    "plt.subplot(1, 2, 2)\n",
    "sns.countplot(y='Category', data=customer_transactions)\n",
    "plt.title('Transaction Categories')\n",
    "plt.show()"
   ]
  },
  {
   "cell_type": "code",
   "execution_count": null,
   "id": "2a2de1b7",
   "metadata": {},
   "outputs": [],
   "source": [
    "customer_transactions['YearMonth'] = customer_transactions['Date'].dt.to_period('M')\n",
    "\n",
    "plt.figure(figsize=(12, 5))\n",
    "sns.lineplot(data=customer_transactions.groupby('YearMonth')['Transaction Amount'].sum().reset_index(), x='YearMonth', y='Transaction Amount')\n",
    "plt.title('Monthly Transaction Amount Over Time')\n",
    "plt.xticks(rotation=45)\n",
    "plt.show()\n"
   ]
  },
  {
   "cell_type": "code",
   "execution_count": null,
   "id": "f9685f9e",
   "metadata": {},
   "outputs": [],
   "source": [
    "plt.figure(figsize=(12, 5))\n",
    "sns.boxplot(x='Gender', y='Transaction Amount', data=customer_transactions)\n",
    "plt.title('Transaction Amount by Gender')\n",
    "plt.show()\n",
    "\n",
    "customer_transactions['AgeGroup'] = pd.cut(customer_transactions['Age'], bins=[0, 18, 35, 50, 65, 100], labels=['<18', '18-35', '35-50', '50-65', '65+'])\n",
    "\n",
    "plt.figure(figsize=(12, 5))\n",
    "sns.boxplot(x='AgeGroup', y='Transaction Amount', data=customer_transactions)\n",
    "plt.title('Transaction Amount by Age Group')\n",
    "plt.show()"
   ]
  },
  {
   "cell_type": "code",
   "execution_count": null,
   "id": "d85412ee",
   "metadata": {},
   "outputs": [],
   "source": [
    "top_merchants = customer_transactions.groupby('Merchant Name')['Transaction Amount'].sum().sort_values(ascending=False).head(10)\n",
    "plt.figure(figsize=(12, 5))\n",
    "sns.barplot(x=top_merchants.values, y=top_merchants.index)\n",
    "plt.title('Top 10 Merchants by Transaction Amount')\n",
    "plt.show()"
   ]
  },
  {
   "cell_type": "code",
   "execution_count": null,
   "id": "fc17691f",
   "metadata": {},
   "outputs": [],
   "source": [
    "category_spending = customer_transactions.groupby('Category')['Transaction Amount'].sum().sort_values(ascending=False)\n",
    "plt.figure(figsize=(12, 5))\n",
    "sns.barplot(x=category_spending.values, y=category_spending.index)\n",
    "plt.title('Spending by Category')\n",
    "plt.show()\n"
   ]
  },
  {
   "cell_type": "code",
   "execution_count": null,
   "id": "313bf9a8",
   "metadata": {},
   "outputs": [],
   "source": [
    "corr_matrix = customer_transactions[['Age', 'Transaction Amount']].corr()\n",
    "sns.heatmap(corr_matrix, annot=True, cmap='coolwarm')\n",
    "plt.title('Correlation Matrix')\n",
    "plt.show()"
   ]
  },
  {
   "cell_type": "code",
   "execution_count": null,
   "id": "65789099",
   "metadata": {},
   "outputs": [],
   "source": []
  },
  {
   "cell_type": "code",
   "execution_count": null,
   "id": "45922880",
   "metadata": {},
   "outputs": [],
   "source": []
  },
  {
   "cell_type": "code",
   "execution_count": null,
   "id": "74029cd4",
   "metadata": {},
   "outputs": [],
   "source": []
  },
  {
   "cell_type": "code",
   "execution_count": null,
   "id": "77927502",
   "metadata": {},
   "outputs": [],
   "source": []
  },
  {
   "cell_type": "code",
   "execution_count": null,
   "id": "acf95439",
   "metadata": {},
   "outputs": [],
   "source": []
  },
  {
   "cell_type": "code",
   "execution_count": null,
   "id": "2d9fcba2",
   "metadata": {},
   "outputs": [],
   "source": []
  },
  {
   "cell_type": "markdown",
   "id": "c88732b8",
   "metadata": {},
   "source": [
    "DATA PREPROCESSING"
   ]
  },
  {
   "cell_type": "code",
   "execution_count": null,
   "id": "e435989e",
   "metadata": {},
   "outputs": [],
   "source": [
    "customer_transactions['Gender'].unique()"
   ]
  },
  {
   "cell_type": "code",
   "execution_count": null,
   "id": "b0ce470e",
   "metadata": {},
   "outputs": [],
   "source": [
    "customer_transactions['Gender'] = customer_transactions['Gender'].replace ('F', 'Female')\n",
    "customer_transactions['Gender'] = customer_transactions['Gender'].replace ('M', 'Male')\n",
    "customer_transactions['Gender'] = customer_transactions['Gender'].replace ('nan', 'Prefer not to say')"
   ]
  },
  {
   "cell_type": "code",
   "execution_count": null,
   "id": "609aa050",
   "metadata": {},
   "outputs": [],
   "source": [
    "customer_transactions['Gender'].unique()"
   ]
  },
  {
   "cell_type": "code",
   "execution_count": null,
   "id": "70f6434f",
   "metadata": {},
   "outputs": [],
   "source": [
    "customer_transactions['Transaction Amount'].unique()"
   ]
  },
  {
   "cell_type": "code",
   "execution_count": null,
   "id": "45c21660",
   "metadata": {},
   "outputs": [],
   "source": [
    "customer_transactions['Merchant Name'].unique()"
   ]
  },
  {
   "cell_type": "markdown",
   "id": "b9f3efea",
   "metadata": {},
   "source": [
    "UNIVARIATE ANALYSIS"
   ]
  },
  {
   "cell_type": "code",
   "execution_count": null,
   "id": "2b17fc89",
   "metadata": {},
   "outputs": [],
   "source": [
    "# Extract the values from the 'Gender' column and count occurrences\n",
    "gender_counts = customer_transactions['Gender'].value_counts().reset_index()\n",
    "gender_counts.columns = ['Gender', 'Count']\n",
    "\n",
    "colors = ['#636EFA', '#EF553B', '#00CC96', '#AB63FA']\n",
    "\n",
    "# Create the pie chart\n",
    "fig = px.pie(gender_counts, names='Gender', values='Count', title='Gender Distribution')\n",
    "\n",
    "# Update the chart to add data labels\n",
    "fig.update_traces(textinfo='percent+label')\n",
    "\n",
    "# Show the plot\n",
    "fig.show()"
   ]
  },
  {
   "cell_type": "code",
   "execution_count": null,
   "id": "c08b91ed",
   "metadata": {},
   "outputs": [],
   "source": []
  },
  {
   "cell_type": "code",
   "execution_count": null,
   "id": "d35e10ac",
   "metadata": {},
   "outputs": [],
   "source": []
  },
  {
   "cell_type": "code",
   "execution_count": null,
   "id": "c0ecd20a",
   "metadata": {},
   "outputs": [],
   "source": []
  },
  {
   "cell_type": "code",
   "execution_count": null,
   "id": "f37c99ed",
   "metadata": {},
   "outputs": [],
   "source": []
  },
  {
   "cell_type": "code",
   "execution_count": null,
   "id": "9c3e4db0",
   "metadata": {},
   "outputs": [],
   "source": []
  },
  {
   "cell_type": "code",
   "execution_count": null,
   "id": "22d3867b",
   "metadata": {},
   "outputs": [],
   "source": []
  },
  {
   "cell_type": "code",
   "execution_count": null,
   "id": "68114459",
   "metadata": {},
   "outputs": [],
   "source": []
  },
  {
   "cell_type": "code",
   "execution_count": null,
   "id": "8f329d57",
   "metadata": {},
   "outputs": [],
   "source": []
  },
  {
   "cell_type": "code",
   "execution_count": null,
   "id": "baa3d290",
   "metadata": {},
   "outputs": [],
   "source": []
  },
  {
   "cell_type": "code",
   "execution_count": null,
   "id": "c381b353",
   "metadata": {},
   "outputs": [],
   "source": []
  },
  {
   "cell_type": "code",
   "execution_count": null,
   "id": "ec18a600",
   "metadata": {},
   "outputs": [],
   "source": []
  },
  {
   "cell_type": "code",
   "execution_count": null,
   "id": "e88fc733",
   "metadata": {},
   "outputs": [],
   "source": []
  },
  {
   "cell_type": "markdown",
   "id": "2d89e8d8",
   "metadata": {},
   "source": [
    "UNIVARIATE ANALYSIS"
   ]
  },
  {
   "cell_type": "code",
   "execution_count": null,
   "id": "bf4960af",
   "metadata": {},
   "outputs": [],
   "source": [
    "# 1. Customer ID (int64)\n",
    "print(\"Customer ID:\")\n",
    "print(\"Count of Unique Values:\", customer_transactions['Customer ID'].nunique())\n",
    "print(\"Summary Statistics:\")\n",
    "print(customer_transactions['Customer ID'].describe())\n",
    "\n",
    "# 2. Name (object)\n",
    "print(\"\\nName:\")\n",
    "print(\"Count of Unique Names:\", customer_transactions['Name'].nunique())\n",
    "print(\"Most Common Names:\")\n",
    "print(customer_transactions['Name'].value_counts().head())\n",
    "customer_transactions['Name_Length'] = customer_transactions['Name'].apply(len)\n",
    "print(\"Mean Length:\", customer_transactions['Name_Length'].mean())\n",
    "print(\"Median Length:\", customer_transactions['Name_Length'].median())\n",
    "print(\"Missing Values:\", customer_transactions['Name'].isnull().sum())\n",
    "\n",
    "# 3. Surname (object)\n",
    "print(\"\\nSurname:\")\n",
    "print(\"Count of Unique Surnames:\", customer_transactions['Surname'].nunique())\n",
    "print(\"Most Common Surnames:\")\n",
    "print(customer_transactions['Surname'].value_counts().head())\n",
    "customer_transactions['Surname_Length'] = customer_transactions['Surname'].apply(len)\n",
    "print(\"Mean Length:\", customer_transactions['Surname_Length'].mean())\n",
    "print(\"Median Length:\", customer_transactions['Surname_Length'].median())\n",
    "print(\"Missing Values:\", customer_transactions['Surname'].isnull().sum())\n",
    "\n",
    "# 4. Gender (object)\n",
    "print(\"\\nGender:\")\n",
    "print(\"Count of Each Gender:\")\n",
    "print(customer_transactions['Gender'].value_counts())\n",
    "print(\"Percentage Distribution:\")\n",
    "print(customer_transactions['Gender'].value_counts(normalize=True) * 100)\n",
    "print(\"Missing Values:\", customer_transactions['Gender'].isnull().sum())\n",
    "\n",
    "# 5. Birthdate (object)\n",
    "print(\"\\nBirthdate:\")\n",
    "customer_transactions['Birth_Year'] = pd.to_datetime(customer_transactions['Birthdate']).dt.year\n",
    "print(\"Distribution of Birth Years:\")\n",
    "print(customer_transactions['Birth_Year'].value_counts().sort_index())\n",
    "print(\"Distribution of Birth Months:\")\n",
    "print(pd.to_datetime(customer_transactions['Birthdate']).dt.month.value_counts().sort_index())\n",
    "customer_transactions['Age'] = pd.to_datetime('now').year - pd.to_datetime(customer_transactions['Birthdate']).dt.year\n",
    "print(\"Mean Age:\", customer_transactions['Age'].mean())\n",
    "print(\"Median Age:\", customer_transactions['Age'].median())\n",
    "print(\"Youngest:\", customer_transactions['Age'].min())\n",
    "print(\"Oldest:\", customer_transactions['Age'].max())\n",
    "print(\"Missing Values:\", customer_transactions['Birthdate'].isnull().sum())\n",
    "\n",
    "# 6. Transaction Amount (float64)\n",
    "print(\"\\nTransaction Amount:\")\n",
    "print(\"Summary Statistics:\")\n",
    "print(customer_transactions['Transaction Amount'].describe())\n",
    "plt.hist(customer_transactions['Transaction Amount'], bins=20)\n",
    "plt.xlabel('Transaction Amount')\n",
    "plt.ylabel('Frequency')\n",
    "plt.title('Distribution of Transaction Amounts')\n",
    "plt.show()\n",
    "# Outlier detection (can be adjusted as needed)\n",
    "outliers = customer_transactions[(customer_transactions['Transaction Amount'] - customer_transactions['Transaction Amount'].mean()).abs() > 3 * customer_transactions['Transaction Amount'].std()]\n",
    "print(\"Number of Outliers:\", len(outliers))\n",
    "\n",
    "# 7. Date (object)\n",
    "print(\"\\nDate:\")\n",
    "customer_transactions['Date'] = pd.to_datetime(customer_transactions['Date'])\n",
    "print(\"Distribution of Transactions Over Time:\")\n",
    "print(customer_transactions['Date'].dt.to_period('M').value_counts().sort_index())\n",
    "print(\"Missing Values:\", customer_transactions['Date'].isnull().sum())\n",
    "\n",
    "# 8. Merchant Name (object)\n",
    "print(\"\\nMerchant Name:\")\n",
    "print(\"Count of Unique Merchant Names:\", customer_transactions['Merchant Name'].nunique())\n",
    "print(\"Most Common Merchant Names:\")\n",
    "print(customer_transactions['Merchant Name'].value_counts().head())\n",
    "print(\"Missing Values:\", customer_transactions['Merchant Name'].isnull().sum())\n",
    "\n",
    "# 9. Category (object)\n",
    "print(\"\\nCategory:\")\n",
    "print(\"Count of Unique Categories:\", customer_transactions['Category'].nunique())\n",
    "print(\"Most Common Categories:\")\n",
    "print(customer_transactions['Category'].value_counts().head())\n",
    "print(\"Missing Values:\", customer_transactions['Category'].isnull().sum())"
   ]
  },
  {
   "cell_type": "code",
   "execution_count": null,
   "id": "6aa9e2c7",
   "metadata": {},
   "outputs": [],
   "source": [
    "# 4. Gender\n",
    "print(\"\\nGender:\")\n",
    "print(\"- Count of Each Gender:\")\n",
    "print(customer_transactions['Gender'].value_counts())\n",
    "print(\"- Percentage Distribution:\")\n",
    "print(customer_transactions['Gender'].value_counts(normalize=True) * 100)\n",
    "print(\"- Missing Values:\", customer_transactions['Gender'].isnull().sum())"
   ]
  },
  {
   "cell_type": "code",
   "execution_count": null,
   "id": "f97096d5",
   "metadata": {},
   "outputs": [],
   "source": []
  },
  {
   "cell_type": "code",
   "execution_count": null,
   "id": "2ee57345",
   "metadata": {},
   "outputs": [],
   "source": []
  },
  {
   "cell_type": "code",
   "execution_count": null,
   "id": "9567305f",
   "metadata": {},
   "outputs": [],
   "source": []
  },
  {
   "cell_type": "code",
   "execution_count": null,
   "id": "e03df015",
   "metadata": {},
   "outputs": [],
   "source": []
  },
  {
   "cell_type": "code",
   "execution_count": null,
   "id": "dc410461",
   "metadata": {},
   "outputs": [],
   "source": []
  },
  {
   "cell_type": "code",
   "execution_count": null,
   "id": "0a73a713",
   "metadata": {},
   "outputs": [],
   "source": []
  },
  {
   "cell_type": "code",
   "execution_count": null,
   "id": "e5d07975",
   "metadata": {},
   "outputs": [],
   "source": []
  },
  {
   "cell_type": "code",
   "execution_count": null,
   "id": "e2f2660e",
   "metadata": {},
   "outputs": [],
   "source": []
  },
  {
   "cell_type": "code",
   "execution_count": null,
   "id": "f9d55028",
   "metadata": {},
   "outputs": [],
   "source": []
  },
  {
   "cell_type": "code",
   "execution_count": null,
   "id": "80f4adb6",
   "metadata": {},
   "outputs": [],
   "source": []
  },
  {
   "cell_type": "code",
   "execution_count": null,
   "id": "b30ced39",
   "metadata": {},
   "outputs": [],
   "source": []
  },
  {
   "cell_type": "code",
   "execution_count": null,
   "id": "7672906d",
   "metadata": {},
   "outputs": [],
   "source": []
  },
  {
   "cell_type": "code",
   "execution_count": null,
   "id": "60cb1432",
   "metadata": {},
   "outputs": [],
   "source": []
  },
  {
   "cell_type": "code",
   "execution_count": null,
   "id": "0e6762f4",
   "metadata": {},
   "outputs": [],
   "source": [
    "# Columns to exclude from the loop\n",
    "#exclude_columns = ['latitude', 'longitude', 'Pin code']\n",
    "\n",
    "# Loop through each column\n",
    "for column in customer_transactions.columns:\n",
    "    # Skip excluded columns\n",
    "   # if column in exclude_columns:\n",
    "   #     continue\n",
    "    \n",
    "    # Get unique values and their counts\n",
    "    value_counts = customer_transactions[column].value_counts()\n",
    "    \n",
    "    # Create bar chart\n",
    "    fig = px.bar(value_counts, x=value_counts.index, y=value_counts.values, \n",
    "                 labels={'x': column, 'y': 'Count'}, \n",
    "                 title=f\"Value Counts for {column}\")\n",
    "    \n",
    "    # Show plot\n",
    "    fig.show()"
   ]
  },
  {
   "cell_type": "markdown",
   "id": "31670ee9",
   "metadata": {},
   "source": [
    "#### TASK 1 - CHECK FOR DUPLICATED ROWS"
   ]
  },
  {
   "cell_type": "code",
   "execution_count": null,
   "id": "2820f1c0",
   "metadata": {},
   "outputs": [],
   "source": [
    "Total_dup = customer_transactions.duplicated().sum()\n",
    "print('The total number of duplicate rows in this dataset is', Total_dup)"
   ]
  },
  {
   "cell_type": "markdown",
   "id": "58db6483",
   "metadata": {},
   "source": [
    "#### TASK 2 - CHECK FOR MISSING VALUES"
   ]
  },
  {
   "cell_type": "code",
   "execution_count": null,
   "id": "c22dddac",
   "metadata": {},
   "outputs": [],
   "source": [
    "customer_transactions.isna().sum()"
   ]
  },
  {
   "cell_type": "code",
   "execution_count": null,
   "id": "4ee09d4f",
   "metadata": {},
   "outputs": [],
   "source": [
    "Total_MV = customer_transactions.isna().sum().sum()\n",
    "print('The total number of missing values in this dataset is', Total_MV)"
   ]
  },
  {
   "cell_type": "code",
   "execution_count": null,
   "id": "9717bb88",
   "metadata": {},
   "outputs": [],
   "source": [
    "#Check for the percentage for the missing values.\n",
    "\n",
    "missing_gender = customer_transactions['Gender'].isnull().sum()\n",
    "total_rows = len(customer_transactions)\n",
    "missing_percentage = (missing_gender / total_rows) * 100\n",
    "\n",
    "print(f\"Missing Gender Values: {missing_gender} ({missing_percentage:.2f}%)\")"
   ]
  },
  {
   "cell_type": "markdown",
   "id": "da42180a",
   "metadata": {},
   "source": [
    "#### HEATMAP FOR MISSING VALUES"
   ]
  },
  {
   "cell_type": "code",
   "execution_count": null,
   "id": "f7760217",
   "metadata": {},
   "outputs": [],
   "source": [
    "sns.heatmap(customer_transactions.isnull())"
   ]
  },
  {
   "cell_type": "markdown",
   "id": "f271f20d",
   "metadata": {},
   "source": [
    "#### INSIGHTS\n",
    "\n",
    "The results showed that there are 5,047 missing values in the gender column which sums up to 10.09% of the dataset. \n",
    "\n",
    "In dealing with this, I will replace all the missing values in the gender column to UNDEFINED.\n",
    "\n",
    "This presupposes that the these customers did not find their gender orientation listed in there to select, hence the empty field."
   ]
  },
  {
   "cell_type": "markdown",
   "id": "ac70e76f",
   "metadata": {},
   "source": [
    "#### DEALING WITH THE MISSING VALUES."
   ]
  },
  {
   "cell_type": "code",
   "execution_count": null,
   "id": "123e5586",
   "metadata": {},
   "outputs": [],
   "source": [
    "#Replace missing values in the gender column with undefined.\n",
    "\n",
    "customer_transactions['Gender'].fillna('Undefined', inplace=True)"
   ]
  },
  {
   "cell_type": "code",
   "execution_count": null,
   "id": "aca4c649",
   "metadata": {},
   "outputs": [],
   "source": [
    "#Replace gender initials with the full word.\n",
    "\n",
    "customer_transactions['Gender'] = customer_transactions['Gender'].replace('M', 'Male')\n",
    "customer_transactions['Gender'] = customer_transactions['Gender'].replace('F', 'Female')"
   ]
  },
  {
   "cell_type": "code",
   "execution_count": null,
   "id": "20a236ae",
   "metadata": {},
   "outputs": [],
   "source": [
    "#Checking for the unique values in the Gender column after replacing the missing values and renaming the initials with full word.\n",
    "customer_transactions['Gender'].unique()"
   ]
  },
  {
   "cell_type": "markdown",
   "id": "b47e0cb2",
   "metadata": {},
   "source": [
    "#### RENAME SOME COLUMNS NAME"
   ]
  },
  {
   "cell_type": "code",
   "execution_count": null,
   "id": "3150ff2c",
   "metadata": {},
   "outputs": [],
   "source": [
    "customer_transactions = customer_transactions.rename(columns={'Name': 'First Name', 'Surname': 'Last Name', \n",
    "                                                              'Birthdate': 'Date of Birth', \n",
    "                                                              'Transaction Amount': 'Transaction Amt ($)'})"
   ]
  },
  {
   "cell_type": "code",
   "execution_count": null,
   "id": "779b4f33",
   "metadata": {},
   "outputs": [],
   "source": [
    "customer_transactions.columns"
   ]
  },
  {
   "cell_type": "markdown",
   "id": "ff5f933c",
   "metadata": {},
   "source": [
    "#### CHECK THE "
   ]
  },
  {
   "cell_type": "code",
   "execution_count": null,
   "id": "a2c5ffda",
   "metadata": {},
   "outputs": [],
   "source": [
    "customer_transactions.describe().T"
   ]
  },
  {
   "cell_type": "code",
   "execution_count": null,
   "id": "56e6493c",
   "metadata": {},
   "outputs": [],
   "source": [
    "customer_transactions.describe(include='object').T"
   ]
  },
  {
   "cell_type": "markdown",
   "id": "1dea944a",
   "metadata": {},
   "source": [
    "## EXPLORATORY DATA ANALYSIS, (E.D.A)"
   ]
  },
  {
   "cell_type": "markdown",
   "id": "24a731a5",
   "metadata": {},
   "source": [
    "#### MAKE A COPY OF THE ORIGINAL DATASET."
   ]
  },
  {
   "cell_type": "code",
   "execution_count": null,
   "id": "ff6d5953",
   "metadata": {},
   "outputs": [],
   "source": [
    "customer_transactions_copy = customer_transactions.copy"
   ]
  },
  {
   "cell_type": "code",
   "execution_count": null,
   "id": "6c312217",
   "metadata": {},
   "outputs": [],
   "source": [
    "Cols_drop = ['Customer ID', 'Last Name']\n",
    "customer_transactions = customer_transactions.drop(columns= Cols_drop)"
   ]
  },
  {
   "cell_type": "code",
   "execution_count": null,
   "id": "2bbc54b9",
   "metadata": {
    "scrolled": false
   },
   "outputs": [],
   "source": [
    "customer_transactions.boxplot()"
   ]
  },
  {
   "cell_type": "markdown",
   "id": "499c0572",
   "metadata": {},
   "source": [
    "#### INSIGHTS TO BE DERIVED FROM THIS ANALYSIS"
   ]
  },
  {
   "cell_type": "markdown",
   "id": "cda49b11",
   "metadata": {},
   "source": [
    "#### QUESTIONS\n",
    "\n",
    " - Which category made the highest sales during the period?\n",
    " - Which age grouping patronized more of cosmetics, clothings and travel?\n",
    " - Which date had the highest patronage for Clothing?"
   ]
  },
  {
   "cell_type": "markdown",
   "id": "f1ca18c1",
   "metadata": {},
   "source": [
    "#### Question 1\n",
    " - Which category made the highest sales during the period?"
   ]
  },
  {
   "cell_type": "code",
   "execution_count": null,
   "id": "142bf0e9",
   "metadata": {},
   "outputs": [],
   "source": [
    "# Group the data by category and calculate total sales for each category\n",
    "category_sales = customer_transactions.groupby('Category')['Transaction Amt ($)'].sum()\n",
    "\n",
    "# Print the total sales for each category\n",
    "print(category_sales)"
   ]
  },
  {
   "cell_type": "code",
   "execution_count": null,
   "id": "1b697002",
   "metadata": {},
   "outputs": [],
   "source": [
    "customer_transactions = category_sales.reset_index()\n",
    "customer_transactions.columns = ['Category', 'Transaction Amt ($)']\n",
    "\n",
    "# Plotting the bar chart using Plotly Express\n",
    "fig = px.bar(customer_transactions, x='Category', y='Transaction Amt ($)',\n",
    "             title='Total Sales by Category',\n",
    "             labels={'Transaction Amt ($)': 'Transaction Amt ($)'},\n",
    "             text='Transaction Amt ($)',\n",
    "             width=800, height=500)\n",
    "\n",
    "# Rotate x-axis labels for better readability\n",
    "fig.update_xaxes(tickangle=45)\n",
    "\n",
    "# Show the plot\n",
    "fig.show()"
   ]
  },
  {
   "cell_type": "code",
   "execution_count": null,
   "id": "20e45e34",
   "metadata": {},
   "outputs": [],
   "source": [
    "# Find the category with the highest total sales\n",
    "highest_sales_category = category_sales.idxmax()\n",
    "highest_sales_amount = category_sales.max()\n",
    "\n",
    "print(f\"The category with the highest sales is '{highest_sales_category}' with a total sales amount of $ {highest_sales_amount:.2f}\")"
   ]
  },
  {
   "cell_type": "markdown",
   "id": "ad733033",
   "metadata": {},
   "source": [
    "#### Question 2\n",
    " - Which age group patronized more of cosmetics, clothings and travel?"
   ]
  },
  {
   "cell_type": "code",
   "execution_count": null,
   "id": "636391a6",
   "metadata": {},
   "outputs": [],
   "source": [
    "# Convert the 'Date of Birth' column to datetime\n",
    "customer_transactions['Date of Birth'] = pd.to_datetime(customer_transactions['Date of Birth'])\n",
    "\n",
    "# Calculate age based on the current date\n",
    "current_date = datetime.now()\n",
    "customer_transactions['Age'] = (current_date - customer_transactions['Date of Birth']) // pd.Timedelta(days=365)\n",
    "\n",
    "customer_transactions"
   ]
  },
  {
   "cell_type": "code",
   "execution_count": null,
   "id": "af353e4a",
   "metadata": {},
   "outputs": [],
   "source": [
    "# Group Ages into categories: young, middle age, and old\n",
    "\n",
    "# Define age bins and labels\n",
    "age_bins = [0, 30, 50, 100]  # You can adjust these age boundaries as needed\n",
    "\n",
    "age_labels = ['Young', 'Middle Age', 'Old']\n",
    "\n",
    "# Apply age grouping\n",
    "customer_transactions['Age Group'] = pd.cut(customer_transactions['Age'], bins=age_bins, labels=age_labels, right=False)\n"
   ]
  },
  {
   "cell_type": "code",
   "execution_count": null,
   "id": "0c0c406a",
   "metadata": {},
   "outputs": [],
   "source": [
    "customer_transactions.head()"
   ]
  },
  {
   "cell_type": "code",
   "execution_count": null,
   "id": "c2d8b34d",
   "metadata": {},
   "outputs": [],
   "source": [
    "# Create a pie chart to visualize the results\n",
    "labels = ['Cosmetic', 'Clothing', 'Travel']\n",
    "sizes = [grouped_data['Travel'].max(), grouped_data['Clothing'].max(), grouped_data['Cosmetic'].max()]\n",
    "explode = (0.1, 0, 0)  # Explode the 1st slice (Cosmetic)\n",
    "\n",
    "plt.pie(sizes, explode=explode, labels=labels, autopct='%1.1f%%', startangle=140)\n",
    "plt.axis('equal')  # Equal aspect ratio ensures that pie is drawn as a circle.\n",
    "\n",
    "plt.title('Age Groups Patronizing Products')\n",
    "\n",
    "plt.show()"
   ]
  },
  {
   "cell_type": "markdown",
   "id": "ccb8055c",
   "metadata": {},
   "source": [
    "#### Question 3\n",
    " - Which date had the highest patronage for Clothing?"
   ]
  },
  {
   "cell_type": "code",
   "execution_count": null,
   "id": "d38b5895",
   "metadata": {},
   "outputs": [],
   "source": [
    "# List of categories you want to analyze\n",
    "categories_to_analyze = ['Cosmetic', 'Clothing', 'Travel' , 'Electronics' , 'Market', 'Restaurant']\n",
    "\n",
    "# Iterate through the categories\n",
    "for category in categories_to_analyze:\n",
    "    # Filter the data for the specific category\n",
    "    category_data = customer_transactions[customer_transactions['Category'] == category]\n",
    "    \n",
    "    # Group the data by date and count the number of purchases for each date\n",
    "    date_patronage = category_data.groupby('Date').size()\n",
    "    \n",
    "    # Find the date with the highest patronage for the category\n",
    "    date_with_highest_patronage = date_patronage.idxmax()\n",
    "    highest_patronage_count = date_patronage.max()\n",
    "    \n",
    "    print(f\"For the '{category}' category:\")\n",
    "    print(f\"The date with the highest patronage is {date_with_highest_patronage} with {highest_patronage_count} purchases.\")\n",
    "    print()\n"
   ]
  },
  {
   "cell_type": "markdown",
   "id": "562c92db",
   "metadata": {},
   "source": [
    " #### Question 4\n",
    " - What is the total number of person based on their gender patronized restaurant?"
   ]
  },
  {
   "cell_type": "code",
   "execution_count": null,
   "id": "0c441a4f",
   "metadata": {},
   "outputs": [],
   "source": [
    "# Filter the data for the \"Restaurant\" category\n",
    "restaurant_data = customer_transactions[customer_transactions['Category'] == 'Restaurant']\n",
    "\n",
    "# Group the data by gender and count the number of patrons for each gender\n",
    "gender_patrons = restaurant_data['Gender'].value_counts()\n",
    "\n",
    "print(\"Total number of people who patronized the restaurant based on gender:\")\n",
    "print(gender_patrons)\n"
   ]
  },
  {
   "cell_type": "code",
   "execution_count": null,
   "id": "61e0ebcf",
   "metadata": {},
   "outputs": [],
   "source": [
    "customer_transactions = pd.DataFrame({'Gender': gender_patrons.index, 'Number of Patrons': gender_patrons.values})\n",
    "\n",
    "# Creating a bar chart using Plotly Express\n",
    "fig = px.bar(customer_transactions, x='Gender', y='Number of Patrons',\n",
    "             color='Gender',\n",
    "             title='Total Number of Restaurant Patrons by Gender',\n",
    "             labels={'Number of Patrons': 'Number of Patrons', 'Gender': 'Gender'},\n",
    "             width=1000, height=00)\n",
    "\n",
    "# Show the plot\n",
    "fig.show()"
   ]
  },
  {
   "cell_type": "markdown",
   "id": "478dc34e",
   "metadata": {},
   "source": [
    " #### Question 5\n",
    " - What is the trend in the transactions?"
   ]
  },
  {
   "cell_type": "code",
   "execution_count": null,
   "id": "68425e7e",
   "metadata": {},
   "outputs": [],
   "source": [
    "# Convert the 'transaction_date' column to a datetime object\n",
    "customer_transactions['Date'] = pd.to_datetime(customer_transactions['Date'])\n",
    "\n",
    "# Group the data by transaction date and count the number of transactions for each date\n",
    "transaction_trend = customer_transactions.groupby('Date').size()\n",
    "\n",
    "# Create a line chart to visualize the transaction trend\n",
    "plt.figure(figsize=(12, 6))\n",
    "plt.plot(transaction_trend.index, transaction_trend.values, marker='o', color='red')\n",
    "plt.title('Transaction Trend Over The Transaction Period.')\n",
    "plt.xlabel('Transaction Date')\n",
    "plt.ylabel('Number of Transactions')\n",
    "plt.grid(True)\n",
    "\n",
    "# Optionally, format the x-axis labels for date\n",
    "plt.gca().xaxis.set_major_formatter(plt.matplotlib.dates.DateFormatter('%Y-%m-%d'))\n",
    "plt.gca().xaxis.set_major_locator(plt.matplotlib.dates.DayLocator(interval=10))  # Adjust the interval as needed\n",
    "\n",
    "plt.xticks(rotation=45)\n",
    "\n",
    "plt.show()"
   ]
  },
  {
   "cell_type": "markdown",
   "id": "7b48c2ec",
   "metadata": {},
   "source": [
    " #### Question 6\n",
    " - What is the percentage for the various gender? "
   ]
  },
  {
   "cell_type": "code",
   "execution_count": null,
   "id": "7302f780",
   "metadata": {},
   "outputs": [],
   "source": [
    "#value counts for each gender\n",
    "\n",
    "customer_transactions['Gender'].value_counts()"
   ]
  },
  {
   "cell_type": "code",
   "execution_count": null,
   "id": "5612c3db",
   "metadata": {},
   "outputs": [],
   "source": [
    "# Assuming your DataFrame has a 'Gender' column, you can count the number of transactions for each gender\n",
    "gender_counts = customer_transactions['Gender'].value_counts()\n",
    "\n",
    "# Create a pie chart\n",
    "plt.figure(figsize=(7, 7))\n",
    "plt.pie(gender_counts, labels=gender_counts.index, autopct='%1.1f%%', startangle=140)\n",
    "plt.title('Gender Distribution Percentage')\n",
    "\n",
    "# Add a legend\n",
    "plt.legend()\n",
    "\n",
    "plt.show()"
   ]
  },
  {
   "cell_type": "code",
   "execution_count": null,
   "id": "ee482af2",
   "metadata": {},
   "outputs": [],
   "source": [
    "# Group by \"Age Group\" and count the number of each gender within each age group\n",
    "age_gender_distribution = customer_transactions.groupby(['Age Group', 'Gender']).size().unstack(fill_value=0)\n",
    "\n",
    "# Display the age-gender distribution\n",
    "print(age_gender_distribution)"
   ]
  },
  {
   "cell_type": "code",
   "execution_count": null,
   "id": "fb0c6478",
   "metadata": {},
   "outputs": [],
   "source": [
    "# Plot the age-gender distribution as a bar chart\n",
    "age_gender_distribution.plot(kind='bar')\n",
    "plt.title('Age-Gender Distribution')\n",
    "plt.xlabel('Age Group')\n",
    "plt.ylabel('Count')\n",
    "\n",
    "plt.show()"
   ]
  },
  {
   "cell_type": "markdown",
   "id": "0c304d1c",
   "metadata": {},
   "source": [
    " #### Question 7\n",
    " - Which merchant name had the highest number of transactions during the period?"
   ]
  },
  {
   "cell_type": "code",
   "execution_count": null,
   "id": "97d6513e",
   "metadata": {},
   "outputs": [],
   "source": [
    "# Group the data by the merchant and count the number of transactions for each merchant\n",
    "\n",
    "merchant_transaction_counts = customer_transactions['Merchant Name'].value_counts()\n",
    "\n",
    "merchant_with_highest_transactions = merchant_transaction_counts.idxmax()\n",
    "\n",
    "highest_transaction_count = merchant_transaction_counts.max()\n",
    "\n",
    "print(f\"The merchant with the highest number of transactions is '{merchant_with_highest_transactions}'\")\n",
    "print()\n",
    "print(f\"They have {highest_transaction_count} transactions.\")"
   ]
  },
  {
   "cell_type": "code",
   "execution_count": null,
   "id": "b011c757",
   "metadata": {},
   "outputs": [],
   "source": []
  }
 ],
 "metadata": {
  "kernelspec": {
   "display_name": "Python 3 (ipykernel)",
   "language": "python",
   "name": "python3"
  },
  "language_info": {
   "codemirror_mode": {
    "name": "ipython",
    "version": 3
   },
   "file_extension": ".py",
   "mimetype": "text/x-python",
   "name": "python",
   "nbconvert_exporter": "python",
   "pygments_lexer": "ipython3",
   "version": "3.11.1"
  }
 },
 "nbformat": 4,
 "nbformat_minor": 5
}

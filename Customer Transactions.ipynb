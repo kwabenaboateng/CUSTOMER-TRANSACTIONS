{
 "cells": [
  {
   "cell_type": "markdown",
   "id": "9835c07e",
   "metadata": {},
   "source": [
    "## <b><center>CUSTOMER TRANSACTIONS</b></center>"
   ]
  },
  {
   "cell_type": "markdown",
   "id": "aa0d7f17",
   "metadata": {},
   "source": [
    "##### <b>IMPORT LIBRARY PACKAGES</b>"
   ]
  },
  {
   "cell_type": "code",
   "execution_count": null,
   "id": "2d9a89c2",
   "metadata": {},
   "outputs": [],
   "source": [
    "import numpy as np\n",
    "import pandas as pd\n",
    "import seaborn as sns\n",
    "import plotly.express as px\n",
    "import matplotlib.pyplot as plt\n",
    "from datetime import datetime\n",
    "\n",
    "from sklearn.preprocessing import LabelEncoder \n",
    "from sklearn.tree import DecisionTreeClassifier\n",
    "from sklearn.ensemble import RandomForestClassifier\n",
    "from sklearn.model_selection import train_test_split\n",
    "from sklearn.metrics import accuracy_score, classification_report"
   ]
  },
  {
   "cell_type": "markdown",
   "id": "1e2c112e",
   "metadata": {},
   "source": [
    "##### <b>LOAD & DISPLAY DATASET</b>"
   ]
  },
  {
   "cell_type": "code",
   "execution_count": null,
   "id": "c46a87fd",
   "metadata": {},
   "outputs": [],
   "source": [
    "customer_transactions = pd.read_csv(\"sample_dataset.csv\")\n",
    "customer_transactions"
   ]
  },
  {
   "cell_type": "markdown",
   "id": "58ff555f",
   "metadata": {},
   "source": [
    "##### <b>DATA UNDERSTANDING</b>"
   ]
  },
  {
   "cell_type": "markdown",
   "id": "c476c90a",
   "metadata": {},
   "source": [
    "The data consists of customer transaction records with the following columns:\n",
    "\n",
    "* customer_id: Unique identifier for each customer.\n",
    "\n",
    "* Name: First name of the customer.\n",
    "\n",
    "* Surname: Last name of the customer.\n",
    "\n",
    "* Gender: the sexual orientation of the customer.\n",
    "\n",
    "* Birthdate: the day, month and year the customer was born.\n",
    "\n",
    "* Transaction Amount: Amount of transaction made.\n",
    "* Date: Date of the transaction.\n",
    "* Merchant Name: the name of the merchant making the transactions.\n",
    "* Category: Product category."
   ]
  },
  {
   "cell_type": "markdown",
   "id": "4100d3d1",
   "metadata": {},
   "source": [
    "##### <b>DATA EXPLORATION</b>"
   ]
  },
  {
   "cell_type": "markdown",
   "id": "87a448c1",
   "metadata": {},
   "source": [
    "CHECK THE SHAPE"
   ]
  },
  {
   "cell_type": "code",
   "execution_count": null,
   "id": "550b2b1a",
   "metadata": {},
   "outputs": [],
   "source": [
    "print('The number of rows and columns in this dataset is', customer_transactions.shape, 'respectively')"
   ]
  },
  {
   "cell_type": "markdown",
   "id": "da2b3b90",
   "metadata": {},
   "source": [
    "CHECK THE SIZE"
   ]
  },
  {
   "cell_type": "code",
   "execution_count": null,
   "id": "7b2ca365",
   "metadata": {},
   "outputs": [],
   "source": [
    "print('The size of this dataset is', customer_transactions.size) "
   ]
  },
  {
   "cell_type": "markdown",
   "id": "bceb7d9d",
   "metadata": {},
   "source": [
    "CHECK THE COLUMNS"
   ]
  },
  {
   "cell_type": "code",
   "execution_count": null,
   "id": "6975c674",
   "metadata": {},
   "outputs": [],
   "source": [
    "customer_transactions.columns"
   ]
  },
  {
   "cell_type": "markdown",
   "id": "62cc7edf",
   "metadata": {},
   "source": [
    "CHECK INFO"
   ]
  },
  {
   "cell_type": "code",
   "execution_count": null,
   "id": "a8986b39",
   "metadata": {},
   "outputs": [],
   "source": [
    "customer_transactions.info()"
   ]
  },
  {
   "cell_type": "code",
   "execution_count": null,
   "id": "e17e7aaa",
   "metadata": {},
   "outputs": [],
   "source": [
    "customer_transactions.describe(include='all').T "
   ]
  },
  {
   "cell_type": "markdown",
   "id": "1c3736e9",
   "metadata": {},
   "source": [
    "##### <b>DATA PREPARATION</b>"
   ]
  },
  {
   "cell_type": "markdown",
   "id": "d311fc85",
   "metadata": {},
   "source": [
    "CHECK FOR MISSING VALUES"
   ]
  },
  {
   "cell_type": "code",
   "execution_count": null,
   "id": "669e67c0",
   "metadata": {},
   "outputs": [],
   "source": [
    "customer_transactions.isna()"
   ]
  },
  {
   "cell_type": "code",
   "execution_count": null,
   "id": "b2a374ed",
   "metadata": {},
   "outputs": [],
   "source": [
    "customer_transactions.isna().sum()"
   ]
  },
  {
   "cell_type": "markdown",
   "id": "7f3e42e1",
   "metadata": {},
   "source": [
    "DISPLAY HEATMAP FOR MISSING VALUES"
   ]
  },
  {
   "cell_type": "code",
   "execution_count": null,
   "id": "7311228f",
   "metadata": {},
   "outputs": [],
   "source": [
    "sns.heatmap(customer_transactions.isna())"
   ]
  },
  {
   "cell_type": "markdown",
   "id": "e0b0c854",
   "metadata": {},
   "source": [
    "CHECK UNIQUE VALUES IN THE GENDER COLUMN"
   ]
  },
  {
   "cell_type": "code",
   "execution_count": null,
   "id": "ef64a6ef",
   "metadata": {},
   "outputs": [],
   "source": [
    "customer_transactions['Gender'].unique()"
   ]
  },
  {
   "cell_type": "markdown",
   "id": "d07804e1",
   "metadata": {},
   "source": [
    "CHECK THE VALUE COUNT OF EACH GENDER"
   ]
  },
  {
   "cell_type": "code",
   "execution_count": null,
   "id": "634e7b82",
   "metadata": {},
   "outputs": [],
   "source": [
    "customer_transactions['Gender'].value_counts()"
   ]
  },
  {
   "cell_type": "markdown",
   "id": "6c9940e4",
   "metadata": {},
   "source": [
    "REPLACE THE INITIALS OF THE GENDER TO FULL NAME"
   ]
  },
  {
   "cell_type": "code",
   "execution_count": null,
   "id": "87c38c26",
   "metadata": {},
   "outputs": [],
   "source": [
    "customer_transactions['Gender'] = customer_transactions['Gender'].replace('F', 'Female')\n",
    "customer_transactions['Gender'] = customer_transactions['Gender'].replace('M', 'Male')"
   ]
  },
  {
   "cell_type": "markdown",
   "id": "6938821a",
   "metadata": {},
   "source": [
    "FILL NAN VALUES WITH UNKNOWN"
   ]
  },
  {
   "cell_type": "code",
   "execution_count": null,
   "id": "806e2cbc",
   "metadata": {},
   "outputs": [],
   "source": [
    "#Replace nan values in the Gender column with \"Unknown\"\n",
    "customer_transactions['Gender'].fillna('Unknown', inplace=True)"
   ]
  },
  {
   "cell_type": "markdown",
   "id": "7b41998b",
   "metadata": {},
   "source": [
    "CHECK VALUE COUNTS AFTER THE CORRECTION AND REPLACEMENT"
   ]
  },
  {
   "cell_type": "code",
   "execution_count": null,
   "id": "88c89ffa",
   "metadata": {},
   "outputs": [],
   "source": [
    "customer_transactions['Gender'].value_counts()"
   ]
  },
  {
   "cell_type": "code",
   "execution_count": null,
   "id": "f5f5e5b8",
   "metadata": {},
   "outputs": [],
   "source": [
    "customer_transactions.isnull().sum()"
   ]
  },
  {
   "cell_type": "markdown",
   "id": "1e1102bc",
   "metadata": {},
   "source": [
    "CREATE A NEW COLUMN FOR AGE"
   ]
  },
  {
   "cell_type": "code",
   "execution_count": null,
   "id": "29e8c68e",
   "metadata": {},
   "outputs": [],
   "source": [
    "#To further aid our analysis, I will be creating a new column that will generate the age of the customer as at the time of this analysis.\n",
    "\n",
    "customer_transactions['Birthdate'] = pd.to_datetime(customer_transactions['Birthdate'])\n",
    "customer_transactions['Date'] = pd.to_datetime(customer_transactions['Date'])\n",
    "\n",
    "customer_transactions['Age'] = customer_transactions['Birthdate'].apply(lambda x: (datetime.now() - x).days // 365)"
   ]
  },
  {
   "cell_type": "code",
   "execution_count": null,
   "id": "fda36171",
   "metadata": {},
   "outputs": [],
   "source": [
    "customer_transactions"
   ]
  },
  {
   "cell_type": "code",
   "execution_count": null,
   "id": "c173aea8",
   "metadata": {},
   "outputs": [],
   "source": [
    "# Create histogram with KDE\n",
    "fig = px.histogram(customer_transactions, x='Age', nbins=30, marginal='violin', title='Age Distribution')\n",
    "\n",
    "# Show the plot\n",
    "fig.show()"
   ]
  },
  {
   "cell_type": "code",
   "execution_count": null,
   "id": "542cf74e",
   "metadata": {},
   "outputs": [],
   "source": [
    "# Create a dataframe for the bar chart\n",
    "age_distribution = customer_transactions['Age'].value_counts(bins=30).sort_index().reset_index()\n",
    "age_distribution.columns = ['Age Group', 'Count']\n",
    "\n",
    "# Create bar chart\n",
    "fig = px.bar(age_distribution, x='Age Group', y='Count', title='Age Distribution', labels={'Age Group': 'Age Group', 'Count': 'Count'})\n",
    "\n",
    "# Show the plot\n",
    "fig.show()"
   ]
  },
  {
   "cell_type": "code",
   "execution_count": null,
   "id": "1f2c03a5",
   "metadata": {},
   "outputs": [],
   "source": []
  },
  {
   "cell_type": "code",
   "execution_count": null,
   "id": "79d901e0",
   "metadata": {},
   "outputs": [],
   "source": []
  },
  {
   "cell_type": "code",
   "execution_count": null,
   "id": "d4f0e2cd",
   "metadata": {},
   "outputs": [],
   "source": []
  },
  {
   "cell_type": "markdown",
   "id": "c5602d60",
   "metadata": {},
   "source": [
    "DATA CLEANING"
   ]
  },
  {
   "cell_type": "code",
   "execution_count": null,
   "id": "2587454c",
   "metadata": {},
   "outputs": [],
   "source": [
    "customer_transactions['Birthdate'] = pd.to_datetime(customer_transactions['Birthdate'])\n",
    "customer_transactions['Date'] = pd.to_datetime(customer_transactions['Date'])\n",
    "customer_transactions['Gender'] = customer_transactions['Gender'].astype('category')"
   ]
  },
  {
   "cell_type": "code",
   "execution_count": null,
   "id": "a388abd0",
   "metadata": {},
   "outputs": [],
   "source": []
  },
  {
   "cell_type": "code",
   "execution_count": null,
   "id": "eede3b60",
   "metadata": {},
   "outputs": [],
   "source": [
    "plt.figure(figsize=(12, 5))\n",
    "plt.subplot(1, 2, 1)\n",
    "sns.histplot(customer_transactions['Transaction Amount'], bins=30, kde=True)\n",
    "plt.title('Transaction Amount Distribution')"
   ]
  },
  {
   "cell_type": "code",
   "execution_count": null,
   "id": "1d2b9652",
   "metadata": {},
   "outputs": [],
   "source": [
    "plt.subplot(1, 2, 2)\n",
    "sns.histplot(customer_transactions['Age'], bins=30, kde=True)\n",
    "plt.title('Age Distribution')\n",
    "plt.show()"
   ]
  },
  {
   "cell_type": "code",
   "execution_count": null,
   "id": "e4145816",
   "metadata": {},
   "outputs": [],
   "source": [
    "plt.figure(figsize=(12, 5))\n",
    "plt.subplot(1, 2, 1)\n",
    "sns.countplot(x='Gender', data=customer_transactions)\n",
    "plt.title('Gender Distribution')\n"
   ]
  },
  {
   "cell_type": "code",
   "execution_count": null,
   "id": "d4727685",
   "metadata": {},
   "outputs": [],
   "source": [
    "plt.subplot(1, 2, 2)\n",
    "sns.countplot(y='Category', data=customer_transactions)\n",
    "plt.title('Transaction Categories')\n",
    "plt.show()"
   ]
  },
  {
   "cell_type": "code",
   "execution_count": null,
   "id": "2a2de1b7",
   "metadata": {},
   "outputs": [],
   "source": [
    "customer_transactions['YearMonth'] = customer_transactions['Date'].dt.to_period('M')\n",
    "\n",
    "plt.figure(figsize=(12, 5))\n",
    "sns.lineplot(data=customer_transactions.groupby('YearMonth')['Transaction Amount'].sum().reset_index(), x='YearMonth', y='Transaction Amount')\n",
    "plt.title('Monthly Transaction Amount Over Time')\n",
    "plt.xticks(rotation=45)\n",
    "plt.show()\n"
   ]
  },
  {
   "cell_type": "code",
   "execution_count": null,
   "id": "f9685f9e",
   "metadata": {},
   "outputs": [],
   "source": [
    "plt.figure(figsize=(12, 5))\n",
    "sns.boxplot(x='Gender', y='Transaction Amount', data=customer_transactions)\n",
    "plt.title('Transaction Amount by Gender')\n",
    "plt.show()\n",
    "\n",
    "customer_transactions['AgeGroup'] = pd.cut(customer_transactions['Age'], bins=[0, 18, 35, 50, 65, 100], labels=['<18', '18-35', '35-50', '50-65', '65+'])\n",
    "\n",
    "plt.figure(figsize=(12, 5))\n",
    "sns.boxplot(x='AgeGroup', y='Transaction Amount', data=customer_transactions)\n",
    "plt.title('Transaction Amount by Age Group')\n",
    "plt.show()"
   ]
  },
  {
   "cell_type": "code",
   "execution_count": null,
   "id": "d85412ee",
   "metadata": {},
   "outputs": [],
   "source": [
    "top_merchants = customer_transactions.groupby('Merchant Name')['Transaction Amount'].sum().sort_values(ascending=False).head(10)\n",
    "plt.figure(figsize=(12, 5))\n",
    "sns.barplot(x=top_merchants.values, y=top_merchants.index)\n",
    "plt.title('Top 10 Merchants by Transaction Amount')\n",
    "plt.show()"
   ]
  },
  {
   "cell_type": "code",
   "execution_count": null,
   "id": "fc17691f",
   "metadata": {},
   "outputs": [],
   "source": [
    "category_spending = customer_transactions.groupby('Category')['Transaction Amount'].sum().sort_values(ascending=False)\n",
    "plt.figure(figsize=(12, 5))\n",
    "sns.barplot(x=category_spending.values, y=category_spending.index)\n",
    "plt.title('Spending by Category')\n",
    "plt.show()\n"
   ]
  },
  {
   "cell_type": "code",
   "execution_count": null,
   "id": "313bf9a8",
   "metadata": {},
   "outputs": [],
   "source": [
    "corr_matrix = customer_transactions[['Age', 'Transaction Amount']].corr()\n",
    "sns.heatmap(corr_matrix, annot=True, cmap='coolwarm')\n",
    "plt.title('Correlation Matrix')\n",
    "plt.show()"
   ]
  },
  {
   "cell_type": "code",
   "execution_count": null,
   "id": "65789099",
   "metadata": {},
   "outputs": [],
   "source": []
  },
  {
   "cell_type": "code",
   "execution_count": null,
   "id": "45922880",
   "metadata": {},
   "outputs": [],
   "source": []
  },
  {
   "cell_type": "code",
   "execution_count": null,
   "id": "74029cd4",
   "metadata": {},
   "outputs": [],
   "source": []
  },
  {
   "cell_type": "code",
   "execution_count": null,
   "id": "77927502",
   "metadata": {},
   "outputs": [],
   "source": []
  },
  {
   "cell_type": "code",
   "execution_count": null,
   "id": "acf95439",
   "metadata": {},
   "outputs": [],
   "source": []
  },
  {
   "cell_type": "code",
   "execution_count": null,
   "id": "2d9fcba2",
   "metadata": {},
   "outputs": [],
   "source": []
  },
  {
   "cell_type": "markdown",
   "id": "c88732b8",
   "metadata": {},
   "source": [
    "DATA PREPROCESSING"
   ]
  },
  {
   "cell_type": "code",
   "execution_count": null,
   "id": "e435989e",
   "metadata": {},
   "outputs": [],
   "source": [
    "customer_transactions['Gender'].unique()"
   ]
  },
  {
   "cell_type": "code",
   "execution_count": null,
   "id": "b0ce470e",
   "metadata": {},
   "outputs": [],
   "source": [
    "customer_transactions['Gender'] = customer_transactions['Gender'].replace ('F', 'Female')\n",
    "customer_transactions['Gender'] = customer_transactions['Gender'].replace ('M', 'Male')\n",
    "customer_transactions['Gender'] = customer_transactions['Gender'].replace ('nan', 'Prefer not to say')"
   ]
  },
  {
   "cell_type": "code",
   "execution_count": null,
   "id": "609aa050",
   "metadata": {},
   "outputs": [],
   "source": [
    "customer_transactions['Gender'].unique()"
   ]
  },
  {
   "cell_type": "code",
   "execution_count": null,
   "id": "70f6434f",
   "metadata": {},
   "outputs": [],
   "source": [
    "customer_transactions['Transaction Amount'].unique()"
   ]
  },
  {
   "cell_type": "code",
   "execution_count": null,
   "id": "45c21660",
   "metadata": {},
   "outputs": [],
   "source": [
    "customer_transactions['Merchant Name'].unique()"
   ]
  },
  {
   "cell_type": "markdown",
   "id": "b9f3efea",
   "metadata": {},
   "source": [
    "UNIVARIATE ANALYSIS"
   ]
  },
  {
   "cell_type": "code",
   "execution_count": null,
   "id": "2b17fc89",
   "metadata": {},
   "outputs": [],
   "source": [
    "# Extract the values from the 'Gender' column and count occurrences\n",
    "gender_counts = customer_transactions['Gender'].value_counts().reset_index()\n",
    "gender_counts.columns = ['Gender', 'Count']\n",
    "\n",
    "colors = ['#636EFA', '#EF553B', '#00CC96', '#AB63FA']\n",
    "\n",
    "# Create the pie chart\n",
    "fig = px.pie(gender_counts, names='Gender', values='Count', title='Gender Distribution')\n",
    "\n",
    "# Update the chart to add data labels\n",
    "fig.update_traces(textinfo='percent+label')\n",
    "\n",
    "# Show the plot\n",
    "fig.show()"
   ]
  },
  {
   "cell_type": "code",
   "execution_count": null,
   "id": "c08b91ed",
   "metadata": {},
   "outputs": [],
   "source": []
  },
  {
   "cell_type": "code",
   "execution_count": null,
   "id": "d35e10ac",
   "metadata": {},
   "outputs": [],
   "source": []
  },
  {
   "cell_type": "code",
   "execution_count": null,
   "id": "c0ecd20a",
   "metadata": {},
   "outputs": [],
   "source": []
  },
  {
   "cell_type": "code",
   "execution_count": null,
   "id": "f37c99ed",
   "metadata": {},
   "outputs": [],
   "source": []
  },
  {
   "cell_type": "code",
   "execution_count": null,
   "id": "9c3e4db0",
   "metadata": {},
   "outputs": [],
   "source": []
  },
  {
   "cell_type": "code",
   "execution_count": null,
   "id": "22d3867b",
   "metadata": {},
   "outputs": [],
   "source": []
  },
  {
   "cell_type": "code",
   "execution_count": null,
   "id": "68114459",
   "metadata": {},
   "outputs": [],
   "source": []
  },
  {
   "cell_type": "code",
   "execution_count": null,
   "id": "8f329d57",
   "metadata": {},
   "outputs": [],
   "source": []
  },
  {
   "cell_type": "code",
   "execution_count": null,
   "id": "baa3d290",
   "metadata": {},
   "outputs": [],
   "source": []
  },
  {
   "cell_type": "code",
   "execution_count": null,
   "id": "c381b353",
   "metadata": {},
   "outputs": [],
   "source": []
  },
  {
   "cell_type": "code",
   "execution_count": null,
   "id": "ec18a600",
   "metadata": {},
   "outputs": [],
   "source": []
  },
  {
   "cell_type": "code",
   "execution_count": null,
   "id": "e88fc733",
   "metadata": {},
   "outputs": [],
   "source": []
  },
  {
   "cell_type": "markdown",
   "id": "2d89e8d8",
   "metadata": {},
   "source": [
    "UNIVARIATE ANALYSIS"
   ]
  },
  {
   "cell_type": "code",
   "execution_count": null,
   "id": "bf4960af",
   "metadata": {},
   "outputs": [],
   "source": [
    "# 1. Customer ID (int64)\n",
    "print(\"Customer ID:\")\n",
    "print(\"Count of Unique Values:\", customer_transactions['Customer ID'].nunique())\n",
    "print(\"Summary Statistics:\")\n",
    "print(customer_transactions['Customer ID'].describe())\n",
    "\n",
    "# 2. Name (object)\n",
    "print(\"\\nName:\")\n",
    "print(\"Count of Unique Names:\", customer_transactions['Name'].nunique())\n",
    "print(\"Most Common Names:\")\n",
    "print(customer_transactions['Name'].value_counts().head())\n",
    "customer_transactions['Name_Length'] = customer_transactions['Name'].apply(len)\n",
    "print(\"Mean Length:\", customer_transactions['Name_Length'].mean())\n",
    "print(\"Median Length:\", customer_transactions['Name_Length'].median())\n",
    "print(\"Missing Values:\", customer_transactions['Name'].isnull().sum())\n",
    "\n",
    "# 3. Surname (object)\n",
    "print(\"\\nSurname:\")\n",
    "print(\"Count of Unique Surnames:\", customer_transactions['Surname'].nunique())\n",
    "print(\"Most Common Surnames:\")\n",
    "print(customer_transactions['Surname'].value_counts().head())\n",
    "customer_transactions['Surname_Length'] = customer_transactions['Surname'].apply(len)\n",
    "print(\"Mean Length:\", customer_transactions['Surname_Length'].mean())\n",
    "print(\"Median Length:\", customer_transactions['Surname_Length'].median())\n",
    "print(\"Missing Values:\", customer_transactions['Surname'].isnull().sum())\n",
    "\n",
    "# 4. Gender (object)\n",
    "print(\"\\nGender:\")\n",
    "print(\"Count of Each Gender:\")\n",
    "print(customer_transactions['Gender'].value_counts())\n",
    "print(\"Percentage Distribution:\")\n",
    "print(customer_transactions['Gender'].value_counts(normalize=True) * 100)\n",
    "print(\"Missing Values:\", customer_transactions['Gender'].isnull().sum())\n",
    "\n",
    "# 5. Birthdate (object)\n",
    "print(\"\\nBirthdate:\")\n",
    "customer_transactions['Birth_Year'] = pd.to_datetime(customer_transactions['Birthdate']).dt.year\n",
    "print(\"Distribution of Birth Years:\")\n",
    "print(customer_transactions['Birth_Year'].value_counts().sort_index())\n",
    "print(\"Distribution of Birth Months:\")\n",
    "print(pd.to_datetime(customer_transactions['Birthdate']).dt.month.value_counts().sort_index())\n",
    "customer_transactions['Age'] = pd.to_datetime('now').year - pd.to_datetime(customer_transactions['Birthdate']).dt.year\n",
    "print(\"Mean Age:\", customer_transactions['Age'].mean())\n",
    "print(\"Median Age:\", customer_transactions['Age'].median())\n",
    "print(\"Youngest:\", customer_transactions['Age'].min())\n",
    "print(\"Oldest:\", customer_transactions['Age'].max())\n",
    "print(\"Missing Values:\", customer_transactions['Birthdate'].isnull().sum())\n",
    "\n",
    "# 6. Transaction Amount (float64)\n",
    "print(\"\\nTransaction Amount:\")\n",
    "print(\"Summary Statistics:\")\n",
    "print(customer_transactions['Transaction Amount'].describe())\n",
    "plt.hist(customer_transactions['Transaction Amount'], bins=20)\n",
    "plt.xlabel('Transaction Amount')\n",
    "plt.ylabel('Frequency')\n",
    "plt.title('Distribution of Transaction Amounts')\n",
    "plt.show()\n",
    "# Outlier detection (can be adjusted as needed)\n",
    "outliers = customer_transactions[(customer_transactions['Transaction Amount'] - customer_transactions['Transaction Amount'].mean()).abs() > 3 * customer_transactions['Transaction Amount'].std()]\n",
    "print(\"Number of Outliers:\", len(outliers))\n",
    "\n",
    "# 7. Date (object)\n",
    "print(\"\\nDate:\")\n",
    "customer_transactions['Date'] = pd.to_datetime(customer_transactions['Date'])\n",
    "print(\"Distribution of Transactions Over Time:\")\n",
    "print(customer_transactions['Date'].dt.to_period('M').value_counts().sort_index())\n",
    "print(\"Missing Values:\", customer_transactions['Date'].isnull().sum())\n",
    "\n",
    "# 8. Merchant Name (object)\n",
    "print(\"\\nMerchant Name:\")\n",
    "print(\"Count of Unique Merchant Names:\", customer_transactions['Merchant Name'].nunique())\n",
    "print(\"Most Common Merchant Names:\")\n",
    "print(customer_transactions['Merchant Name'].value_counts().head())\n",
    "print(\"Missing Values:\", customer_transactions['Merchant Name'].isnull().sum())\n",
    "\n",
    "# 9. Category (object)\n",
    "print(\"\\nCategory:\")\n",
    "print(\"Count of Unique Categories:\", customer_transactions['Category'].nunique())\n",
    "print(\"Most Common Categories:\")\n",
    "print(customer_transactions['Category'].value_counts().head())\n",
    "print(\"Missing Values:\", customer_transactions['Category'].isnull().sum())"
   ]
  },
  {
   "cell_type": "code",
   "execution_count": null,
   "id": "6aa9e2c7",
   "metadata": {},
   "outputs": [],
   "source": [
    "# 4. Gender\n",
    "print(\"\\nGender:\")\n",
    "print(\"- Count of Each Gender:\")\n",
    "print(customer_transactions['Gender'].value_counts())\n",
    "print(\"- Percentage Distribution:\")\n",
    "print(customer_transactions['Gender'].value_counts(normalize=True) * 100)\n",
    "print(\"- Missing Values:\", customer_transactions['Gender'].isnull().sum())"
   ]
  },
  {
   "cell_type": "code",
   "execution_count": null,
   "id": "f97096d5",
   "metadata": {},
   "outputs": [],
   "source": []
  },
  {
   "cell_type": "code",
   "execution_count": null,
   "id": "2ee57345",
   "metadata": {},
   "outputs": [],
   "source": []
  },
  {
   "cell_type": "code",
   "execution_count": null,
   "id": "9567305f",
   "metadata": {},
   "outputs": [],
   "source": []
  },
  {
   "cell_type": "code",
   "execution_count": null,
   "id": "e03df015",
   "metadata": {},
   "outputs": [],
   "source": []
  },
  {
   "cell_type": "code",
   "execution_count": null,
   "id": "dc410461",
   "metadata": {},
   "outputs": [],
   "source": []
  },
  {
   "cell_type": "code",
   "execution_count": null,
   "id": "0a73a713",
   "metadata": {},
   "outputs": [],
   "source": []
  },
  {
   "cell_type": "code",
   "execution_count": null,
   "id": "e5d07975",
   "metadata": {},
   "outputs": [],
   "source": []
  },
  {
   "cell_type": "code",
   "execution_count": null,
   "id": "e2f2660e",
   "metadata": {},
   "outputs": [],
   "source": []
  },
  {
   "cell_type": "code",
   "execution_count": null,
   "id": "f9d55028",
   "metadata": {},
   "outputs": [],
   "source": []
  },
  {
   "cell_type": "code",
   "execution_count": null,
   "id": "80f4adb6",
   "metadata": {},
   "outputs": [],
   "source": []
  },
  {
   "cell_type": "code",
   "execution_count": null,
   "id": "b30ced39",
   "metadata": {},
   "outputs": [],
   "source": []
  },
  {
   "cell_type": "code",
   "execution_count": null,
   "id": "7672906d",
   "metadata": {},
   "outputs": [],
   "source": []
  },
  {
   "cell_type": "code",
   "execution_count": null,
   "id": "60cb1432",
   "metadata": {},
   "outputs": [],
   "source": []
  },
  {
   "cell_type": "code",
   "execution_count": null,
   "id": "0e6762f4",
   "metadata": {},
   "outputs": [],
   "source": [
    "# Columns to exclude from the loop\n",
    "#exclude_columns = ['latitude', 'longitude', 'Pin code']\n",
    "\n",
    "# Loop through each column\n",
    "for column in customer_transactions.columns:\n",
    "    # Skip excluded columns\n",
    "   # if column in exclude_columns:\n",
    "   #     continue\n",
    "    \n",
    "    # Get unique values and their counts\n",
    "    value_counts = customer_transactions[column].value_counts()\n",
    "    \n",
    "    # Create bar chart\n",
    "    fig = px.bar(value_counts, x=value_counts.index, y=value_counts.values, \n",
    "                 labels={'x': column, 'y': 'Count'}, \n",
    "                 title=f\"Value Counts for {column}\")\n",
    "    \n",
    "    # Show plot\n",
    "    fig.show()"
   ]
  },
  {
   "cell_type": "markdown",
   "id": "31670ee9",
   "metadata": {},
   "source": [
    "#### TASK 1 - CHECK FOR DUPLICATED ROWS"
   ]
  },
  {
   "cell_type": "code",
   "execution_count": null,
   "id": "2820f1c0",
   "metadata": {},
   "outputs": [],
   "source": [
    "Total_dup = customer_transactions.duplicated().sum()\n",
    "print('The total number of duplicate rows in this dataset is', Total_dup)"
   ]
  },
  {
   "cell_type": "markdown",
   "id": "58db6483",
   "metadata": {},
   "source": [
    "#### TASK 2 - CHECK FOR MISSING VALUES"
   ]
  },
  {
   "cell_type": "code",
   "execution_count": null,
   "id": "c22dddac",
   "metadata": {},
   "outputs": [],
   "source": [
    "customer_transactions.isna().sum()"
   ]
  },
  {
   "cell_type": "code",
   "execution_count": null,
   "id": "4ee09d4f",
   "metadata": {},
   "outputs": [],
   "source": [
    "Total_MV = customer_transactions.isna().sum().sum()\n",
    "print('The total number of missing values in this dataset is', Total_MV)"
   ]
  },
  {
   "cell_type": "code",
   "execution_count": null,
   "id": "9717bb88",
   "metadata": {},
   "outputs": [],
   "source": [
    "#Check for the percentage for the missing values.\n",
    "\n",
    "missing_gender = customer_transactions['Gender'].isnull().sum()\n",
    "total_rows = len(customer_transactions)\n",
    "missing_percentage = (missing_gender / total_rows) * 100\n",
    "\n",
    "print(f\"Missing Gender Values: {missing_gender} ({missing_percentage:.2f}%)\")"
   ]
  },
  {
   "cell_type": "markdown",
   "id": "da42180a",
   "metadata": {},
   "source": [
    "#### HEATMAP FOR MISSING VALUES"
   ]
  },
  {
   "cell_type": "code",
   "execution_count": null,
   "id": "f7760217",
   "metadata": {},
   "outputs": [],
   "source": [
    "sns.heatmap(customer_transactions.isnull())"
   ]
  },
  {
   "cell_type": "markdown",
   "id": "f271f20d",
   "metadata": {},
   "source": [
    "#### INSIGHTS\n",
    "\n",
    "The results showed that there are 5,047 missing values in the gender column which sums up to 10.09% of the dataset. \n",
    "\n",
    "In dealing with this, I will replace all the missing values in the gender column to UNDEFINED.\n",
    "\n",
    "This presupposes that the these customers did not find their gender orientation listed in there to select, hence the empty field."
   ]
  },
  {
   "cell_type": "markdown",
   "id": "ac70e76f",
   "metadata": {},
   "source": [
    "#### DEALING WITH THE MISSING VALUES."
   ]
  },
  {
   "cell_type": "code",
   "execution_count": null,
   "id": "123e5586",
   "metadata": {},
   "outputs": [],
   "source": [
    "#Replace missing values in the gender column with undefined.\n",
    "\n",
    "customer_transactions['Gender'].fillna('Undefined', inplace=True)"
   ]
  },
  {
   "cell_type": "code",
   "execution_count": null,
   "id": "aca4c649",
   "metadata": {},
   "outputs": [],
   "source": [
    "#Replace gender initials with the full word.\n",
    "\n",
    "customer_transactions['Gender'] = customer_transactions['Gender'].replace('M', 'Male')\n",
    "customer_transactions['Gender'] = customer_transactions['Gender'].replace('F', 'Female')"
   ]
  },
  {
   "cell_type": "code",
   "execution_count": null,
   "id": "20a236ae",
   "metadata": {},
   "outputs": [],
   "source": [
    "#Checking for the unique values in the Gender column after replacing the missing values and renaming the initials with full word.\n",
    "customer_transactions['Gender'].unique()"
   ]
  },
  {
   "cell_type": "markdown",
   "id": "b47e0cb2",
   "metadata": {},
   "source": [
    "#### RENAME SOME COLUMNS NAME"
   ]
  },
  {
   "cell_type": "code",
   "execution_count": null,
   "id": "3150ff2c",
   "metadata": {},
   "outputs": [],
   "source": [
    "customer_transactions = customer_transactions.rename(columns={'Name': 'First Name', 'Surname': 'Last Name', \n",
    "                                                              'Birthdate': 'Date of Birth', \n",
    "                                                              'Transaction Amount': 'Transaction Amt ($)'})"
   ]
  },
  {
   "cell_type": "code",
   "execution_count": null,
   "id": "779b4f33",
   "metadata": {},
   "outputs": [],
   "source": [
    "customer_transactions.columns"
   ]
  },
  {
   "cell_type": "markdown",
   "id": "ff5f933c",
   "metadata": {},
   "source": [
    "#### CHECK THE "
   ]
  },
  {
   "cell_type": "code",
   "execution_count": null,
   "id": "a2c5ffda",
   "metadata": {},
   "outputs": [],
   "source": [
    "customer_transactions.describe().T"
   ]
  },
  {
   "cell_type": "code",
   "execution_count": null,
   "id": "56e6493c",
   "metadata": {},
   "outputs": [],
   "source": [
    "customer_transactions.describe(include='object').T"
   ]
  },
  {
   "cell_type": "markdown",
   "id": "1dea944a",
   "metadata": {},
   "source": [
    "## EXPLORATORY DATA ANALYSIS, (E.D.A)"
   ]
  },
  {
   "cell_type": "markdown",
   "id": "24a731a5",
   "metadata": {},
   "source": [
    "#### MAKE A COPY OF THE ORIGINAL DATASET."
   ]
  },
  {
   "cell_type": "code",
   "execution_count": null,
   "id": "ff6d5953",
   "metadata": {},
   "outputs": [],
   "source": [
    "customer_transactions_copy = customer_transactions.copy"
   ]
  },
  {
   "cell_type": "code",
   "execution_count": null,
   "id": "6c312217",
   "metadata": {},
   "outputs": [],
   "source": [
    "Cols_drop = ['Customer ID', 'Last Name']\n",
    "customer_transactions = customer_transactions.drop(columns= Cols_drop)"
   ]
  },
  {
   "cell_type": "code",
   "execution_count": null,
   "id": "2bbc54b9",
   "metadata": {
    "scrolled": false
   },
   "outputs": [],
   "source": [
    "customer_transactions.boxplot()"
   ]
  },
  {
   "cell_type": "markdown",
   "id": "499c0572",
   "metadata": {},
   "source": [
    "#### INSIGHTS TO BE DERIVED FROM THIS ANALYSIS"
   ]
  },
  {
   "cell_type": "markdown",
   "id": "cda49b11",
   "metadata": {},
   "source": [
    "#### QUESTIONS\n",
    "\n",
    " - Which category made the highest sales during the period?\n",
    " - Which age grouping patronized more of cosmetics, clothings and travel?\n",
    " - Which date had the highest patronage for Clothing?"
   ]
  },
  {
   "cell_type": "markdown",
   "id": "f1ca18c1",
   "metadata": {},
   "source": [
    "#### Question 1\n",
    " - Which category made the highest sales during the period?"
   ]
  },
  {
   "cell_type": "code",
   "execution_count": null,
   "id": "142bf0e9",
   "metadata": {},
   "outputs": [],
   "source": [
    "# Group the data by category and calculate total sales for each category\n",
    "category_sales = customer_transactions.groupby('Category')['Transaction Amt ($)'].sum()\n",
    "\n",
    "# Print the total sales for each category\n",
    "print(category_sales)"
   ]
  },
  {
   "cell_type": "code",
   "execution_count": null,
   "id": "1b697002",
   "metadata": {},
   "outputs": [],
   "source": [
    "customer_transactions = category_sales.reset_index()\n",
    "customer_transactions.columns = ['Category', 'Transaction Amt ($)']\n",
    "\n",
    "# Plotting the bar chart using Plotly Express\n",
    "fig = px.bar(customer_transactions, x='Category', y='Transaction Amt ($)',\n",
    "             title='Total Sales by Category',\n",
    "             labels={'Transaction Amt ($)': 'Transaction Amt ($)'},\n",
    "             text='Transaction Amt ($)',\n",
    "             width=800, height=500)\n",
    "\n",
    "# Rotate x-axis labels for better readability\n",
    "fig.update_xaxes(tickangle=45)\n",
    "\n",
    "# Show the plot\n",
    "fig.show()"
   ]
  },
  {
   "cell_type": "code",
   "execution_count": null,
   "id": "20e45e34",
   "metadata": {},
   "outputs": [],
   "source": [
    "# Find the category with the highest total sales\n",
    "highest_sales_category = category_sales.idxmax()\n",
    "highest_sales_amount = category_sales.max()\n",
    "\n",
    "print(f\"The category with the highest sales is '{highest_sales_category}' with a total sales amount of $ {highest_sales_amount:.2f}\")"
   ]
  },
  {
   "cell_type": "markdown",
   "id": "ad733033",
   "metadata": {},
   "source": [
    "#### Question 2\n",
    " - Which age group patronized more of cosmetics, clothings and travel?"
   ]
  },
  {
   "cell_type": "code",
   "execution_count": null,
   "id": "636391a6",
   "metadata": {},
   "outputs": [],
   "source": [
    "# Convert the 'Date of Birth' column to datetime\n",
    "customer_transactions['Date of Birth'] = pd.to_datetime(customer_transactions['Date of Birth'])\n",
    "\n",
    "# Calculate age based on the current date\n",
    "current_date = datetime.now()\n",
    "customer_transactions['Age'] = (current_date - customer_transactions['Date of Birth']) // pd.Timedelta(days=365)\n",
    "\n",
    "customer_transactions"
   ]
  },
  {
   "cell_type": "code",
   "execution_count": null,
   "id": "af353e4a",
   "metadata": {},
   "outputs": [],
   "source": [
    "# Group Ages into categories: young, middle age, and old\n",
    "\n",
    "# Define age bins and labels\n",
    "age_bins = [0, 30, 50, 100]  # You can adjust these age boundaries as needed\n",
    "\n",
    "age_labels = ['Young', 'Middle Age', 'Old']\n",
    "\n",
    "# Apply age grouping\n",
    "customer_transactions['Age Group'] = pd.cut(customer_transactions['Age'], bins=age_bins, labels=age_labels, right=False)\n"
   ]
  },
  {
   "cell_type": "code",
   "execution_count": null,
   "id": "0c0c406a",
   "metadata": {},
   "outputs": [],
   "source": [
    "customer_transactions.head()"
   ]
  },
  {
   "cell_type": "code",
   "execution_count": null,
   "id": "c2d8b34d",
   "metadata": {},
   "outputs": [],
   "source": [
    "# Create a pie chart to visualize the results\n",
    "labels = ['Cosmetic', 'Clothing', 'Travel']\n",
    "sizes = [grouped_data['Travel'].max(), grouped_data['Clothing'].max(), grouped_data['Cosmetic'].max()]\n",
    "explode = (0.1, 0, 0)  # Explode the 1st slice (Cosmetic)\n",
    "\n",
    "plt.pie(sizes, explode=explode, labels=labels, autopct='%1.1f%%', startangle=140)\n",
    "plt.axis('equal')  # Equal aspect ratio ensures that pie is drawn as a circle.\n",
    "\n",
    "plt.title('Age Groups Patronizing Products')\n",
    "\n",
    "plt.show()"
   ]
  },
  {
   "cell_type": "markdown",
   "id": "ccb8055c",
   "metadata": {},
   "source": [
    "#### Question 3\n",
    " - Which date had the highest patronage for Clothing?"
   ]
  },
  {
   "cell_type": "code",
   "execution_count": null,
   "id": "d38b5895",
   "metadata": {},
   "outputs": [],
   "source": [
    "# List of categories you want to analyze\n",
    "categories_to_analyze = ['Cosmetic', 'Clothing', 'Travel' , 'Electronics' , 'Market', 'Restaurant']\n",
    "\n",
    "# Iterate through the categories\n",
    "for category in categories_to_analyze:\n",
    "    # Filter the data for the specific category\n",
    "    category_data = customer_transactions[customer_transactions['Category'] == category]\n",
    "    \n",
    "    # Group the data by date and count the number of purchases for each date\n",
    "    date_patronage = category_data.groupby('Date').size()\n",
    "    \n",
    "    # Find the date with the highest patronage for the category\n",
    "    date_with_highest_patronage = date_patronage.idxmax()\n",
    "    highest_patronage_count = date_patronage.max()\n",
    "    \n",
    "    print(f\"For the '{category}' category:\")\n",
    "    print(f\"The date with the highest patronage is {date_with_highest_patronage} with {highest_patronage_count} purchases.\")\n",
    "    print()\n"
   ]
  },
  {
   "cell_type": "markdown",
   "id": "562c92db",
   "metadata": {},
   "source": [
    " #### Question 4\n",
    " - What is the total number of person based on their gender patronized restaurant?"
   ]
  },
  {
   "cell_type": "code",
   "execution_count": null,
   "id": "0c441a4f",
   "metadata": {},
   "outputs": [],
   "source": [
    "# Filter the data for the \"Restaurant\" category\n",
    "restaurant_data = customer_transactions[customer_transactions['Category'] == 'Restaurant']\n",
    "\n",
    "# Group the data by gender and count the number of patrons for each gender\n",
    "gender_patrons = restaurant_data['Gender'].value_counts()\n",
    "\n",
    "print(\"Total number of people who patronized the restaurant based on gender:\")\n",
    "print(gender_patrons)\n"
   ]
  },
  {
   "cell_type": "code",
   "execution_count": null,
   "id": "61e0ebcf",
   "metadata": {},
   "outputs": [],
   "source": [
    "customer_transactions = pd.DataFrame({'Gender': gender_patrons.index, 'Number of Patrons': gender_patrons.values})\n",
    "\n",
    "# Creating a bar chart using Plotly Express\n",
    "fig = px.bar(customer_transactions, x='Gender', y='Number of Patrons',\n",
    "             color='Gender',\n",
    "             title='Total Number of Restaurant Patrons by Gender',\n",
    "             labels={'Number of Patrons': 'Number of Patrons', 'Gender': 'Gender'},\n",
    "             width=1000, height=00)\n",
    "\n",
    "# Show the plot\n",
    "fig.show()"
   ]
  },
  {
   "cell_type": "markdown",
   "id": "478dc34e",
   "metadata": {},
   "source": [
    " #### Question 5\n",
    " - What is the trend in the transactions?"
   ]
  },
  {
   "cell_type": "code",
   "execution_count": null,
   "id": "68425e7e",
   "metadata": {},
   "outputs": [],
   "source": [
    "# Convert the 'transaction_date' column to a datetime object\n",
    "customer_transactions['Date'] = pd.to_datetime(customer_transactions['Date'])\n",
    "\n",
    "# Group the data by transaction date and count the number of transactions for each date\n",
    "transaction_trend = customer_transactions.groupby('Date').size()\n",
    "\n",
    "# Create a line chart to visualize the transaction trend\n",
    "plt.figure(figsize=(12, 6))\n",
    "plt.plot(transaction_trend.index, transaction_trend.values, marker='o', color='red')\n",
    "plt.title('Transaction Trend Over The Transaction Period.')\n",
    "plt.xlabel('Transaction Date')\n",
    "plt.ylabel('Number of Transactions')\n",
    "plt.grid(True)\n",
    "\n",
    "# Optionally, format the x-axis labels for date\n",
    "plt.gca().xaxis.set_major_formatter(plt.matplotlib.dates.DateFormatter('%Y-%m-%d'))\n",
    "plt.gca().xaxis.set_major_locator(plt.matplotlib.dates.DayLocator(interval=10))  # Adjust the interval as needed\n",
    "\n",
    "plt.xticks(rotation=45)\n",
    "\n",
    "plt.show()"
   ]
  },
  {
   "cell_type": "markdown",
   "id": "7b48c2ec",
   "metadata": {},
   "source": [
    " #### Question 6\n",
    " - What is the percentage for the various gender? "
   ]
  },
  {
   "cell_type": "code",
   "execution_count": null,
   "id": "7302f780",
   "metadata": {},
   "outputs": [],
   "source": [
    "#value counts for each gender\n",
    "\n",
    "customer_transactions['Gender'].value_counts()"
   ]
  },
  {
   "cell_type": "code",
   "execution_count": null,
   "id": "5612c3db",
   "metadata": {},
   "outputs": [],
   "source": [
    "# Assuming your DataFrame has a 'Gender' column, you can count the number of transactions for each gender\n",
    "gender_counts = customer_transactions['Gender'].value_counts()\n",
    "\n",
    "# Create a pie chart\n",
    "plt.figure(figsize=(7, 7))\n",
    "plt.pie(gender_counts, labels=gender_counts.index, autopct='%1.1f%%', startangle=140)\n",
    "plt.title('Gender Distribution Percentage')\n",
    "\n",
    "# Add a legend\n",
    "plt.legend()\n",
    "\n",
    "plt.show()"
   ]
  },
  {
   "cell_type": "code",
   "execution_count": null,
   "id": "ee482af2",
   "metadata": {},
   "outputs": [],
   "source": [
    "# Group by \"Age Group\" and count the number of each gender within each age group\n",
    "age_gender_distribution = customer_transactions.groupby(['Age Group', 'Gender']).size().unstack(fill_value=0)\n",
    "\n",
    "# Display the age-gender distribution\n",
    "print(age_gender_distribution)"
   ]
  },
  {
   "cell_type": "code",
   "execution_count": null,
   "id": "fb0c6478",
   "metadata": {},
   "outputs": [],
   "source": [
    "# Plot the age-gender distribution as a bar chart\n",
    "age_gender_distribution.plot(kind='bar')\n",
    "plt.title('Age-Gender Distribution')\n",
    "plt.xlabel('Age Group')\n",
    "plt.ylabel('Count')\n",
    "\n",
    "plt.show()"
   ]
  },
  {
   "cell_type": "markdown",
   "id": "0c304d1c",
   "metadata": {},
   "source": [
    " #### Question 7\n",
    " - Which merchant name had the highest number of transactions during the period?"
   ]
  },
  {
   "cell_type": "code",
   "execution_count": null,
   "id": "97d6513e",
   "metadata": {},
   "outputs": [],
   "source": [
    "# Group the data by the merchant and count the number of transactions for each merchant\n",
    "\n",
    "merchant_transaction_counts = customer_transactions['Merchant Name'].value_counts()\n",
    "\n",
    "merchant_with_highest_transactions = merchant_transaction_counts.idxmax()\n",
    "\n",
    "highest_transaction_count = merchant_transaction_counts.max()\n",
    "\n",
    "print(f\"The merchant with the highest number of transactions is '{merchant_with_highest_transactions}'\")\n",
    "print()\n",
    "print(f\"They have {highest_transaction_count} transactions.\")"
   ]
  },
  {
   "cell_type": "code",
   "execution_count": null,
   "id": "b011c757",
   "metadata": {},
   "outputs": [],
   "source": []
  }
 ],
 "metadata": {
  "kernelspec": {
   "display_name": "Python 3 (ipykernel)",
   "language": "python",
   "name": "python3"
  },
  "language_info": {
   "codemirror_mode": {
    "name": "ipython",
    "version": 3
   },
   "file_extension": ".py",
   "mimetype": "text/x-python",
   "name": "python",
   "nbconvert_exporter": "python",
   "pygments_lexer": "ipython3",
   "version": "3.11.1"
  }
 },
 "nbformat": 4,
 "nbformat_minor": 5
}
